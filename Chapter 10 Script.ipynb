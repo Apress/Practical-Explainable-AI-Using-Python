{
 "cells": [
  {
   "cell_type": "code",
   "execution_count": 59,
   "id": "graduate-first",
   "metadata": {},
   "outputs": [],
   "source": [
    "import pandas as pd"
   ]
  },
  {
   "cell_type": "code",
   "execution_count": 62,
   "id": "ready-cotton",
   "metadata": {},
   "outputs": [
    {
     "name": "stdout",
     "output_type": "stream",
     "text": [
      "Requirement already satisfied: xgboost in /opt/anaconda3/lib/python3.8/site-packages (1.3.3)\n",
      "Requirement already satisfied: numpy in /opt/anaconda3/lib/python3.8/site-packages (from xgboost) (1.19.2)\n",
      "Requirement already satisfied: scipy in /opt/anaconda3/lib/python3.8/site-packages (from xgboost) (1.6.1)\n",
      "\u001b[33mWARNING: Error parsing requirements for slicer: [Errno 2] No such file or directory: '/opt/anaconda3/lib/python3.8/site-packages/slicer-0.0.7.dist-info/METADATA'\u001b[0m\n"
     ]
    }
   ],
   "source": [
    "!pip install xgboost"
   ]
  },
  {
   "cell_type": "code",
   "execution_count": 63,
   "id": "spread-ozone",
   "metadata": {},
   "outputs": [],
   "source": [
    "import pandas as pd\n",
    "import xgboost as xgb\n",
    "import numpy as np\n",
    "import collections\n",
    "import witwidget\n",
    "\n",
    "from sklearn.model_selection import train_test_split\n",
    "from sklearn.metrics import accuracy_score, confusion_matrix\n",
    "from sklearn.utils import shuffle\n",
    "from witwidget.notebook.visualization import WitWidget, WitConfigBuilder"
   ]
  },
  {
   "cell_type": "code",
   "execution_count": 64,
   "id": "pleased-antarctica",
   "metadata": {},
   "outputs": [],
   "source": [
    "# if you get error in xgboost\n",
    "# run\n",
    "# conda install -c conda-forge xgboost"
   ]
  },
  {
   "cell_type": "code",
   "execution_count": 65,
   "id": "narrative-packing",
   "metadata": {},
   "outputs": [],
   "source": [
    "import pandas as pd"
   ]
  },
  {
   "cell_type": "code",
   "execution_count": 66,
   "id": "tracked-synthesis",
   "metadata": {},
   "outputs": [],
   "source": [
    "data = pd.read_csv('diabetes.csv')"
   ]
  },
  {
   "cell_type": "code",
   "execution_count": 67,
   "id": "mental-median",
   "metadata": {},
   "outputs": [
    {
     "data": {
      "text/html": [
       "<div>\n",
       "<style scoped>\n",
       "    .dataframe tbody tr th:only-of-type {\n",
       "        vertical-align: middle;\n",
       "    }\n",
       "\n",
       "    .dataframe tbody tr th {\n",
       "        vertical-align: top;\n",
       "    }\n",
       "\n",
       "    .dataframe thead th {\n",
       "        text-align: right;\n",
       "    }\n",
       "</style>\n",
       "<table border=\"1\" class=\"dataframe\">\n",
       "  <thead>\n",
       "    <tr style=\"text-align: right;\">\n",
       "      <th></th>\n",
       "      <th>Pregnancies</th>\n",
       "      <th>Glucose</th>\n",
       "      <th>BloodPressure</th>\n",
       "      <th>SkinThickness</th>\n",
       "      <th>Insulin</th>\n",
       "      <th>BMI</th>\n",
       "      <th>DiabetesPedigreeFunction</th>\n",
       "      <th>Age</th>\n",
       "      <th>Outcome</th>\n",
       "    </tr>\n",
       "  </thead>\n",
       "  <tbody>\n",
       "    <tr>\n",
       "      <th>0</th>\n",
       "      <td>6</td>\n",
       "      <td>148</td>\n",
       "      <td>72</td>\n",
       "      <td>35</td>\n",
       "      <td>0</td>\n",
       "      <td>33.6</td>\n",
       "      <td>0.627</td>\n",
       "      <td>50</td>\n",
       "      <td>1</td>\n",
       "    </tr>\n",
       "    <tr>\n",
       "      <th>1</th>\n",
       "      <td>1</td>\n",
       "      <td>85</td>\n",
       "      <td>66</td>\n",
       "      <td>29</td>\n",
       "      <td>0</td>\n",
       "      <td>26.6</td>\n",
       "      <td>0.351</td>\n",
       "      <td>31</td>\n",
       "      <td>0</td>\n",
       "    </tr>\n",
       "    <tr>\n",
       "      <th>2</th>\n",
       "      <td>8</td>\n",
       "      <td>183</td>\n",
       "      <td>64</td>\n",
       "      <td>0</td>\n",
       "      <td>0</td>\n",
       "      <td>23.3</td>\n",
       "      <td>0.672</td>\n",
       "      <td>32</td>\n",
       "      <td>1</td>\n",
       "    </tr>\n",
       "    <tr>\n",
       "      <th>3</th>\n",
       "      <td>1</td>\n",
       "      <td>89</td>\n",
       "      <td>66</td>\n",
       "      <td>23</td>\n",
       "      <td>94</td>\n",
       "      <td>28.1</td>\n",
       "      <td>0.167</td>\n",
       "      <td>21</td>\n",
       "      <td>0</td>\n",
       "    </tr>\n",
       "    <tr>\n",
       "      <th>4</th>\n",
       "      <td>0</td>\n",
       "      <td>137</td>\n",
       "      <td>40</td>\n",
       "      <td>35</td>\n",
       "      <td>168</td>\n",
       "      <td>43.1</td>\n",
       "      <td>2.288</td>\n",
       "      <td>33</td>\n",
       "      <td>1</td>\n",
       "    </tr>\n",
       "  </tbody>\n",
       "</table>\n",
       "</div>"
      ],
      "text/plain": [
       "   Pregnancies  Glucose  BloodPressure  SkinThickness  Insulin   BMI  \\\n",
       "0            6      148             72             35        0  33.6   \n",
       "1            1       85             66             29        0  26.6   \n",
       "2            8      183             64              0        0  23.3   \n",
       "3            1       89             66             23       94  28.1   \n",
       "4            0      137             40             35      168  43.1   \n",
       "\n",
       "   DiabetesPedigreeFunction  Age  Outcome  \n",
       "0                     0.627   50        1  \n",
       "1                     0.351   31        0  \n",
       "2                     0.672   32        1  \n",
       "3                     0.167   21        0  \n",
       "4                     2.288   33        1  "
      ]
     },
     "execution_count": 67,
     "metadata": {},
     "output_type": "execute_result"
    }
   ],
   "source": [
    "data.head()"
   ]
  },
  {
   "cell_type": "code",
   "execution_count": 68,
   "id": "removed-sport",
   "metadata": {},
   "outputs": [
    {
     "data": {
      "text/plain": [
       "Index(['Pregnancies', 'Glucose', 'BloodPressure', 'SkinThickness', 'Insulin',\n",
       "       'BMI', 'DiabetesPedigreeFunction', 'Age', 'Outcome'],\n",
       "      dtype='object')"
      ]
     },
     "execution_count": 68,
     "metadata": {},
     "output_type": "execute_result"
    }
   ],
   "source": [
    "data.columns"
   ]
  },
  {
   "cell_type": "code",
   "execution_count": 69,
   "id": "rolled-inspection",
   "metadata": {},
   "outputs": [],
   "source": [
    "from sklearn.model_selection import train_test_split"
   ]
  },
  {
   "cell_type": "code",
   "execution_count": 70,
   "id": "proof-carpet",
   "metadata": {},
   "outputs": [],
   "source": [
    "# Split the data into train / test sets\n",
    "y = data['Outcome']\n",
    "x = data[['Pregnancies', 'Glucose', 'BloodPressure', 'SkinThickness', 'Insulin',\n",
    "       'BMI', 'DiabetesPedigreeFunction', 'Age']]\n",
    "x_train,x_test,y_train,y_test = train_test_split(x,y,random_state=1234)"
   ]
  },
  {
   "cell_type": "code",
   "execution_count": 71,
   "id": "color-contamination",
   "metadata": {},
   "outputs": [
    {
     "name": "stderr",
     "output_type": "stream",
     "text": [
      "The use of label encoder in XGBClassifier is deprecated and will be removed in a future release. To remove this warning, do the following: 1) Pass option use_label_encoder=False when constructing XGBClassifier object; and 2) Encode your labels (y) as integers starting with 0, i.e. 0, 1, 2, ..., [num_class - 1].\n"
     ]
    },
    {
     "data": {
      "text/plain": [
       "XGBClassifier(base_score=0.5, booster='gbtree', colsample_bylevel=1,\n",
       "              colsample_bynode=1, colsample_bytree=1, gamma=0, gpu_id=-1,\n",
       "              importance_type='gain', interaction_constraints='',\n",
       "              learning_rate=0.300000012, max_delta_step=0, max_depth=6,\n",
       "              min_child_weight=1, missing=nan, monotone_constraints='()',\n",
       "              n_estimators=100, n_jobs=4, num_parallel_tree=1,\n",
       "              objective='reg:logistic', random_state=0, reg_alpha=0,\n",
       "              reg_lambda=1, scale_pos_weight=1, subsample=1,\n",
       "              tree_method='exact', validate_parameters=1, verbosity=None)"
      ]
     },
     "execution_count": 71,
     "metadata": {},
     "output_type": "execute_result"
    }
   ],
   "source": [
    "# Train the model, this will take a few minutes to run\n",
    "bst = xgb.XGBClassifier(\n",
    "    objective='reg:logistic'\n",
    ")\n",
    "\n",
    "bst.fit(x_train, y_train)"
   ]
  },
  {
   "cell_type": "code",
   "execution_count": 72,
   "id": "confirmed-labor",
   "metadata": {},
   "outputs": [
    {
     "name": "stdout",
     "output_type": "stream",
     "text": [
      "0.7291666666666666 \n",
      "\n"
     ]
    }
   ],
   "source": [
    "# Get predictions on the test set and print the accuracy score\n",
    "y_pred = bst.predict(x_test)\n",
    "acc = accuracy_score(np.array(y_test), y_pred)\n",
    "print(acc, '\\n')"
   ]
  },
  {
   "cell_type": "code",
   "execution_count": 73,
   "id": "imposed-satin",
   "metadata": {},
   "outputs": [
    {
     "name": "stdout",
     "output_type": "stream",
     "text": [
      "Confusion matrix:\n",
      "[[101  20]\n",
      " [ 32  39]]\n"
     ]
    }
   ],
   "source": [
    "# Print a confusion matrix\n",
    "print('Confusion matrix:')\n",
    "cm = confusion_matrix(y_test, y_pred)\n",
    "print(cm)"
   ]
  },
  {
   "cell_type": "code",
   "execution_count": 74,
   "id": "successful-cliff",
   "metadata": {},
   "outputs": [],
   "source": [
    "# Save the model so we can deploy it\n",
    "bst.save_model('model.bst')"
   ]
  },
  {
   "cell_type": "code",
   "execution_count": 75,
   "id": "starting-montreal",
   "metadata": {},
   "outputs": [
    {
     "data": {
      "text/plain": [
       "XGBClassifier(base_score=0.5, booster='gbtree', colsample_bylevel=1,\n",
       "              colsample_bynode=1, colsample_bytree=1, gamma=0, gpu_id=-1,\n",
       "              importance_type='gain', interaction_constraints='',\n",
       "              learning_rate=0.300000012, max_delta_step=0, max_depth=6,\n",
       "              min_child_weight=1, missing=nan, monotone_constraints='()',\n",
       "              n_estimators=100, n_jobs=4, num_parallel_tree=1,\n",
       "              objective='reg:logistic', random_state=0, reg_alpha=0,\n",
       "              reg_lambda=1, scale_pos_weight=1, subsample=1,\n",
       "              tree_method='exact', validate_parameters=1, verbosity=None)"
      ]
     },
     "execution_count": 75,
     "metadata": {},
     "output_type": "execute_result"
    }
   ],
   "source": [
    "bst"
   ]
  },
  {
   "cell_type": "code",
   "execution_count": 77,
   "id": "difficult-humanity",
   "metadata": {},
   "outputs": [
    {
     "data": {
      "text/html": [
       "<div>\n",
       "<style scoped>\n",
       "    .dataframe tbody tr th:only-of-type {\n",
       "        vertical-align: middle;\n",
       "    }\n",
       "\n",
       "    .dataframe tbody tr th {\n",
       "        vertical-align: top;\n",
       "    }\n",
       "\n",
       "    .dataframe thead th {\n",
       "        text-align: right;\n",
       "    }\n",
       "</style>\n",
       "<table border=\"1\" class=\"dataframe\">\n",
       "  <thead>\n",
       "    <tr style=\"text-align: right;\">\n",
       "      <th></th>\n",
       "      <th>Pregnancies</th>\n",
       "      <th>Glucose</th>\n",
       "      <th>BloodPressure</th>\n",
       "      <th>SkinThickness</th>\n",
       "      <th>Insulin</th>\n",
       "      <th>BMI</th>\n",
       "      <th>DiabetesPedigreeFunction</th>\n",
       "      <th>Age</th>\n",
       "    </tr>\n",
       "  </thead>\n",
       "  <tbody>\n",
       "    <tr>\n",
       "      <th>8</th>\n",
       "      <td>2</td>\n",
       "      <td>197</td>\n",
       "      <td>70</td>\n",
       "      <td>45</td>\n",
       "      <td>543</td>\n",
       "      <td>30.5</td>\n",
       "      <td>0.158</td>\n",
       "      <td>53</td>\n",
       "    </tr>\n",
       "    <tr>\n",
       "      <th>719</th>\n",
       "      <td>5</td>\n",
       "      <td>97</td>\n",
       "      <td>76</td>\n",
       "      <td>27</td>\n",
       "      <td>0</td>\n",
       "      <td>35.6</td>\n",
       "      <td>0.378</td>\n",
       "      <td>52</td>\n",
       "    </tr>\n",
       "    <tr>\n",
       "      <th>296</th>\n",
       "      <td>2</td>\n",
       "      <td>146</td>\n",
       "      <td>70</td>\n",
       "      <td>38</td>\n",
       "      <td>360</td>\n",
       "      <td>28.0</td>\n",
       "      <td>0.337</td>\n",
       "      <td>29</td>\n",
       "    </tr>\n",
       "    <tr>\n",
       "      <th>651</th>\n",
       "      <td>1</td>\n",
       "      <td>117</td>\n",
       "      <td>60</td>\n",
       "      <td>23</td>\n",
       "      <td>106</td>\n",
       "      <td>33.8</td>\n",
       "      <td>0.466</td>\n",
       "      <td>27</td>\n",
       "    </tr>\n",
       "    <tr>\n",
       "      <th>93</th>\n",
       "      <td>4</td>\n",
       "      <td>134</td>\n",
       "      <td>72</td>\n",
       "      <td>0</td>\n",
       "      <td>0</td>\n",
       "      <td>23.8</td>\n",
       "      <td>0.277</td>\n",
       "      <td>60</td>\n",
       "    </tr>\n",
       "  </tbody>\n",
       "</table>\n",
       "</div>"
      ],
      "text/plain": [
       "     Pregnancies  Glucose  BloodPressure  SkinThickness  Insulin   BMI  \\\n",
       "8              2      197             70             45      543  30.5   \n",
       "719            5       97             76             27        0  35.6   \n",
       "296            2      146             70             38      360  28.0   \n",
       "651            1      117             60             23      106  33.8   \n",
       "93             4      134             72              0        0  23.8   \n",
       "\n",
       "     DiabetesPedigreeFunction  Age  \n",
       "8                       0.158   53  \n",
       "719                     0.378   52  \n",
       "296                     0.337   29  \n",
       "651                     0.466   27  \n",
       "93                      0.277   60  "
      ]
     },
     "execution_count": 77,
     "metadata": {},
     "output_type": "execute_result"
    }
   ],
   "source": [
    "x_train.head()"
   ]
  },
  {
   "cell_type": "code",
   "execution_count": 78,
   "id": "failing-chapter",
   "metadata": {},
   "outputs": [
    {
     "data": {
      "text/plain": [
       "array([1, 1, 1, 0, 1])"
      ]
     },
     "execution_count": 78,
     "metadata": {},
     "output_type": "execute_result"
    }
   ],
   "source": [
    "bst.predict(x_train.head())"
   ]
  },
  {
   "cell_type": "code",
   "execution_count": 79,
   "id": "angry-nicaragua",
   "metadata": {},
   "outputs": [
    {
     "data": {
      "text/plain": [
       "8      1\n",
       "719    1\n",
       "296    1\n",
       "651    0\n",
       "93     1\n",
       "Name: Outcome, dtype: int64"
      ]
     },
     "execution_count": 79,
     "metadata": {},
     "output_type": "execute_result"
    }
   ],
   "source": [
    "y_train.head()"
   ]
  },
  {
   "cell_type": "code",
   "execution_count": 80,
   "id": "developmental-eight",
   "metadata": {},
   "outputs": [
    {
     "name": "stderr",
     "output_type": "stream",
     "text": [
      "\n",
      "A value is trying to be set on a copy of a slice from a DataFrame.\n",
      "Try using .loc[row_indexer,col_indexer] = value instead\n",
      "\n",
      "See the caveats in the documentation: https://pandas.pydata.org/pandas-docs/stable/user_guide/indexing.html#returning-a-view-versus-a-copy\n"
     ]
    }
   ],
   "source": [
    "x_train.iloc[3] = x_train.iloc[1]"
   ]
  },
  {
   "cell_type": "code",
   "execution_count": 81,
   "id": "plain-patrick",
   "metadata": {},
   "outputs": [
    {
     "data": {
      "text/html": [
       "<div>\n",
       "<style scoped>\n",
       "    .dataframe tbody tr th:only-of-type {\n",
       "        vertical-align: middle;\n",
       "    }\n",
       "\n",
       "    .dataframe tbody tr th {\n",
       "        vertical-align: top;\n",
       "    }\n",
       "\n",
       "    .dataframe thead th {\n",
       "        text-align: right;\n",
       "    }\n",
       "</style>\n",
       "<table border=\"1\" class=\"dataframe\">\n",
       "  <thead>\n",
       "    <tr style=\"text-align: right;\">\n",
       "      <th></th>\n",
       "      <th>Pregnancies</th>\n",
       "      <th>Glucose</th>\n",
       "      <th>BloodPressure</th>\n",
       "      <th>SkinThickness</th>\n",
       "      <th>Insulin</th>\n",
       "      <th>BMI</th>\n",
       "      <th>DiabetesPedigreeFunction</th>\n",
       "      <th>Age</th>\n",
       "    </tr>\n",
       "  </thead>\n",
       "  <tbody>\n",
       "    <tr>\n",
       "      <th>8</th>\n",
       "      <td>2</td>\n",
       "      <td>197</td>\n",
       "      <td>70</td>\n",
       "      <td>45</td>\n",
       "      <td>543</td>\n",
       "      <td>30.5</td>\n",
       "      <td>0.158</td>\n",
       "      <td>53</td>\n",
       "    </tr>\n",
       "    <tr>\n",
       "      <th>719</th>\n",
       "      <td>5</td>\n",
       "      <td>97</td>\n",
       "      <td>76</td>\n",
       "      <td>27</td>\n",
       "      <td>0</td>\n",
       "      <td>35.6</td>\n",
       "      <td>0.378</td>\n",
       "      <td>52</td>\n",
       "    </tr>\n",
       "    <tr>\n",
       "      <th>296</th>\n",
       "      <td>2</td>\n",
       "      <td>146</td>\n",
       "      <td>70</td>\n",
       "      <td>38</td>\n",
       "      <td>360</td>\n",
       "      <td>28.0</td>\n",
       "      <td>0.337</td>\n",
       "      <td>29</td>\n",
       "    </tr>\n",
       "    <tr>\n",
       "      <th>651</th>\n",
       "      <td>5</td>\n",
       "      <td>97</td>\n",
       "      <td>76</td>\n",
       "      <td>27</td>\n",
       "      <td>0</td>\n",
       "      <td>35.6</td>\n",
       "      <td>0.378</td>\n",
       "      <td>52</td>\n",
       "    </tr>\n",
       "    <tr>\n",
       "      <th>93</th>\n",
       "      <td>4</td>\n",
       "      <td>134</td>\n",
       "      <td>72</td>\n",
       "      <td>0</td>\n",
       "      <td>0</td>\n",
       "      <td>23.8</td>\n",
       "      <td>0.277</td>\n",
       "      <td>60</td>\n",
       "    </tr>\n",
       "  </tbody>\n",
       "</table>\n",
       "</div>"
      ],
      "text/plain": [
       "     Pregnancies  Glucose  BloodPressure  SkinThickness  Insulin   BMI  \\\n",
       "8              2      197             70             45      543  30.5   \n",
       "719            5       97             76             27        0  35.6   \n",
       "296            2      146             70             38      360  28.0   \n",
       "651            5       97             76             27        0  35.6   \n",
       "93             4      134             72              0        0  23.8   \n",
       "\n",
       "     DiabetesPedigreeFunction  Age  \n",
       "8                       0.158   53  \n",
       "719                     0.378   52  \n",
       "296                     0.337   29  \n",
       "651                     0.378   52  \n",
       "93                      0.277   60  "
      ]
     },
     "execution_count": 81,
     "metadata": {},
     "output_type": "execute_result"
    }
   ],
   "source": [
    "x_train.head()"
   ]
  },
  {
   "cell_type": "code",
   "execution_count": 82,
   "id": "resident-namibia",
   "metadata": {},
   "outputs": [
    {
     "data": {
      "text/plain": [
       "array([1, 1, 1, 1, 1])"
      ]
     },
     "execution_count": 82,
     "metadata": {},
     "output_type": "execute_result"
    }
   ],
   "source": [
    "bst.predict(x_train.head())"
   ]
  },
  {
   "cell_type": "code",
   "execution_count": 83,
   "id": "massive-dollar",
   "metadata": {},
   "outputs": [
    {
     "name": "stderr",
     "output_type": "stream",
     "text": [
      "\n",
      "A value is trying to be set on a copy of a slice from a DataFrame.\n",
      "Try using .loc[row_indexer,col_indexer] = value instead\n",
      "\n",
      "See the caveats in the documentation: https://pandas.pydata.org/pandas-docs/stable/user_guide/indexing.html#returning-a-view-versus-a-copy\n"
     ]
    }
   ],
   "source": [
    "x_train.iloc[3] = [1, 117, 60, 23, 106, 33.8, 0.466, 27]"
   ]
  },
  {
   "cell_type": "code",
   "execution_count": 84,
   "id": "architectural-original",
   "metadata": {},
   "outputs": [
    {
     "data": {
      "text/html": [
       "<div>\n",
       "<style scoped>\n",
       "    .dataframe tbody tr th:only-of-type {\n",
       "        vertical-align: middle;\n",
       "    }\n",
       "\n",
       "    .dataframe tbody tr th {\n",
       "        vertical-align: top;\n",
       "    }\n",
       "\n",
       "    .dataframe thead th {\n",
       "        text-align: right;\n",
       "    }\n",
       "</style>\n",
       "<table border=\"1\" class=\"dataframe\">\n",
       "  <thead>\n",
       "    <tr style=\"text-align: right;\">\n",
       "      <th></th>\n",
       "      <th>Pregnancies</th>\n",
       "      <th>Glucose</th>\n",
       "      <th>BloodPressure</th>\n",
       "      <th>SkinThickness</th>\n",
       "      <th>Insulin</th>\n",
       "      <th>BMI</th>\n",
       "      <th>DiabetesPedigreeFunction</th>\n",
       "      <th>Age</th>\n",
       "    </tr>\n",
       "  </thead>\n",
       "  <tbody>\n",
       "    <tr>\n",
       "      <th>8</th>\n",
       "      <td>2</td>\n",
       "      <td>197</td>\n",
       "      <td>70</td>\n",
       "      <td>45</td>\n",
       "      <td>543</td>\n",
       "      <td>30.5</td>\n",
       "      <td>0.158</td>\n",
       "      <td>53</td>\n",
       "    </tr>\n",
       "    <tr>\n",
       "      <th>719</th>\n",
       "      <td>5</td>\n",
       "      <td>97</td>\n",
       "      <td>76</td>\n",
       "      <td>27</td>\n",
       "      <td>0</td>\n",
       "      <td>35.6</td>\n",
       "      <td>0.378</td>\n",
       "      <td>52</td>\n",
       "    </tr>\n",
       "    <tr>\n",
       "      <th>296</th>\n",
       "      <td>2</td>\n",
       "      <td>146</td>\n",
       "      <td>70</td>\n",
       "      <td>38</td>\n",
       "      <td>360</td>\n",
       "      <td>28.0</td>\n",
       "      <td>0.337</td>\n",
       "      <td>29</td>\n",
       "    </tr>\n",
       "    <tr>\n",
       "      <th>651</th>\n",
       "      <td>1</td>\n",
       "      <td>117</td>\n",
       "      <td>60</td>\n",
       "      <td>23</td>\n",
       "      <td>106</td>\n",
       "      <td>33.8</td>\n",
       "      <td>0.466</td>\n",
       "      <td>27</td>\n",
       "    </tr>\n",
       "    <tr>\n",
       "      <th>93</th>\n",
       "      <td>4</td>\n",
       "      <td>134</td>\n",
       "      <td>72</td>\n",
       "      <td>0</td>\n",
       "      <td>0</td>\n",
       "      <td>23.8</td>\n",
       "      <td>0.277</td>\n",
       "      <td>60</td>\n",
       "    </tr>\n",
       "  </tbody>\n",
       "</table>\n",
       "</div>"
      ],
      "text/plain": [
       "     Pregnancies  Glucose  BloodPressure  SkinThickness  Insulin   BMI  \\\n",
       "8              2      197             70             45      543  30.5   \n",
       "719            5       97             76             27        0  35.6   \n",
       "296            2      146             70             38      360  28.0   \n",
       "651            1      117             60             23      106  33.8   \n",
       "93             4      134             72              0        0  23.8   \n",
       "\n",
       "     DiabetesPedigreeFunction  Age  \n",
       "8                       0.158   53  \n",
       "719                     0.378   52  \n",
       "296                     0.337   29  \n",
       "651                     0.466   27  \n",
       "93                      0.277   60  "
      ]
     },
     "execution_count": 84,
     "metadata": {},
     "output_type": "execute_result"
    }
   ],
   "source": [
    "x_train.head()"
   ]
  },
  {
   "cell_type": "code",
   "execution_count": 85,
   "id": "improving-manhattan",
   "metadata": {},
   "outputs": [
    {
     "data": {
      "text/html": [
       "<div>\n",
       "<style scoped>\n",
       "    .dataframe tbody tr th:only-of-type {\n",
       "        vertical-align: middle;\n",
       "    }\n",
       "\n",
       "    .dataframe tbody tr th {\n",
       "        vertical-align: top;\n",
       "    }\n",
       "\n",
       "    .dataframe thead th {\n",
       "        text-align: right;\n",
       "    }\n",
       "</style>\n",
       "<table border=\"1\" class=\"dataframe\">\n",
       "  <thead>\n",
       "    <tr style=\"text-align: right;\">\n",
       "      <th></th>\n",
       "      <th>features_importance</th>\n",
       "      <th>feature_names</th>\n",
       "    </tr>\n",
       "  </thead>\n",
       "  <tbody>\n",
       "    <tr>\n",
       "      <th>1</th>\n",
       "      <td>0.256590</td>\n",
       "      <td>Glucose</td>\n",
       "    </tr>\n",
       "    <tr>\n",
       "      <th>5</th>\n",
       "      <td>0.150868</td>\n",
       "      <td>BMI</td>\n",
       "    </tr>\n",
       "    <tr>\n",
       "      <th>7</th>\n",
       "      <td>0.122263</td>\n",
       "      <td>Age</td>\n",
       "    </tr>\n",
       "    <tr>\n",
       "      <th>4</th>\n",
       "      <td>0.111036</td>\n",
       "      <td>Insulin</td>\n",
       "    </tr>\n",
       "    <tr>\n",
       "      <th>6</th>\n",
       "      <td>0.096079</td>\n",
       "      <td>DiabetesPedigreeFunction</td>\n",
       "    </tr>\n",
       "    <tr>\n",
       "      <th>3</th>\n",
       "      <td>0.093502</td>\n",
       "      <td>SkinThickness</td>\n",
       "    </tr>\n",
       "    <tr>\n",
       "      <th>0</th>\n",
       "      <td>0.087773</td>\n",
       "      <td>Pregnancies</td>\n",
       "    </tr>\n",
       "    <tr>\n",
       "      <th>2</th>\n",
       "      <td>0.081890</td>\n",
       "      <td>BloodPressure</td>\n",
       "    </tr>\n",
       "  </tbody>\n",
       "</table>\n",
       "</div>"
      ],
      "text/plain": [
       "   features_importance             feature_names\n",
       "1             0.256590                   Glucose\n",
       "5             0.150868                       BMI\n",
       "7             0.122263                       Age\n",
       "4             0.111036                   Insulin\n",
       "6             0.096079  DiabetesPedigreeFunction\n",
       "3             0.093502             SkinThickness\n",
       "0             0.087773               Pregnancies\n",
       "2             0.081890             BloodPressure"
      ]
     },
     "execution_count": 85,
     "metadata": {},
     "output_type": "execute_result"
    }
   ],
   "source": [
    "result = pd.DataFrame()\n",
    "result['features_importance'] = bst.feature_importances_\n",
    "result['feature_names'] = x_train.columns\n",
    "result.sort_values(by=['features_importance'],ascending=False)"
   ]
  },
  {
   "cell_type": "code",
   "execution_count": 86,
   "id": "environmental-nelson",
   "metadata": {},
   "outputs": [
    {
     "name": "stderr",
     "output_type": "stream",
     "text": [
      "\n",
      "A value is trying to be set on a copy of a slice from a DataFrame.\n",
      "Try using .loc[row_indexer,col_indexer] = value instead\n",
      "\n",
      "See the caveats in the documentation: https://pandas.pydata.org/pandas-docs/stable/user_guide/indexing.html#returning-a-view-versus-a-copy\n"
     ]
    },
    {
     "data": {
      "text/plain": [
       "Index(['Pregnancies', 'Glucose', 'BloodPressure', 'SkinThickness', 'Insulin',\n",
       "       'BMI', 'DiabetesPedigreeFunction', 'Age'],\n",
       "      dtype='object')"
      ]
     },
     "execution_count": 86,
     "metadata": {},
     "output_type": "execute_result"
    }
   ],
   "source": [
    "# we will make small changes to the values\n",
    "x_train.iloc[2] = [2, 146, 70, 38, 360, 28.0, 0.337, 29]\n",
    "x_train.iloc[2]\n",
    "x_train.columns"
   ]
  },
  {
   "cell_type": "code",
   "execution_count": 87,
   "id": "accepted-amplifier",
   "metadata": {},
   "outputs": [
    {
     "data": {
      "text/plain": [
       "array([1, 1, 1, 0, 1])"
      ]
     },
     "execution_count": 87,
     "metadata": {},
     "output_type": "execute_result"
    }
   ],
   "source": [
    "bst.predict(x_train.head())"
   ]
  },
  {
   "cell_type": "code",
   "execution_count": 88,
   "id": "proud-sierra",
   "metadata": {},
   "outputs": [
    {
     "data": {
      "text/plain": [
       "8      1\n",
       "719    1\n",
       "296    1\n",
       "651    0\n",
       "93     1\n",
       "Name: Outcome, dtype: int64"
      ]
     },
     "execution_count": 88,
     "metadata": {},
     "output_type": "execute_result"
    }
   ],
   "source": [
    "y_train.head()"
   ]
  },
  {
   "cell_type": "code",
   "execution_count": 89,
   "id": "eastern-darwin",
   "metadata": {},
   "outputs": [
    {
     "data": {
      "text/plain": [
       "8      1\n",
       "719    1\n",
       "296    1\n",
       "651    0\n",
       "93     1\n",
       "Name: Outcome, dtype: int64"
      ]
     },
     "execution_count": 89,
     "metadata": {},
     "output_type": "execute_result"
    }
   ],
   "source": [
    "# if we change the important features such as Glucose and Age\n",
    "\n",
    "x_train.iloc[2] = [3, 117, 76, 36, 245, 31.6, 0.851, 27]\n",
    "x_train.iloc[2]\n",
    "x_train.columns\n",
    "\n",
    "bst.predict(x_train.head())\n",
    "\n",
    "y_train.head()"
   ]
  },
  {
   "cell_type": "code",
   "execution_count": 90,
   "id": "bigger-formation",
   "metadata": {},
   "outputs": [
    {
     "data": {
      "text/plain": [
       "8      1\n",
       "719    1\n",
       "296    1\n",
       "651    0\n",
       "93     1\n",
       "Name: Outcome, dtype: int64"
      ]
     },
     "execution_count": 90,
     "metadata": {},
     "output_type": "execute_result"
    }
   ],
   "source": [
    "# if we change the important features such as Glucose, BMI and Age\n",
    "\n",
    "x_train.iloc[2] = [3, 117, 76, 36, 245, 30.6, 0.851, 29]\n",
    "x_train.iloc[2]\n",
    "x_train.columns\n",
    "\n",
    "bst.predict(x_train.head())\n",
    "\n",
    "y_train.head()"
   ]
  },
  {
   "cell_type": "code",
   "execution_count": 91,
   "id": "personal-genius",
   "metadata": {},
   "outputs": [
    {
     "name": "stdout",
     "output_type": "stream",
     "text": [
      "TF version:  2.4.1\n",
      "Eager execution enabled:  False\n"
     ]
    }
   ],
   "source": [
    "import tensorflow as tf\n",
    "tf.get_logger().setLevel(40) # suppress deprecation messages\n",
    "tf.compat.v1.disable_v2_behavior() # disable TF2 behaviour as alibi code still relies on TF1 constructs\n",
    "from tensorflow.keras.layers import Dense, Input\n",
    "from tensorflow.keras.models import Model, load_model\n",
    "from tensorflow.keras.utils import to_categorical\n",
    "import matplotlib\n",
    "%matplotlib inline\n",
    "import matplotlib.pyplot as plt\n",
    "import numpy as np\n",
    "import os\n",
    "from alibi.explainers import CounterFactualProto\n",
    "\n",
    "print('TF version: ', tf.__version__)\n",
    "print('Eager execution enabled: ', tf.executing_eagerly()) # False"
   ]
  },
  {
   "cell_type": "code",
   "execution_count": 92,
   "id": "arctic-whale",
   "metadata": {},
   "outputs": [
    {
     "data": {
      "text/plain": [
       "((576, 8), (576,), (192, 8), (192,))"
      ]
     },
     "execution_count": 92,
     "metadata": {},
     "output_type": "execute_result"
    }
   ],
   "source": [
    "x_train.shape, y_train.shape, x_test.shape, y_test.shape"
   ]
  },
  {
   "cell_type": "code",
   "execution_count": 93,
   "id": "indoor-liquid",
   "metadata": {},
   "outputs": [],
   "source": [
    "y_train = to_categorical(y_train)\n",
    "y_test = to_categorical(y_test)"
   ]
  },
  {
   "cell_type": "code",
   "execution_count": 94,
   "id": "weird-salvation",
   "metadata": {},
   "outputs": [],
   "source": [
    "np.random.seed(42)\n",
    "tf.random.set_seed(42)"
   ]
  },
  {
   "cell_type": "code",
   "execution_count": 95,
   "id": "going-shopper",
   "metadata": {},
   "outputs": [],
   "source": [
    "def nn_model():\n",
    "    x_in = Input(shape=(8,))\n",
    "    x = Dense(40, activation='relu')(x_in)\n",
    "    x = Dense(40, activation='relu')(x)\n",
    "    x_out = Dense(2, activation='softmax')(x)\n",
    "    nn = Model(inputs=x_in, outputs=x_out)\n",
    "    nn.compile(loss='categorical_crossentropy', optimizer='sgd', metrics=['accuracy'])\n",
    "    return nn"
   ]
  },
  {
   "cell_type": "code",
   "execution_count": 96,
   "id": "smart-shaft",
   "metadata": {},
   "outputs": [
    {
     "name": "stdout",
     "output_type": "stream",
     "text": [
      "Model: \"model_1\"\n",
      "_________________________________________________________________\n",
      "Layer (type)                 Output Shape              Param #   \n",
      "=================================================================\n",
      "input_2 (InputLayer)         [(None, 8)]               0         \n",
      "_________________________________________________________________\n",
      "dense_3 (Dense)              (None, 40)                360       \n",
      "_________________________________________________________________\n",
      "dense_4 (Dense)              (None, 40)                1640      \n",
      "_________________________________________________________________\n",
      "dense_5 (Dense)              (None, 2)                 82        \n",
      "=================================================================\n",
      "Total params: 2,082\n",
      "Trainable params: 2,082\n",
      "Non-trainable params: 0\n",
      "_________________________________________________________________\n"
     ]
    }
   ],
   "source": [
    "nn = nn_model()\n",
    "nn.summary()\n",
    "nn.fit(x_train, y_train, batch_size=64, epochs=500, verbose=0)\n",
    "nn.save('nn_diabetes.h5', save_format='h5')"
   ]
  },
  {
   "cell_type": "code",
   "execution_count": 97,
   "id": "outdoor-pierce",
   "metadata": {},
   "outputs": [
    {
     "name": "stdout",
     "output_type": "stream",
     "text": [
      "Test accuracy:  0.71875\n"
     ]
    },
    {
     "name": "stderr",
     "output_type": "stream",
     "text": [
      "`Model.state_updates` will be removed in a future version. This property should not be used in TensorFlow 2.0, as `updates` are applied automatically.\n"
     ]
    }
   ],
   "source": [
    "nn = load_model('nn_diabetes.h5')\n",
    "score = nn.evaluate(x_test, y_test, verbose=0)\n",
    "print('Test accuracy: ', score[1])"
   ]
  },
  {
   "cell_type": "code",
   "execution_count": 98,
   "id": "joined-china",
   "metadata": {},
   "outputs": [],
   "source": [
    "#Generate counterfactual guided by the nearest class prototype"
   ]
  },
  {
   "cell_type": "code",
   "execution_count": 99,
   "id": "ethical-melbourne",
   "metadata": {},
   "outputs": [],
   "source": [
    "X = np.array(x_test)[1].reshape((1,) + np.array(x_test)[1].shape)\n",
    "shape = X.shape"
   ]
  },
  {
   "cell_type": "code",
   "execution_count": 100,
   "id": "immediate-fiction",
   "metadata": {},
   "outputs": [
    {
     "data": {
      "text/plain": [
       "(1, 8)"
      ]
     },
     "execution_count": 100,
     "metadata": {},
     "output_type": "execute_result"
    }
   ],
   "source": [
    "shape"
   ]
  },
  {
   "cell_type": "code",
   "execution_count": 101,
   "id": "diagnostic-breakdown",
   "metadata": {},
   "outputs": [
    {
     "data": {
      "text/plain": [
       "CounterFactualProto(meta={\n",
       "  'name': 'CounterFactualProto',\n",
       "  'type': ['blackbox', 'tensorflow', 'keras'],\n",
       "  'explanations': ['local'],\n",
       "  'params': {\n",
       "              'kappa': 0.0,\n",
       "              'beta': 0.1,\n",
       "              'feature_range': (array([ 0.   ,  0.   ,  0.   ,  0.   ,  0.   ,  0.   ,  0.078, 21.   ]), array([ 15.  , 198.  , 122.  ,  63.  , 846.  ,  67.1 ,   2.42,  81.  ])),\n",
       "              'gamma': 0.0,\n",
       "              'theta': 10.0,\n",
       "              'cat_vars': None,\n",
       "              'ohe': False,\n",
       "              'use_kdtree': False,\n",
       "              'learning_rate_init': 0.01,\n",
       "              'max_iterations': 1000,\n",
       "              'c_init': 1.0,\n",
       "              'c_steps': 10,\n",
       "              'eps': (0.001, 0.001),\n",
       "              'clip': (-1000.0, 1000.0),\n",
       "              'update_num_grad': 1,\n",
       "              'write_dir': None,\n",
       "              'shape': (1, 8),\n",
       "              'is_model': False,\n",
       "              'is_model_keras': False,\n",
       "              'is_ae': False,\n",
       "              'is_ae_keras': False,\n",
       "              'is_enc': False,\n",
       "              'is_enc_keras': False,\n",
       "              'enc_or_kdtree': False,\n",
       "              'is_cat': False,\n",
       "              'trustscore_kwargs': None,\n",
       "              'd_type': 'abdm',\n",
       "              'w': None,\n",
       "              'disc_perc': (25, 50, 75),\n",
       "              'standardize_cat_vars': False,\n",
       "              'smooth': 1.0,\n",
       "              'center': True,\n",
       "              'update_feature_range': True}\n",
       "            }\n",
       ")"
      ]
     },
     "execution_count": 101,
     "metadata": {},
     "output_type": "execute_result"
    }
   ],
   "source": [
    "# define model\n",
    "nn = load_model('nn_diabetes.h5')\n",
    "\n",
    "predict_fn = lambda x: nn.predict(x)\n",
    "\n",
    "# initialize explainer, fit and generate counterfactual\n",
    "cf = CounterFactualProto(predict_fn, shape, use_kdtree=False, theta=10., max_iterations=1000,\n",
    "                         feature_range=(np.array(x_train).min(axis=0), np.array(x_train).max(axis=0)),\n",
    "                         c_init=1., c_steps=10)\n",
    "cf.fit(x_train)"
   ]
  },
  {
   "cell_type": "code",
   "execution_count": 102,
   "id": "labeled-aside",
   "metadata": {},
   "outputs": [
    {
     "data": {
      "text/plain": [
       "Pregnancies                  0.000\n",
       "Glucose                      0.000\n",
       "BloodPressure                0.000\n",
       "SkinThickness                0.000\n",
       "Insulin                      0.000\n",
       "BMI                          0.000\n",
       "DiabetesPedigreeFunction     0.078\n",
       "Age                         21.000\n",
       "dtype: float64"
      ]
     },
     "execution_count": 102,
     "metadata": {},
     "output_type": "execute_result"
    }
   ],
   "source": [
    "x_train.min(axis=0)"
   ]
  },
  {
   "cell_type": "code",
   "execution_count": 103,
   "id": "passive-notification",
   "metadata": {},
   "outputs": [],
   "source": [
    "explanation = cf.explain(X)"
   ]
  },
  {
   "cell_type": "code",
   "execution_count": 106,
   "id": "systematic-ancient",
   "metadata": {},
   "outputs": [
    {
     "name": "stdout",
     "output_type": "stream",
     "text": [
      "Explanation(meta={\n",
      "  'name': 'CounterFactualProto',\n",
      "  'type': ['blackbox', 'tensorflow', 'keras'],\n",
      "  'explanations': ['local'],\n",
      "  'params': {\n",
      "              'kappa': 0.0,\n",
      "              'beta': 0.1,\n",
      "              'feature_range': (array([ 0.   ,  0.   ,  0.   ,  0.   ,  0.   ,  0.   ,  0.078, 21.   ]), array([ 15.  , 198.  , 122.  ,  63.  , 846.  ,  67.1 ,   2.42,  81.  ])),\n",
      "              'gamma': 0.0,\n",
      "              'theta': 10.0,\n",
      "              'cat_vars': None,\n",
      "              'ohe': False,\n",
      "              'use_kdtree': False,\n",
      "              'learning_rate_init': 0.01,\n",
      "              'max_iterations': 1000,\n",
      "              'c_init': 1.0,\n",
      "              'c_steps': 10,\n",
      "              'eps': (0.001, 0.001),\n",
      "              'clip': (-1000.0, 1000.0),\n",
      "              'update_num_grad': 1,\n",
      "              'write_dir': None,\n",
      "              'shape': (1, 8),\n",
      "              'is_model': False,\n",
      "              'is_model_keras': False,\n",
      "              'is_ae': False,\n",
      "              'is_ae_keras': False,\n",
      "              'is_enc': False,\n",
      "              'is_enc_keras': False,\n",
      "              'enc_or_kdtree': False,\n",
      "              'is_cat': False,\n",
      "              'trustscore_kwargs': None,\n",
      "              'd_type': 'abdm',\n",
      "              'w': None,\n",
      "              'disc_perc': (25, 50, 75),\n",
      "              'standardize_cat_vars': False,\n",
      "              'smooth': 1.0,\n",
      "              'center': True,\n",
      "              'update_feature_range': True}\n",
      "            }\n",
      ", data={\n",
      "  'cf': {\n",
      "          'X': array([[2.5628092e+00, 1.7726180e+02, 7.6516624e+01, 2.4388657e+01,\n",
      "        7.2130630e+01, 2.6932917e+01, 7.8000002e-02, 2.2944651e+01]],\n",
      "      dtype=float32),\n",
      "          'class': 1,\n",
      "          'proba': array([[0.4956944, 0.5043056]], dtype=float32),\n",
      "          'grads_graph': array([[ -0.7179985 ,  -5.005951  ,  23.374054  ,  -0.96334076,\n",
      "          3.8287811 , -13.371899  ,  -0.38599998,  -5.9150696 ]],\n",
      "      dtype=float32),\n",
      "          'grads_num': array([[  18.74566078,   38.92183304, -117.42114276,   24.19948392,\n",
      "         -35.82239151,   62.04843149,   93.54948252,   25.92801861]])}\n",
      "        ,\n",
      "  'all': {\n",
      "           0: [],\n",
      "           1: [],\n",
      "           2: [],\n",
      "           3: [array([[2.5628092e+00, 1.7726180e+02, 7.6516624e+01, 2.4388657e+01,\n",
      "        7.2130630e+01, 2.6932917e+01, 7.8000002e-02, 2.2944651e+01]],\n",
      "      dtype=float32)],\n",
      "           4: [],\n",
      "           5: [],\n",
      "           6: [],\n",
      "           7: [],\n",
      "           8: [],\n",
      "           9: []}\n",
      "         ,\n",
      "  'orig_class': 0,\n",
      "  'orig_proba': array([[0.9228061 , 0.07719394]], dtype=float32),\n",
      "  'id_proto': None}\n",
      ")\n"
     ]
    }
   ],
   "source": [
    "print(explanation)"
   ]
  },
  {
   "cell_type": "code",
   "execution_count": 107,
   "id": "ranging-target",
   "metadata": {},
   "outputs": [
    {
     "name": "stdout",
     "output_type": "stream",
     "text": [
      "Original prediction: 0\n",
      "Counterfactual prediction: 1\n"
     ]
    }
   ],
   "source": [
    "print(f'Original prediction: {explanation.orig_class}')\n",
    "print('Counterfactual prediction: {}'.format(explanation.cf['class']))"
   ]
  },
  {
   "cell_type": "code",
   "execution_count": 112,
   "id": "aerial-tissue",
   "metadata": {},
   "outputs": [],
   "source": [
    "explanation = cf.explain(X)"
   ]
  },
  {
   "cell_type": "code",
   "execution_count": 113,
   "id": "presidential-retirement",
   "metadata": {},
   "outputs": [
    {
     "data": {
      "text/plain": [
       "{0: [],\n",
       " 1: [],\n",
       " 2: [],\n",
       " 3: [array([[2.5628092e+00, 1.7726180e+02, 7.6516624e+01, 2.4388657e+01,\n",
       "          7.2130630e+01, 2.6932917e+01, 7.8000002e-02, 2.2944651e+01]],\n",
       "        dtype=float32)],\n",
       " 4: [],\n",
       " 5: [],\n",
       " 6: [],\n",
       " 7: [],\n",
       " 8: [],\n",
       " 9: []}"
      ]
     },
     "execution_count": 113,
     "metadata": {},
     "output_type": "execute_result"
    }
   ],
   "source": [
    "explanation.all"
   ]
  },
  {
   "cell_type": "code",
   "execution_count": 114,
   "id": "generous-entry",
   "metadata": {},
   "outputs": [
    {
     "data": {
      "text/plain": [
       "{'X': array([[2.5628092e+00, 1.7726180e+02, 7.6516624e+01, 2.4388657e+01,\n",
       "         7.2130630e+01, 2.6932917e+01, 7.8000002e-02, 2.2944651e+01]],\n",
       "       dtype=float32),\n",
       " 'class': 1,\n",
       " 'proba': array([[0.4956944, 0.5043056]], dtype=float32),\n",
       " 'grads_graph': array([[ -0.7179985 ,  -5.005951  ,  23.374054  ,  -0.96334076,\n",
       "           3.8287811 , -13.371899  ,  -0.38599998,  -5.9150696 ]],\n",
       "       dtype=float32),\n",
       " 'grads_num': array([[  18.74566078,   38.92183304, -117.42114276,   24.19948392,\n",
       "          -35.82239151,   62.04843149,   93.54948252,   25.92801861]])}"
      ]
     },
     "execution_count": 114,
     "metadata": {},
     "output_type": "execute_result"
    }
   ],
   "source": [
    "explanation.cf"
   ]
  },
  {
   "cell_type": "code",
   "execution_count": 116,
   "id": "apart-prime",
   "metadata": {},
   "outputs": [
    {
     "data": {
      "text/plain": [
       "0"
      ]
     },
     "execution_count": 116,
     "metadata": {},
     "output_type": "execute_result"
    }
   ],
   "source": [
    "explanation.orig_class"
   ]
  },
  {
   "cell_type": "code",
   "execution_count": 117,
   "id": "above-disabled",
   "metadata": {},
   "outputs": [
    {
     "data": {
      "text/plain": [
       "array([[0.9228061 , 0.07719394]], dtype=float32)"
      ]
     },
     "execution_count": 117,
     "metadata": {},
     "output_type": "execute_result"
    }
   ],
   "source": [
    "explanation.orig_proba"
   ]
  },
  {
   "cell_type": "code",
   "execution_count": 118,
   "id": "seasonal-bangkok",
   "metadata": {},
   "outputs": [
    {
     "data": {
      "text/plain": [
       "array([[  3.   , 180.   ,  64.   ,  25.   ,  70.   ,  34.   ,   0.271,\n",
       "         26.   ]])"
      ]
     },
     "execution_count": 118,
     "metadata": {},
     "output_type": "execute_result"
    }
   ],
   "source": [
    "X"
   ]
  },
  {
   "cell_type": "code",
   "execution_count": 1,
   "id": "hybrid-valuable",
   "metadata": {},
   "outputs": [
    {
     "name": "stdout",
     "output_type": "stream",
     "text": [
      "TF version:  2.4.1\n",
      "Eager execution enabled:  False\n"
     ]
    }
   ],
   "source": [
    "import tensorflow as tf\n",
    "tf.get_logger().setLevel(40) # suppress deprecation messages\n",
    "tf.compat.v1.disable_v2_behavior() # disable TF2 behaviour as alibi code still relies on TF1 constructs\n",
    "from tensorflow.keras.layers import Dense, Input\n",
    "from tensorflow.keras.models import Model, load_model\n",
    "from tensorflow.keras.utils import to_categorical\n",
    "import matplotlib\n",
    "%matplotlib inline\n",
    "import matplotlib.pyplot as plt\n",
    "import numpy as np\n",
    "import os\n",
    "from sklearn.datasets import load_boston\n",
    "from alibi.explainers import CounterFactualProto\n",
    "\n",
    "print('TF version: ', tf.__version__)\n",
    "print('Eager execution enabled: ', tf.executing_eagerly()) # False"
   ]
  },
  {
   "cell_type": "code",
   "execution_count": 2,
   "id": "fe8dcf3d",
   "metadata": {},
   "outputs": [],
   "source": [
    "boston = load_boston()\n",
    "data = boston.data\n",
    "target = boston.target\n",
    "feature_names = boston.feature_names"
   ]
  },
  {
   "cell_type": "code",
   "execution_count": 3,
   "id": "c59eba07",
   "metadata": {},
   "outputs": [],
   "source": [
    "y = np.zeros((target.shape[0],))\n",
    "y[np.where(target > np.median(target))[0]] = 1\n"
   ]
  },
  {
   "cell_type": "code",
   "execution_count": 4,
   "id": "064fd879",
   "metadata": {},
   "outputs": [],
   "source": [
    "data = np.delete(data, 3, 1)\n",
    "feature_names = np.delete(feature_names, 3)"
   ]
  },
  {
   "cell_type": "code",
   "execution_count": 5,
   "id": "67cfa6e0",
   "metadata": {},
   "outputs": [],
   "source": [
    "mu = data.mean(axis=0)\n",
    "sigma = data.std(axis=0)\n",
    "data = (data - mu) / sigma"
   ]
  },
  {
   "cell_type": "code",
   "execution_count": 6,
   "id": "8be9164d",
   "metadata": {},
   "outputs": [],
   "source": [
    "idx = 475\n",
    "x_train,y_train = data[:idx,:], y[:idx]\n",
    "x_test, y_test = data[idx:,:], y[idx:]\n",
    "y_train = to_categorical(y_train)\n",
    "y_test = to_categorical(y_test)"
   ]
  },
  {
   "cell_type": "code",
   "execution_count": 7,
   "id": "64052a15",
   "metadata": {},
   "outputs": [],
   "source": [
    "np.random.seed(42)\n",
    "tf.random.set_seed(42)"
   ]
  },
  {
   "cell_type": "code",
   "execution_count": 8,
   "id": "d00c6db8",
   "metadata": {},
   "outputs": [],
   "source": [
    "def nn_model():\n",
    "    x_in = Input(shape=(12,))\n",
    "    x = Dense(40, activation='relu')(x_in)\n",
    "    x = Dense(40, activation='relu')(x)\n",
    "    x_out = Dense(2, activation='softmax')(x)\n",
    "    nn = Model(inputs=x_in, outputs=x_out)\n",
    "    nn.compile(loss='categorical_crossentropy', optimizer='sgd', metrics=['accuracy'])\n",
    "    return nn"
   ]
  },
  {
   "cell_type": "code",
   "execution_count": 9,
   "id": "27c884a5",
   "metadata": {},
   "outputs": [
    {
     "name": "stdout",
     "output_type": "stream",
     "text": [
      "Model: \"model\"\n",
      "_________________________________________________________________\n",
      "Layer (type)                 Output Shape              Param #   \n",
      "=================================================================\n",
      "input_1 (InputLayer)         [(None, 12)]              0         \n",
      "_________________________________________________________________\n",
      "dense (Dense)                (None, 40)                520       \n",
      "_________________________________________________________________\n",
      "dense_1 (Dense)              (None, 40)                1640      \n",
      "_________________________________________________________________\n",
      "dense_2 (Dense)              (None, 2)                 82        \n",
      "=================================================================\n",
      "Total params: 2,242\n",
      "Trainable params: 2,242\n",
      "Non-trainable params: 0\n",
      "_________________________________________________________________\n"
     ]
    }
   ],
   "source": [
    "nn = nn_model()\n",
    "nn.summary()\n",
    "nn.fit(x_train, y_train, batch_size=64, epochs=500, verbose=0)\n",
    "nn.save('nn_boston.h5', save_format='h5')"
   ]
  },
  {
   "cell_type": "code",
   "execution_count": 10,
   "id": "ac22d704",
   "metadata": {},
   "outputs": [
    {
     "name": "stdout",
     "output_type": "stream",
     "text": [
      "Test accuracy:  0.83870965\n"
     ]
    },
    {
     "name": "stderr",
     "output_type": "stream",
     "text": [
      "`Model.state_updates` will be removed in a future version. This property should not be used in TensorFlow 2.0, as `updates` are applied automatically.\n"
     ]
    }
   ],
   "source": [
    "nn = load_model('nn_boston.h5')\n",
    "score = nn.evaluate(x_test, y_test, verbose=0)\n",
    "print('Test accuracy: ', score[1])"
   ]
  },
  {
   "cell_type": "code",
   "execution_count": 11,
   "id": "f68aa694",
   "metadata": {},
   "outputs": [],
   "source": [
    "X = x_test[1].reshape((1,) + x_test[1].shape)\n",
    "shape = X.shape"
   ]
  },
  {
   "cell_type": "code",
   "execution_count": 12,
   "id": "33408359",
   "metadata": {},
   "outputs": [
    {
     "name": "stderr",
     "output_type": "stream",
     "text": [
      "No encoder specified. Using k-d trees to represent class prototypes.\n"
     ]
    }
   ],
   "source": [
    "# define model\n",
    "nn = load_model('nn_boston.h5')\n",
    "\n",
    "# initialize explainer, fit and generate counterfactual\n",
    "cf = CounterFactualProto(nn, shape, use_kdtree=True, theta=10., max_iterations=1000,\n",
    "                         feature_range=(x_train.min(axis=0), x_train.max(axis=0)),\n",
    "                         c_init=1., c_steps=10)\n",
    "\n",
    "cf.fit(x_train)\n",
    "explanation = cf.explain(X)"
   ]
  },
  {
   "cell_type": "code",
   "execution_count": 13,
   "id": "e0890b95",
   "metadata": {},
   "outputs": [
    {
     "name": "stdout",
     "output_type": "stream",
     "text": [
      "Original prediction: 0\n",
      "Counterfactual prediction: 1\n"
     ]
    }
   ],
   "source": [
    "print(f'Original prediction: {explanation.orig_class}')\n",
    "print('Counterfactual prediction: {}'.format(explanation.cf['class']))"
   ]
  },
  {
   "cell_type": "code",
   "execution_count": 14,
   "id": "212fbbd4",
   "metadata": {},
   "outputs": [
    {
     "name": "stdout",
     "output_type": "stream",
     "text": [
      "AGE: -5.954782076362235\n",
      "LSTAT: -4.8512767599363364\n"
     ]
    }
   ],
   "source": [
    "orig = X * sigma + mu\n",
    "counterfactual = explanation.cf['X'] * sigma + mu\n",
    "delta = counterfactual - orig\n",
    "for i, f in enumerate(feature_names):\n",
    "    if np.abs(delta[0][i]) > 1e-4:\n",
    "        print('{}: {}'.format(f, delta[0][i]))"
   ]
  },
  {
   "cell_type": "code",
   "execution_count": 15,
   "id": "f9246df5",
   "metadata": {},
   "outputs": [
    {
     "name": "stdout",
     "output_type": "stream",
     "text": [
      "% owner-occupied units built prior to 1940: 93.6\n",
      "% lower status of the population: 18.68\n"
     ]
    }
   ],
   "source": [
    "print('% owner-occupied units built prior to 1940: {}'.format(orig[0][5]))\n",
    "print('% lower status of the population: {}'.format(orig[0][11]))"
   ]
  },
  {
   "cell_type": "code",
   "execution_count": 16,
   "id": "7497abd4",
   "metadata": {},
   "outputs": [],
   "source": [
    "os.remove('nn_boston.h5')"
   ]
  },
  {
   "cell_type": "code",
   "execution_count": null,
   "id": "cde7de59",
   "metadata": {},
   "outputs": [],
   "source": []
  }
 ],
 "metadata": {
  "kernelspec": {
   "display_name": "Python 3",
   "language": "python",
   "name": "python3"
  },
  "language_info": {
   "codemirror_mode": {
    "name": "ipython",
    "version": 3
   },
   "file_extension": ".py",
   "mimetype": "text/x-python",
   "name": "python",
   "nbconvert_exporter": "python",
   "pygments_lexer": "ipython3",
   "version": "3.8.8"
  }
 },
 "nbformat": 4,
 "nbformat_minor": 5
}

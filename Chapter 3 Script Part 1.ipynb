{
 "cells": [
  {
   "cell_type": "code",
   "execution_count": 1,
   "metadata": {},
   "outputs": [],
   "source": [
    "import pandas as pd\n",
    "import numpy as np\n",
    "import matplotlib.pyplot as plt\n",
    "%matplotlib inline\n",
    "from sklearn.model_selection import cross_val_score, train_test_split\n",
    "from sklearn.linear_model import LinearRegression\n",
    "\n",
    "from sklearn import datasets, linear_model\n",
    "from scipy import linalg"
   ]
  },
  {
   "cell_type": "code",
   "execution_count": 2,
   "metadata": {},
   "outputs": [],
   "source": [
    "df = pd.read_csv('automobile.csv')"
   ]
  },
  {
   "cell_type": "code",
   "execution_count": 3,
   "metadata": {},
   "outputs": [
    {
     "name": "stdout",
     "output_type": "stream",
     "text": [
      "<class 'pandas.core.frame.DataFrame'>\n",
      "RangeIndex: 6019 entries, 0 to 6018\n",
      "Data columns (total 11 columns):\n",
      " #   Column        Non-Null Count  Dtype  \n",
      "---  ------        --------------  -----  \n",
      " 0   Price         6019 non-null   float64\n",
      " 1   Make          6019 non-null   object \n",
      " 2   Location      6019 non-null   object \n",
      " 3   Age           6019 non-null   int64  \n",
      " 4   Odometer      6019 non-null   int64  \n",
      " 5   FuelType      6019 non-null   object \n",
      " 6   Transmission  6019 non-null   object \n",
      " 7   OwnerType     6019 non-null   object \n",
      " 8   Mileage       6019 non-null   object \n",
      " 9   EngineCC      6019 non-null   object \n",
      " 10  PowerBhp      6019 non-null   object \n",
      "dtypes: float64(1), int64(2), object(8)\n",
      "memory usage: 517.4+ KB\n"
     ]
    }
   ],
   "source": [
    "df.info()"
   ]
  },
  {
   "cell_type": "markdown",
   "metadata": {},
   "source": [
    "# Machine Learning Model"
   ]
  },
  {
   "cell_type": "code",
   "execution_count": 4,
   "metadata": {},
   "outputs": [
    {
     "data": {
      "text/html": [
       "<div>\n",
       "<style scoped>\n",
       "    .dataframe tbody tr th:only-of-type {\n",
       "        vertical-align: middle;\n",
       "    }\n",
       "\n",
       "    .dataframe tbody tr th {\n",
       "        vertical-align: top;\n",
       "    }\n",
       "\n",
       "    .dataframe thead th {\n",
       "        text-align: right;\n",
       "    }\n",
       "</style>\n",
       "<table border=\"1\" class=\"dataframe\">\n",
       "  <thead>\n",
       "    <tr style=\"text-align: right;\">\n",
       "      <th></th>\n",
       "      <th>Price</th>\n",
       "      <th>Make</th>\n",
       "      <th>Location</th>\n",
       "      <th>Age</th>\n",
       "      <th>Odometer</th>\n",
       "      <th>FuelType</th>\n",
       "      <th>Transmission</th>\n",
       "      <th>OwnerType</th>\n",
       "      <th>Mileage</th>\n",
       "      <th>EngineCC</th>\n",
       "      <th>PowerBhp</th>\n",
       "    </tr>\n",
       "  </thead>\n",
       "  <tbody>\n",
       "    <tr>\n",
       "      <th>0</th>\n",
       "      <td>1.75</td>\n",
       "      <td>marutiwagonr</td>\n",
       "      <td>Mumbai</td>\n",
       "      <td>10</td>\n",
       "      <td>72000</td>\n",
       "      <td>CNG</td>\n",
       "      <td>Manual</td>\n",
       "      <td>First</td>\n",
       "      <td>26.6</td>\n",
       "      <td>998</td>\n",
       "      <td>58.16</td>\n",
       "    </tr>\n",
       "    <tr>\n",
       "      <th>1</th>\n",
       "      <td>12.50</td>\n",
       "      <td>hyundaicreta</td>\n",
       "      <td>Pune</td>\n",
       "      <td>5</td>\n",
       "      <td>41000</td>\n",
       "      <td>Diesel</td>\n",
       "      <td>Manual</td>\n",
       "      <td>First</td>\n",
       "      <td>19.67</td>\n",
       "      <td>1582</td>\n",
       "      <td>126.2</td>\n",
       "    </tr>\n",
       "    <tr>\n",
       "      <th>2</th>\n",
       "      <td>4.50</td>\n",
       "      <td>hondajazz</td>\n",
       "      <td>Chennai</td>\n",
       "      <td>9</td>\n",
       "      <td>46000</td>\n",
       "      <td>Petrol</td>\n",
       "      <td>Manual</td>\n",
       "      <td>First</td>\n",
       "      <td>18.2</td>\n",
       "      <td>1199</td>\n",
       "      <td>88.7</td>\n",
       "    </tr>\n",
       "    <tr>\n",
       "      <th>3</th>\n",
       "      <td>6.00</td>\n",
       "      <td>marutiertiga</td>\n",
       "      <td>Chennai</td>\n",
       "      <td>8</td>\n",
       "      <td>87000</td>\n",
       "      <td>Diesel</td>\n",
       "      <td>Manual</td>\n",
       "      <td>First</td>\n",
       "      <td>20.77</td>\n",
       "      <td>1248</td>\n",
       "      <td>88.76</td>\n",
       "    </tr>\n",
       "    <tr>\n",
       "      <th>4</th>\n",
       "      <td>17.74</td>\n",
       "      <td>audia4</td>\n",
       "      <td>Coimbatore</td>\n",
       "      <td>7</td>\n",
       "      <td>40670</td>\n",
       "      <td>Diesel</td>\n",
       "      <td>Automatic</td>\n",
       "      <td>Second</td>\n",
       "      <td>15.2</td>\n",
       "      <td>1968</td>\n",
       "      <td>140.8</td>\n",
       "    </tr>\n",
       "  </tbody>\n",
       "</table>\n",
       "</div>"
      ],
      "text/plain": [
       "   Price          Make    Location  Age  Odometer FuelType Transmission  \\\n",
       "0   1.75  marutiwagonr      Mumbai   10     72000      CNG       Manual   \n",
       "1  12.50  hyundaicreta        Pune    5     41000   Diesel       Manual   \n",
       "2   4.50     hondajazz     Chennai    9     46000   Petrol       Manual   \n",
       "3   6.00  marutiertiga     Chennai    8     87000   Diesel       Manual   \n",
       "4  17.74        audia4  Coimbatore    7     40670   Diesel    Automatic   \n",
       "\n",
       "  OwnerType Mileage EngineCC PowerBhp  \n",
       "0     First    26.6      998    58.16  \n",
       "1     First   19.67     1582    126.2  \n",
       "2     First    18.2     1199     88.7  \n",
       "3     First   20.77     1248    88.76  \n",
       "4    Second    15.2     1968    140.8  "
      ]
     },
     "execution_count": 4,
     "metadata": {},
     "output_type": "execute_result"
    }
   ],
   "source": [
    "df.head()"
   ]
  },
  {
   "cell_type": "code",
   "execution_count": 5,
   "metadata": {},
   "outputs": [],
   "source": [
    "import seaborn as sns"
   ]
  },
  {
   "cell_type": "code",
   "execution_count": 6,
   "metadata": {},
   "outputs": [
    {
     "data": {
      "text/plain": [
       "<AxesSubplot:xlabel='Price'>"
      ]
     },
     "execution_count": 6,
     "metadata": {},
     "output_type": "execute_result"
    },
    {
     "data": {
      "image/png": "[encoded data removed]",
      "text/plain": [
       "<Figure size 432x288 with 1 Axes>"
      ]
     },
     "metadata": {
      "needs_background": "light"
     },
     "output_type": "display_data"
    }
   ],
   "source": [
    "sns.distplot(df.Price)"
   ]
  },
  {
   "cell_type": "code",
   "execution_count": 7,
   "metadata": {},
   "outputs": [
    {
     "data": {
      "text/plain": [
       "<AxesSubplot:xlabel='Age'>"
      ]
     },
     "execution_count": 7,
     "metadata": {},
     "output_type": "execute_result"
    },
    {
     "data": {
      "image/png": "[encoded data removed]",
      "text/plain": [
       "<Figure size 432x288 with 1 Axes>"
      ]
     },
     "metadata": {
      "needs_background": "light"
     },
     "output_type": "display_data"
    }
   ],
   "source": [
    "sns.distplot(df.Age)"
   ]
  },
  {
   "cell_type": "code",
   "execution_count": 8,
   "metadata": {},
   "outputs": [
    {
     "data": {
      "text/plain": [
       "<AxesSubplot:xlabel='Odometer'>"
      ]
     },
     "execution_count": 8,
     "metadata": {},
     "output_type": "execute_result"
    },
    {
     "data": {
      "image/png": "[encoded data removed]",
      "text/plain": [
       "<Figure size 432x288 with 1 Axes>"
      ]
     },
     "metadata": {
      "needs_background": "light"
     },
     "output_type": "display_data"
    }
   ],
   "source": [
    "sns.distplot(df.Odometer)"
   ]
  },
  {
   "cell_type": "code",
   "execution_count": 9,
   "metadata": {},
   "outputs": [
    {
     "data": {
      "text/plain": [
       "<AxesSubplot:xlabel='Age', ylabel='Price'>"
      ]
     },
     "execution_count": 9,
     "metadata": {},
     "output_type": "execute_result"
    },
    {
     "data": {
      "image/png": "[encoded data removed]",
      "text/plain": [
       "<Figure size 432x288 with 1 Axes>"
      ]
     },
     "metadata": {
      "needs_background": "light"
     },
     "output_type": "display_data"
    }
   ],
   "source": [
    "sns.scatterplot(x=df.Age,y=df.Price)"
   ]
  },
  {
   "cell_type": "code",
   "execution_count": 10,
   "metadata": {},
   "outputs": [
    {
     "name": "stdout",
     "output_type": "stream",
     "text": [
      "<class 'pandas.core.frame.DataFrame'>\n",
      "RangeIndex: 6019 entries, 0 to 6018\n",
      "Data columns (total 11 columns):\n",
      " #   Column        Non-Null Count  Dtype  \n",
      "---  ------        --------------  -----  \n",
      " 0   Price         6019 non-null   float64\n",
      " 1   Make          6019 non-null   object \n",
      " 2   Location      6019 non-null   object \n",
      " 3   Age           6019 non-null   int64  \n",
      " 4   Odometer      6019 non-null   int64  \n",
      " 5   FuelType      6019 non-null   object \n",
      " 6   Transmission  6019 non-null   object \n",
      " 7   OwnerType     6019 non-null   object \n",
      " 8   Mileage       6019 non-null   object \n",
      " 9   EngineCC      6019 non-null   object \n",
      " 10  PowerBhp      6019 non-null   object \n",
      "dtypes: float64(1), int64(2), object(8)\n",
      "memory usage: 517.4+ KB\n"
     ]
    }
   ],
   "source": [
    "df.info()"
   ]
  },
  {
   "cell_type": "code",
   "execution_count": 11,
   "metadata": {},
   "outputs": [
    {
     "data": {
      "text/plain": [
       "marutiswift           353\n",
       "hondacity             270\n",
       "hyundaii20            247\n",
       "hyundaiverna          170\n",
       "hyundaii10            156\n",
       "                     ... \n",
       "mahindraxuv300          1\n",
       "bentleycontinental      1\n",
       "ambassadorclassic       1\n",
       "fordclassic             1\n",
       "fiatgrandepuntoevo      1\n",
       "Name: Make, Length: 217, dtype: int64"
      ]
     },
     "execution_count": 11,
     "metadata": {},
     "output_type": "execute_result"
    }
   ],
   "source": [
    "df.Make.value_counts()"
   ]
  },
  {
   "cell_type": "code",
   "execution_count": 12,
   "metadata": {},
   "outputs": [
    {
     "data": {
      "text/plain": [
       "marutiswift           0.058648\n",
       "hondacity             0.044858\n",
       "hyundaii20            0.041037\n",
       "hyundaiverna          0.028244\n",
       "hyundaii10            0.025918\n",
       "                        ...   \n",
       "mahindraxuv300        0.000166\n",
       "bentleycontinental    0.000166\n",
       "ambassadorclassic     0.000166\n",
       "fordclassic           0.000166\n",
       "fiatgrandepuntoevo    0.000166\n",
       "Name: Make, Length: 217, dtype: float64"
      ]
     },
     "execution_count": 12,
     "metadata": {},
     "output_type": "execute_result"
    }
   ],
   "source": [
    "df.Make.value_counts()/df.shape[0]"
   ]
  },
  {
   "cell_type": "code",
   "execution_count": 13,
   "metadata": {},
   "outputs": [
    {
     "data": {
      "text/plain": [
       "217"
      ]
     },
     "execution_count": 13,
     "metadata": {},
     "output_type": "execute_result"
    }
   ],
   "source": [
    "len(set(df.Make))"
   ]
  },
  {
   "cell_type": "code",
   "execution_count": 14,
   "metadata": {},
   "outputs": [
    {
     "data": {
      "text/plain": [
       "{'ambassadorclassic',\n",
       " 'audia3',\n",
       " 'audia4',\n",
       " 'audia6',\n",
       " 'audia7',\n",
       " 'audia8',\n",
       " 'audiq3',\n",
       " 'audiq5',\n",
       " 'audiq7',\n",
       " 'audirs5',\n",
       " 'auditt',\n",
       " 'bentleycontinental',\n",
       " 'bmw1',\n",
       " 'bmw3',\n",
       " 'bmw5',\n",
       " 'bmw6',\n",
       " 'bmw7',\n",
       " 'bmwx1',\n",
       " 'bmwx3',\n",
       " 'bmwx5',\n",
       " 'bmwx6',\n",
       " 'bmwz4',\n",
       " 'chevroletaveo',\n",
       " 'chevroletbeat',\n",
       " 'chevroletcaptiva',\n",
       " 'chevroletcruze',\n",
       " 'chevroletenjoy',\n",
       " 'chevroletoptra',\n",
       " 'chevroletsail',\n",
       " 'chevroletspark',\n",
       " 'chevrolettavera',\n",
       " 'datsungo',\n",
       " 'datsunredigo',\n",
       " 'fiatavventura',\n",
       " 'fiatgrandepunto',\n",
       " 'fiatgrandepuntoevo',\n",
       " 'fiatlinea',\n",
       " 'fiatpetra',\n",
       " 'fiatpunto',\n",
       " 'fiatpuntoevo',\n",
       " 'fiatsiena',\n",
       " 'forceone',\n",
       " 'fordaspire',\n",
       " 'fordclassic',\n",
       " 'fordecosport',\n",
       " 'fordendeavour',\n",
       " 'fordfiesta',\n",
       " 'fordfigo',\n",
       " 'fordfreestyle',\n",
       " 'fordfusion',\n",
       " 'fordikon',\n",
       " 'fordmustang',\n",
       " 'hondaaccord',\n",
       " 'hondaamaze',\n",
       " 'hondabrio',\n",
       " 'hondabrv',\n",
       " 'hondacity',\n",
       " 'hondacivic',\n",
       " 'hondacrv',\n",
       " 'hondajazz',\n",
       " 'hondamobilio',\n",
       " 'hondawrv',\n",
       " 'hyundaiaccent',\n",
       " 'hyundaicreta',\n",
       " 'hyundaielantra',\n",
       " 'hyundaielite',\n",
       " 'hyundaieon',\n",
       " 'hyundaigetz',\n",
       " 'hyundaigrand',\n",
       " 'hyundaii10',\n",
       " 'hyundaii20',\n",
       " 'hyundaisanta',\n",
       " 'hyundaisantro',\n",
       " 'hyundaisonata',\n",
       " 'hyundaitucson',\n",
       " 'hyundaiverna',\n",
       " 'hyundaixcent',\n",
       " 'isuzudmax',\n",
       " 'isuzumux',\n",
       " 'jaguarf',\n",
       " 'jaguarxe',\n",
       " 'jaguarxf',\n",
       " 'jaguarxj',\n",
       " 'jeepcompass',\n",
       " 'lamborghinigallardo',\n",
       " 'landroverdiscovery',\n",
       " 'landroverfreelander',\n",
       " 'landroverrangerover',\n",
       " 'mahindrabolero',\n",
       " 'mahindrae',\n",
       " 'mahindrajeep',\n",
       " 'mahindrakuv',\n",
       " 'mahindralogan',\n",
       " 'mahindranuvosport',\n",
       " 'mahindraquanto',\n",
       " 'mahindrarenaultlogan',\n",
       " 'mahindrascorpio',\n",
       " 'mahindrassangyong',\n",
       " 'mahindrathar',\n",
       " 'mahindratuv',\n",
       " 'mahindraverito',\n",
       " 'mahindraxuv300',\n",
       " 'mahindraxuv500',\n",
       " 'mahindraxylo',\n",
       " 'maruti1000',\n",
       " 'maruti800',\n",
       " 'marutialto',\n",
       " 'marutiastar',\n",
       " 'marutibaleno',\n",
       " 'maruticelerio',\n",
       " 'maruticiaz',\n",
       " 'marutidzire',\n",
       " 'marutieeco',\n",
       " 'marutiertiga',\n",
       " 'marutiesteem',\n",
       " 'marutiestilo',\n",
       " 'marutigrand',\n",
       " 'marutiignis',\n",
       " 'marutiomni',\n",
       " 'marutiritz',\n",
       " 'marutiscross',\n",
       " 'marutiswift',\n",
       " 'marutisx4',\n",
       " 'marutiversa',\n",
       " 'marutivitarabrezza',\n",
       " 'marutiwagonr',\n",
       " 'marutizen',\n",
       " 'mercedesbenza',\n",
       " 'mercedesbenzb',\n",
       " 'mercedesbenzcclass',\n",
       " 'mercedesbenzcla',\n",
       " 'mercedesbenzclsclass',\n",
       " 'mercedesbenzeclass',\n",
       " 'mercedesbenzgla',\n",
       " 'mercedesbenzglc',\n",
       " 'mercedesbenzglclass',\n",
       " 'mercedesbenzgle',\n",
       " 'mercedesbenzgls',\n",
       " 'mercedesbenzmclass',\n",
       " 'mercedesbenznewclass',\n",
       " 'mercedesbenzrclass',\n",
       " 'mercedesbenzs',\n",
       " 'mercedesbenzsclass',\n",
       " 'mercedesbenzslc',\n",
       " 'mercedesbenzslclass',\n",
       " 'mercedesbenzslkclass',\n",
       " 'miniclubman',\n",
       " 'minicooper',\n",
       " 'minicountryman',\n",
       " 'mitsubishicedia',\n",
       " 'mitsubishilancer',\n",
       " 'mitsubishimontero',\n",
       " 'mitsubishioutlander',\n",
       " 'mitsubishipajero',\n",
       " 'nissanevalia',\n",
       " 'nissanmicra',\n",
       " 'nissansunny',\n",
       " 'nissanteana',\n",
       " 'nissanterrano',\n",
       " 'nissanxtrail',\n",
       " 'porscheboxster',\n",
       " 'porschecayenne',\n",
       " 'porschecayman',\n",
       " 'porschepanamera',\n",
       " 'renaultcaptur',\n",
       " 'renaultduster',\n",
       " 'renaultfluence',\n",
       " 'renaultkoleos',\n",
       " 'renaultkwid',\n",
       " 'renaultlodgy',\n",
       " 'renaultpulse',\n",
       " 'renaultscala',\n",
       " 'skodafabia',\n",
       " 'skodalaura',\n",
       " 'skodaoctavia',\n",
       " 'skodarapid',\n",
       " 'skodasuperb',\n",
       " 'skodayeti',\n",
       " 'smartfortwo',\n",
       " 'tatabolt',\n",
       " 'tatahexa',\n",
       " 'tataindica',\n",
       " 'tataindigo',\n",
       " 'tatamanza',\n",
       " 'tatanano',\n",
       " 'tatanew',\n",
       " 'tatanexon',\n",
       " 'tatasafari',\n",
       " 'tatasumo',\n",
       " 'tatatiago',\n",
       " 'tatatigor',\n",
       " 'tataventure',\n",
       " 'tataxenon',\n",
       " 'tatazest',\n",
       " 'toyotacamry',\n",
       " 'toyotacorolla',\n",
       " 'toyotaetios',\n",
       " 'toyotaetioscross',\n",
       " 'toyotafortuner',\n",
       " 'toyotainnova',\n",
       " 'toyotainnovacrysta',\n",
       " 'toyotaplatinum',\n",
       " 'toyotaprius',\n",
       " 'toyotaqualis',\n",
       " 'volkswagenameo',\n",
       " 'volkswagenbeetle',\n",
       " 'volkswagencrosspolo',\n",
       " 'volkswagenjetta',\n",
       " 'volkswagenpassat',\n",
       " 'volkswagenpolo',\n",
       " 'volkswagentiguan',\n",
       " 'volkswagenvento',\n",
       " 'volvos60',\n",
       " 'volvos80',\n",
       " 'volvov40',\n",
       " 'volvoxc60',\n",
       " 'volvoxc90'}"
      ]
     },
     "execution_count": 14,
     "metadata": {},
     "output_type": "execute_result"
    }
   ],
   "source": [
    "set(df.Make)"
   ]
  },
  {
   "cell_type": "code",
   "execution_count": 15,
   "metadata": {},
   "outputs": [],
   "source": [
    "df['make'] = df['Make'].str.replace('\\d+', '')"
   ]
  },
  {
   "cell_type": "code",
   "execution_count": 16,
   "metadata": {},
   "outputs": [
    {
     "data": {
      "text/plain": [
       "199"
      ]
     },
     "execution_count": 16,
     "metadata": {},
     "output_type": "execute_result"
    }
   ],
   "source": [
    "len(set(df.make))"
   ]
  },
  {
   "cell_type": "code",
   "execution_count": 17,
   "metadata": {},
   "outputs": [
    {
     "data": {
      "text/plain": [
       "{'ambassadorclassic',\n",
       " 'audia',\n",
       " 'audiq',\n",
       " 'audirs',\n",
       " 'auditt',\n",
       " 'bentleycontinental',\n",
       " 'bmw',\n",
       " 'bmwx',\n",
       " 'bmwz',\n",
       " 'chevroletaveo',\n",
       " 'chevroletbeat',\n",
       " 'chevroletcaptiva',\n",
       " 'chevroletcruze',\n",
       " 'chevroletenjoy',\n",
       " 'chevroletoptra',\n",
       " 'chevroletsail',\n",
       " 'chevroletspark',\n",
       " 'chevrolettavera',\n",
       " 'datsungo',\n",
       " 'datsunredigo',\n",
       " 'fiatavventura',\n",
       " 'fiatgrandepunto',\n",
       " 'fiatgrandepuntoevo',\n",
       " 'fiatlinea',\n",
       " 'fiatpetra',\n",
       " 'fiatpunto',\n",
       " 'fiatpuntoevo',\n",
       " 'fiatsiena',\n",
       " 'forceone',\n",
       " 'fordaspire',\n",
       " 'fordclassic',\n",
       " 'fordecosport',\n",
       " 'fordendeavour',\n",
       " 'fordfiesta',\n",
       " 'fordfigo',\n",
       " 'fordfreestyle',\n",
       " 'fordfusion',\n",
       " 'fordikon',\n",
       " 'fordmustang',\n",
       " 'hondaaccord',\n",
       " 'hondaamaze',\n",
       " 'hondabrio',\n",
       " 'hondabrv',\n",
       " 'hondacity',\n",
       " 'hondacivic',\n",
       " 'hondacrv',\n",
       " 'hondajazz',\n",
       " 'hondamobilio',\n",
       " 'hondawrv',\n",
       " 'hyundaiaccent',\n",
       " 'hyundaicreta',\n",
       " 'hyundaielantra',\n",
       " 'hyundaielite',\n",
       " 'hyundaieon',\n",
       " 'hyundaigetz',\n",
       " 'hyundaigrand',\n",
       " 'hyundaii',\n",
       " 'hyundaisanta',\n",
       " 'hyundaisantro',\n",
       " 'hyundaisonata',\n",
       " 'hyundaitucson',\n",
       " 'hyundaiverna',\n",
       " 'hyundaixcent',\n",
       " 'isuzudmax',\n",
       " 'isuzumux',\n",
       " 'jaguarf',\n",
       " 'jaguarxe',\n",
       " 'jaguarxf',\n",
       " 'jaguarxj',\n",
       " 'jeepcompass',\n",
       " 'lamborghinigallardo',\n",
       " 'landroverdiscovery',\n",
       " 'landroverfreelander',\n",
       " 'landroverrangerover',\n",
       " 'mahindrabolero',\n",
       " 'mahindrae',\n",
       " 'mahindrajeep',\n",
       " 'mahindrakuv',\n",
       " 'mahindralogan',\n",
       " 'mahindranuvosport',\n",
       " 'mahindraquanto',\n",
       " 'mahindrarenaultlogan',\n",
       " 'mahindrascorpio',\n",
       " 'mahindrassangyong',\n",
       " 'mahindrathar',\n",
       " 'mahindratuv',\n",
       " 'mahindraverito',\n",
       " 'mahindraxuv',\n",
       " 'mahindraxylo',\n",
       " 'maruti',\n",
       " 'marutialto',\n",
       " 'marutiastar',\n",
       " 'marutibaleno',\n",
       " 'maruticelerio',\n",
       " 'maruticiaz',\n",
       " 'marutidzire',\n",
       " 'marutieeco',\n",
       " 'marutiertiga',\n",
       " 'marutiesteem',\n",
       " 'marutiestilo',\n",
       " 'marutigrand',\n",
       " 'marutiignis',\n",
       " 'marutiomni',\n",
       " 'marutiritz',\n",
       " 'marutiscross',\n",
       " 'marutiswift',\n",
       " 'marutisx',\n",
       " 'marutiversa',\n",
       " 'marutivitarabrezza',\n",
       " 'marutiwagonr',\n",
       " 'marutizen',\n",
       " 'mercedesbenza',\n",
       " 'mercedesbenzb',\n",
       " 'mercedesbenzcclass',\n",
       " 'mercedesbenzcla',\n",
       " 'mercedesbenzclsclass',\n",
       " 'mercedesbenzeclass',\n",
       " 'mercedesbenzgla',\n",
       " 'mercedesbenzglc',\n",
       " 'mercedesbenzglclass',\n",
       " 'mercedesbenzgle',\n",
       " 'mercedesbenzgls',\n",
       " 'mercedesbenzmclass',\n",
       " 'mercedesbenznewclass',\n",
       " 'mercedesbenzrclass',\n",
       " 'mercedesbenzs',\n",
       " 'mercedesbenzsclass',\n",
       " 'mercedesbenzslc',\n",
       " 'mercedesbenzslclass',\n",
       " 'mercedesbenzslkclass',\n",
       " 'miniclubman',\n",
       " 'minicooper',\n",
       " 'minicountryman',\n",
       " 'mitsubishicedia',\n",
       " 'mitsubishilancer',\n",
       " 'mitsubishimontero',\n",
       " 'mitsubishioutlander',\n",
       " 'mitsubishipajero',\n",
       " 'nissanevalia',\n",
       " 'nissanmicra',\n",
       " 'nissansunny',\n",
       " 'nissanteana',\n",
       " 'nissanterrano',\n",
       " 'nissanxtrail',\n",
       " 'porscheboxster',\n",
       " 'porschecayenne',\n",
       " 'porschecayman',\n",
       " 'porschepanamera',\n",
       " 'renaultcaptur',\n",
       " 'renaultduster',\n",
       " 'renaultfluence',\n",
       " 'renaultkoleos',\n",
       " 'renaultkwid',\n",
       " 'renaultlodgy',\n",
       " 'renaultpulse',\n",
       " 'renaultscala',\n",
       " 'skodafabia',\n",
       " 'skodalaura',\n",
       " 'skodaoctavia',\n",
       " 'skodarapid',\n",
       " 'skodasuperb',\n",
       " 'skodayeti',\n",
       " 'smartfortwo',\n",
       " 'tatabolt',\n",
       " 'tatahexa',\n",
       " 'tataindica',\n",
       " 'tataindigo',\n",
       " 'tatamanza',\n",
       " 'tatanano',\n",
       " 'tatanew',\n",
       " 'tatanexon',\n",
       " 'tatasafari',\n",
       " 'tatasumo',\n",
       " 'tatatiago',\n",
       " 'tatatigor',\n",
       " 'tataventure',\n",
       " 'tataxenon',\n",
       " 'tatazest',\n",
       " 'toyotacamry',\n",
       " 'toyotacorolla',\n",
       " 'toyotaetios',\n",
       " 'toyotaetioscross',\n",
       " 'toyotafortuner',\n",
       " 'toyotainnova',\n",
       " 'toyotainnovacrysta',\n",
       " 'toyotaplatinum',\n",
       " 'toyotaprius',\n",
       " 'toyotaqualis',\n",
       " 'volkswagenameo',\n",
       " 'volkswagenbeetle',\n",
       " 'volkswagencrosspolo',\n",
       " 'volkswagenjetta',\n",
       " 'volkswagenpassat',\n",
       " 'volkswagenpolo',\n",
       " 'volkswagentiguan',\n",
       " 'volkswagenvento',\n",
       " 'volvos',\n",
       " 'volvov',\n",
       " 'volvoxc'}"
      ]
     },
     "execution_count": 17,
     "metadata": {},
     "output_type": "execute_result"
    }
   ],
   "source": [
    "set(df.make)"
   ]
  },
  {
   "cell_type": "code",
   "execution_count": 18,
   "metadata": {},
   "outputs": [],
   "source": [
    "del df['make']"
   ]
  },
  {
   "cell_type": "code",
   "execution_count": 19,
   "metadata": {},
   "outputs": [
    {
     "data": {
      "text/html": [
       "<div>\n",
       "<style scoped>\n",
       "    .dataframe tbody tr th:only-of-type {\n",
       "        vertical-align: middle;\n",
       "    }\n",
       "\n",
       "    .dataframe tbody tr th {\n",
       "        vertical-align: top;\n",
       "    }\n",
       "\n",
       "    .dataframe thead th {\n",
       "        text-align: right;\n",
       "    }\n",
       "</style>\n",
       "<table border=\"1\" class=\"dataframe\">\n",
       "  <thead>\n",
       "    <tr style=\"text-align: right;\">\n",
       "      <th></th>\n",
       "      <th>Price</th>\n",
       "      <th>Age</th>\n",
       "      <th>Odometer</th>\n",
       "    </tr>\n",
       "  </thead>\n",
       "  <tbody>\n",
       "    <tr>\n",
       "      <th>count</th>\n",
       "      <td>6019.000000</td>\n",
       "      <td>6019.000000</td>\n",
       "      <td>6.019000e+03</td>\n",
       "    </tr>\n",
       "    <tr>\n",
       "      <th>mean</th>\n",
       "      <td>9.479468</td>\n",
       "      <td>6.641801</td>\n",
       "      <td>5.873838e+04</td>\n",
       "    </tr>\n",
       "    <tr>\n",
       "      <th>std</th>\n",
       "      <td>11.187917</td>\n",
       "      <td>3.269742</td>\n",
       "      <td>9.126884e+04</td>\n",
       "    </tr>\n",
       "    <tr>\n",
       "      <th>min</th>\n",
       "      <td>0.440000</td>\n",
       "      <td>1.000000</td>\n",
       "      <td>1.710000e+02</td>\n",
       "    </tr>\n",
       "    <tr>\n",
       "      <th>25%</th>\n",
       "      <td>3.500000</td>\n",
       "      <td>4.000000</td>\n",
       "      <td>3.400000e+04</td>\n",
       "    </tr>\n",
       "    <tr>\n",
       "      <th>50%</th>\n",
       "      <td>5.640000</td>\n",
       "      <td>6.000000</td>\n",
       "      <td>5.300000e+04</td>\n",
       "    </tr>\n",
       "    <tr>\n",
       "      <th>75%</th>\n",
       "      <td>9.950000</td>\n",
       "      <td>9.000000</td>\n",
       "      <td>7.300000e+04</td>\n",
       "    </tr>\n",
       "    <tr>\n",
       "      <th>max</th>\n",
       "      <td>160.000000</td>\n",
       "      <td>22.000000</td>\n",
       "      <td>6.500000e+06</td>\n",
       "    </tr>\n",
       "  </tbody>\n",
       "</table>\n",
       "</div>"
      ],
      "text/plain": [
       "             Price          Age      Odometer\n",
       "count  6019.000000  6019.000000  6.019000e+03\n",
       "mean      9.479468     6.641801  5.873838e+04\n",
       "std      11.187917     3.269742  9.126884e+04\n",
       "min       0.440000     1.000000  1.710000e+02\n",
       "25%       3.500000     4.000000  3.400000e+04\n",
       "50%       5.640000     6.000000  5.300000e+04\n",
       "75%       9.950000     9.000000  7.300000e+04\n",
       "max     160.000000    22.000000  6.500000e+06"
      ]
     },
     "execution_count": 19,
     "metadata": {},
     "output_type": "execute_result"
    }
   ],
   "source": [
    "df.describe()"
   ]
  },
  {
   "cell_type": "code",
   "execution_count": 20,
   "metadata": {},
   "outputs": [
    {
     "data": {
      "text/plain": [
       "Index(['Price', 'Make', 'Location', 'Age', 'Odometer', 'FuelType',\n",
       "       'Transmission', 'OwnerType', 'Mileage', 'EngineCC', 'PowerBhp'],\n",
       "      dtype='object')"
      ]
     },
     "execution_count": 20,
     "metadata": {},
     "output_type": "execute_result"
    }
   ],
   "source": [
    "df.columns"
   ]
  },
  {
   "cell_type": "code",
   "execution_count": 21,
   "metadata": {},
   "outputs": [
    {
     "data": {
      "text/plain": [
       "{'+AC0-1',\n",
       " '10',\n",
       " '10.1',\n",
       " '10.13',\n",
       " '10.2',\n",
       " '10.37',\n",
       " '10.4',\n",
       " '10.5',\n",
       " '10.6',\n",
       " '10.8',\n",
       " '10.9',\n",
       " '10.91',\n",
       " '10.93',\n",
       " '10.98',\n",
       " '11',\n",
       " '11.05',\n",
       " '11.07',\n",
       " '11.1',\n",
       " '11.18',\n",
       " '11.2',\n",
       " '11.25',\n",
       " '11.3',\n",
       " '11.33',\n",
       " '11.36',\n",
       " '11.4',\n",
       " '11.49',\n",
       " '11.5',\n",
       " '11.56',\n",
       " '11.57',\n",
       " '11.62',\n",
       " '11.68',\n",
       " '11.7',\n",
       " '11.72',\n",
       " '11.74',\n",
       " '11.78',\n",
       " '11.79',\n",
       " '11.8',\n",
       " '11.9',\n",
       " '12',\n",
       " '12.05',\n",
       " '12.07',\n",
       " '12.1',\n",
       " '12.19',\n",
       " '12.3',\n",
       " '12.35',\n",
       " '12.37',\n",
       " '12.38',\n",
       " '12.39',\n",
       " '12.4',\n",
       " '12.5',\n",
       " '12.51',\n",
       " '12.55',\n",
       " '12.6',\n",
       " '12.62',\n",
       " '12.63',\n",
       " '12.65',\n",
       " '12.7',\n",
       " '12.8',\n",
       " '12.81',\n",
       " '12.83',\n",
       " '12.85',\n",
       " '12.86',\n",
       " '12.9',\n",
       " '12.95',\n",
       " '12.97',\n",
       " '12.98',\n",
       " '12.99',\n",
       " '13',\n",
       " '13.01',\n",
       " '13.06',\n",
       " '13.1',\n",
       " '13.14',\n",
       " '13.17',\n",
       " '13.2',\n",
       " '13.22',\n",
       " '13.24',\n",
       " '13.29',\n",
       " '13.33',\n",
       " '13.4',\n",
       " '13.44',\n",
       " '13.45',\n",
       " '13.49',\n",
       " '13.5',\n",
       " '13.53',\n",
       " '13.58',\n",
       " '13.6',\n",
       " '13.68',\n",
       " '13.7',\n",
       " '13.73',\n",
       " '13.8',\n",
       " '13.9',\n",
       " '13.93',\n",
       " '14',\n",
       " '14.02',\n",
       " '14.07',\n",
       " '14.1',\n",
       " '14.16',\n",
       " '14.2',\n",
       " '14.21',\n",
       " '14.24',\n",
       " '14.28',\n",
       " '14.3',\n",
       " '14.33',\n",
       " '14.36',\n",
       " '14.39',\n",
       " '14.4',\n",
       " '14.42',\n",
       " '14.45',\n",
       " '14.47',\n",
       " '14.49',\n",
       " '14.53',\n",
       " '14.57',\n",
       " '14.59',\n",
       " '14.6',\n",
       " '14.62',\n",
       " '14.66',\n",
       " '14.67',\n",
       " '14.69',\n",
       " '14.7',\n",
       " '14.74',\n",
       " '14.75',\n",
       " '14.8',\n",
       " '14.81',\n",
       " '14.83',\n",
       " '14.84',\n",
       " '14.9',\n",
       " '14.94',\n",
       " '14.95',\n",
       " '15',\n",
       " '15.04',\n",
       " '15.06',\n",
       " '15.1',\n",
       " '15.11',\n",
       " '15.15',\n",
       " '15.17',\n",
       " '15.2',\n",
       " '15.26',\n",
       " '15.29',\n",
       " '15.3',\n",
       " '15.4',\n",
       " '15.41',\n",
       " '15.42',\n",
       " '15.5',\n",
       " '15.6',\n",
       " '15.63',\n",
       " '15.64',\n",
       " '15.68',\n",
       " '15.7',\n",
       " '15.72',\n",
       " '15.73',\n",
       " '15.74',\n",
       " '15.8',\n",
       " '15.85',\n",
       " '15.87',\n",
       " '15.9',\n",
       " '15.96',\n",
       " '15.97',\n",
       " '16',\n",
       " '16.02',\n",
       " '16.05',\n",
       " '16.07',\n",
       " '16.09',\n",
       " '16.1',\n",
       " '16.12',\n",
       " '16.2',\n",
       " '16.25',\n",
       " '16.3',\n",
       " '16.36',\n",
       " '16.38',\n",
       " '16.4',\n",
       " '16.46',\n",
       " '16.47',\n",
       " '16.5',\n",
       " '16.51',\n",
       " '16.52',\n",
       " '16.55',\n",
       " '16.6',\n",
       " '16.7',\n",
       " '16.73',\n",
       " '16.76',\n",
       " '16.77',\n",
       " '16.78',\n",
       " '16.8',\n",
       " '16.82',\n",
       " '16.9',\n",
       " '16.93',\n",
       " '16.95',\n",
       " '16.96',\n",
       " '16.98',\n",
       " '17',\n",
       " '17.01',\n",
       " '17.05',\n",
       " '17.06',\n",
       " '17.09',\n",
       " '17.1',\n",
       " '17.11',\n",
       " '17.16',\n",
       " '17.19',\n",
       " '17.2',\n",
       " '17.21',\n",
       " '17.24',\n",
       " '17.3',\n",
       " '17.32',\n",
       " '17.4',\n",
       " '17.43',\n",
       " '17.44',\n",
       " '17.45',\n",
       " '17.5',\n",
       " '17.54',\n",
       " '17.57',\n",
       " '17.6',\n",
       " '17.67',\n",
       " '17.68',\n",
       " '17.7',\n",
       " '17.71',\n",
       " '17.72',\n",
       " '17.8',\n",
       " '17.84',\n",
       " '17.85',\n",
       " '17.88',\n",
       " '17.9',\n",
       " '17.92',\n",
       " '17.97',\n",
       " '18',\n",
       " '18.06',\n",
       " '18.1',\n",
       " '18.12',\n",
       " '18.15',\n",
       " '18.16',\n",
       " '18.18',\n",
       " '18.19',\n",
       " '18.2',\n",
       " '18.23',\n",
       " '18.25',\n",
       " '18.3',\n",
       " '18.33',\n",
       " '18.4',\n",
       " '18.42',\n",
       " '18.44',\n",
       " '18.48',\n",
       " '18.49',\n",
       " '18.5',\n",
       " '18.51',\n",
       " '18.53',\n",
       " '18.56',\n",
       " '18.59',\n",
       " '18.6',\n",
       " '18.69',\n",
       " '18.7',\n",
       " '18.78',\n",
       " '18.8',\n",
       " '18.86',\n",
       " '18.88',\n",
       " '18.9',\n",
       " '19',\n",
       " '19.01',\n",
       " '19.08',\n",
       " '19.09',\n",
       " '19.1',\n",
       " '19.12',\n",
       " '19.15',\n",
       " '19.16',\n",
       " '19.2',\n",
       " '19.27',\n",
       " '19.3',\n",
       " '19.33',\n",
       " '19.34',\n",
       " '19.4',\n",
       " '19.44',\n",
       " '19.49',\n",
       " '19.5',\n",
       " '19.59',\n",
       " '19.6',\n",
       " '19.63',\n",
       " '19.64',\n",
       " '19.67',\n",
       " '19.68',\n",
       " '19.69',\n",
       " '19.7',\n",
       " '19.71',\n",
       " '19.72',\n",
       " '19.81',\n",
       " '19.83',\n",
       " '19.87',\n",
       " '19.91',\n",
       " '19.98',\n",
       " '20',\n",
       " '20.14',\n",
       " '20.3',\n",
       " '20.34',\n",
       " '20.36',\n",
       " '20.37',\n",
       " '20.38',\n",
       " '20.4',\n",
       " '20.45',\n",
       " '20.46',\n",
       " '20.5',\n",
       " '20.51',\n",
       " '20.54',\n",
       " '20.58',\n",
       " '20.62',\n",
       " '20.63',\n",
       " '20.64',\n",
       " '20.65',\n",
       " '20.68',\n",
       " '20.7',\n",
       " '20.73',\n",
       " '20.77',\n",
       " '20.85',\n",
       " '20.86',\n",
       " '20.89',\n",
       " '20.92',\n",
       " '21',\n",
       " '21.02',\n",
       " '21.03',\n",
       " '21.1',\n",
       " '21.12',\n",
       " '21.13',\n",
       " '21.14',\n",
       " '21.19',\n",
       " '21.2',\n",
       " '21.21',\n",
       " '21.27',\n",
       " '21.38',\n",
       " '21.4',\n",
       " '21.43',\n",
       " '21.5',\n",
       " '21.56',\n",
       " '21.64',\n",
       " '21.66',\n",
       " '21.7',\n",
       " '21.72',\n",
       " '21.76',\n",
       " '21.79',\n",
       " '21.8',\n",
       " '21.9',\n",
       " '22',\n",
       " '22.07',\n",
       " '22.1',\n",
       " '22.24',\n",
       " '22.3',\n",
       " '22.32',\n",
       " '22.48',\n",
       " '22.5',\n",
       " '22.54',\n",
       " '22.69',\n",
       " '22.7',\n",
       " '22.71',\n",
       " '22.74',\n",
       " '22.77',\n",
       " '22.8',\n",
       " '22.9',\n",
       " '22.95',\n",
       " '23',\n",
       " '23.01',\n",
       " '23.03',\n",
       " '23.08',\n",
       " '23.1',\n",
       " '23.19',\n",
       " '23.2',\n",
       " '23.3',\n",
       " '23.4',\n",
       " '23.5',\n",
       " '23.57',\n",
       " '23.59',\n",
       " '23.65',\n",
       " '23.8',\n",
       " '23.84',\n",
       " '23.9',\n",
       " '24',\n",
       " '24.04',\n",
       " '24.07',\n",
       " '24.2',\n",
       " '24.3',\n",
       " '24.4',\n",
       " '24.5',\n",
       " '24.52',\n",
       " '24.6',\n",
       " '24.7',\n",
       " '24.8',\n",
       " '25',\n",
       " '25.01',\n",
       " '25.1',\n",
       " '25.17',\n",
       " '25.2',\n",
       " '25.32',\n",
       " '25.4',\n",
       " '25.44',\n",
       " '25.47',\n",
       " '25.5',\n",
       " '25.6',\n",
       " '25.8',\n",
       " '25.83',\n",
       " '26',\n",
       " '26.1',\n",
       " '26.2',\n",
       " '26.21',\n",
       " '26.3',\n",
       " '26.59',\n",
       " '26.6',\n",
       " '26.8',\n",
       " '26.83',\n",
       " '27.03',\n",
       " '27.28',\n",
       " '27.3',\n",
       " '27.39',\n",
       " '27.4',\n",
       " '27.62',\n",
       " '28.09',\n",
       " '28.4',\n",
       " '30.46',\n",
       " '31.79',\n",
       " '32.26',\n",
       " '33.44',\n",
       " '33.54',\n",
       " '6.4',\n",
       " '7.5',\n",
       " '7.81',\n",
       " '7.94',\n",
       " '8',\n",
       " '8.1',\n",
       " '8.2',\n",
       " '8.3',\n",
       " '8.45',\n",
       " '8.5',\n",
       " '8.6',\n",
       " '8.7',\n",
       " '8.77',\n",
       " '9',\n",
       " '9.1',\n",
       " '9.3',\n",
       " '9.43',\n",
       " '9.5',\n",
       " '9.52',\n",
       " '9.7',\n",
       " '9.74',\n",
       " '9.8',\n",
       " '9.9'}"
      ]
     },
     "execution_count": 21,
     "metadata": {},
     "output_type": "execute_result"
    }
   ],
   "source": [
    "set(df.Mileage)"
   ]
  },
  {
   "cell_type": "code",
   "execution_count": 22,
   "metadata": {},
   "outputs": [],
   "source": [
    "df['mileage'] = pd.to_numeric(df.Mileage.replace('+AC0-1',None))"
   ]
  },
  {
   "cell_type": "code",
   "execution_count": 23,
   "metadata": {},
   "outputs": [
    {
     "data": {
      "text/plain": [
       "<AxesSubplot:xlabel='mileage', ylabel='Price'>"
      ]
     },
     "execution_count": 23,
     "metadata": {},
     "output_type": "execute_result"
    },
    {
     "data": {
      "image/png": "[encoded data removed]",
      "text/plain": [
       "<Figure size 432x288 with 1 Axes>"
      ]
     },
     "metadata": {
      "needs_background": "light"
     },
     "output_type": "display_data"
    }
   ],
   "source": [
    "sns.scatterplot(x=df.mileage,y=df.Price)"
   ]
  },
  {
   "cell_type": "code",
   "execution_count": 24,
   "metadata": {},
   "outputs": [
    {
     "data": {
      "text/plain": [
       "{'+AC0-1',\n",
       " '1014.45',\n",
       " '1047',\n",
       " '1061',\n",
       " '1077.42',\n",
       " '1086',\n",
       " '1120',\n",
       " '1150',\n",
       " '1172',\n",
       " '1186',\n",
       " '1193',\n",
       " '1194',\n",
       " '1196',\n",
       " '1197',\n",
       " '1198',\n",
       " '1199',\n",
       " '1240.47',\n",
       " '1242',\n",
       " '1248',\n",
       " '1272.33',\n",
       " '1298',\n",
       " '1299',\n",
       " '1341',\n",
       " '1343',\n",
       " '1364',\n",
       " '1368',\n",
       " '1373',\n",
       " '1374.44',\n",
       " '1388',\n",
       " '1390',\n",
       " '1395',\n",
       " '1396',\n",
       " '1399',\n",
       " '1405',\n",
       " '1422',\n",
       " '1461',\n",
       " '1462',\n",
       " '1468',\n",
       " '1489',\n",
       " '1493',\n",
       " '1494.72',\n",
       " '1495',\n",
       " '1496',\n",
       " '1497',\n",
       " '1498',\n",
       " '1499',\n",
       " '1582',\n",
       " '1586',\n",
       " '1590',\n",
       " '1591',\n",
       " '1595',\n",
       " '1596',\n",
       " '1597',\n",
       " '1598',\n",
       " '1599',\n",
       " '1781',\n",
       " '1794',\n",
       " '1796',\n",
       " '1797',\n",
       " '1798',\n",
       " '1799',\n",
       " '1896',\n",
       " '1948',\n",
       " '1950',\n",
       " '1956',\n",
       " '1968',\n",
       " '1969',\n",
       " '1978',\n",
       " '1984',\n",
       " '1985',\n",
       " '1991',\n",
       " '1995',\n",
       " '1997',\n",
       " '1998',\n",
       " '1999',\n",
       " '2092',\n",
       " '2112',\n",
       " '2143',\n",
       " '2147',\n",
       " '2148',\n",
       " '2149',\n",
       " '2179',\n",
       " '2198',\n",
       " '2199',\n",
       " '2200',\n",
       " '2216.69',\n",
       " '2349',\n",
       " '2354',\n",
       " '2359',\n",
       " '2359.43',\n",
       " '2360',\n",
       " '2362',\n",
       " '2393',\n",
       " '2400',\n",
       " '2446',\n",
       " '2477',\n",
       " '2487',\n",
       " '2489',\n",
       " '2494',\n",
       " '2495',\n",
       " '2496',\n",
       " '2497',\n",
       " '2498',\n",
       " '2499',\n",
       " '2523',\n",
       " '2609',\n",
       " '2689.36',\n",
       " '2694',\n",
       " '2696',\n",
       " '2698',\n",
       " '2706',\n",
       " '2720',\n",
       " '2755',\n",
       " '2771',\n",
       " '2773',\n",
       " '2835',\n",
       " '2894',\n",
       " '2925',\n",
       " '2953',\n",
       " '2956',\n",
       " '2967',\n",
       " '2979',\n",
       " '2982',\n",
       " '2987',\n",
       " '2993',\n",
       " '2995',\n",
       " '2996',\n",
       " '2997',\n",
       " '2999',\n",
       " '3197',\n",
       " '3198',\n",
       " '3200',\n",
       " '3436',\n",
       " '3498',\n",
       " '3597',\n",
       " '4134',\n",
       " '4367',\n",
       " '4395',\n",
       " '4806',\n",
       " '4951',\n",
       " '5000',\n",
       " '5204',\n",
       " '5461',\n",
       " '5998',\n",
       " '624',\n",
       " '72',\n",
       " '793',\n",
       " '796',\n",
       " '799',\n",
       " '814',\n",
       " '936',\n",
       " '970',\n",
       " '993',\n",
       " '995',\n",
       " '998',\n",
       " '999'}"
      ]
     },
     "execution_count": 24,
     "metadata": {},
     "output_type": "execute_result"
    }
   ],
   "source": [
    "set(df.EngineCC)"
   ]
  },
  {
   "cell_type": "code",
   "execution_count": 25,
   "metadata": {},
   "outputs": [],
   "source": [
    "df['engineCC'] = pd.to_numeric(df.EngineCC.replace('+AC0-1',None))"
   ]
  },
  {
   "cell_type": "code",
   "execution_count": 26,
   "metadata": {},
   "outputs": [
    {
     "data": {
      "text/plain": [
       "{'+AC0-1',\n",
       " '100',\n",
       " '100.6',\n",
       " '101',\n",
       " '102',\n",
       " '102.5',\n",
       " '102.53',\n",
       " '102.57',\n",
       " '103',\n",
       " '103.2',\n",
       " '103.25',\n",
       " '103.3',\n",
       " '103.5',\n",
       " '103.52',\n",
       " '103.6',\n",
       " '104',\n",
       " '104.68',\n",
       " '105',\n",
       " '105.5',\n",
       " '106',\n",
       " '107.2',\n",
       " '107.3',\n",
       " '108.4',\n",
       " '108.45',\n",
       " '108.49',\n",
       " '108.495',\n",
       " '108.5',\n",
       " '108.62',\n",
       " '110',\n",
       " '110.4',\n",
       " '110.5',\n",
       " '110.78',\n",
       " '112',\n",
       " '112.2',\n",
       " '112.4',\n",
       " '112.41',\n",
       " '113.98',\n",
       " '114',\n",
       " '114.4',\n",
       " '115',\n",
       " '116.3',\n",
       " '116.4',\n",
       " '116.6',\n",
       " '116.9',\n",
       " '117.3',\n",
       " '118',\n",
       " '118.3',\n",
       " '118.6',\n",
       " '120',\n",
       " '120.33',\n",
       " '120.7',\n",
       " '121.3',\n",
       " '121.36',\n",
       " '121.4',\n",
       " '122',\n",
       " '122.62',\n",
       " '123.24',\n",
       " '123.37',\n",
       " '123.7',\n",
       " '125',\n",
       " '125.79',\n",
       " '126.2',\n",
       " '126.24',\n",
       " '126.3',\n",
       " '126.32',\n",
       " '127',\n",
       " '130',\n",
       " '130.2',\n",
       " '130.3',\n",
       " '132',\n",
       " '134',\n",
       " '135.1',\n",
       " '136',\n",
       " '138',\n",
       " '138.02',\n",
       " '138.03',\n",
       " '138.08',\n",
       " '138.1',\n",
       " '139.01',\n",
       " '139.07',\n",
       " '140',\n",
       " '140.8',\n",
       " '141',\n",
       " '141.1',\n",
       " '142',\n",
       " '143',\n",
       " '144',\n",
       " '147.5',\n",
       " '147.51',\n",
       " '147.6',\n",
       " '147.8',\n",
       " '147.9',\n",
       " '148',\n",
       " '148.31',\n",
       " '149.92',\n",
       " '150',\n",
       " '152',\n",
       " '152.88',\n",
       " '153.77',\n",
       " '153.86',\n",
       " '154',\n",
       " '155',\n",
       " '156',\n",
       " '157.7',\n",
       " '157.75',\n",
       " '157.8',\n",
       " '158',\n",
       " '158.2',\n",
       " '158.8',\n",
       " '160',\n",
       " '161.6',\n",
       " '162',\n",
       " '163',\n",
       " '163.2',\n",
       " '163.5',\n",
       " '163.63',\n",
       " '163.7',\n",
       " '164.7',\n",
       " '165',\n",
       " '167.6',\n",
       " '167.62',\n",
       " '167.7',\n",
       " '168',\n",
       " '168.5',\n",
       " '168.7',\n",
       " '169',\n",
       " '169.18',\n",
       " '170',\n",
       " '171',\n",
       " '171.5',\n",
       " '174.3',\n",
       " '174.33',\n",
       " '174.5',\n",
       " '174.57',\n",
       " '175.56',\n",
       " '175.67',\n",
       " '177',\n",
       " '177.01',\n",
       " '177.46',\n",
       " '177.5',\n",
       " '177.6',\n",
       " '178',\n",
       " '178.4',\n",
       " '179.5',\n",
       " '180',\n",
       " '181',\n",
       " '181.03',\n",
       " '181.04',\n",
       " '181.43',\n",
       " '183',\n",
       " '184',\n",
       " '185',\n",
       " '186',\n",
       " '187.4',\n",
       " '187.7',\n",
       " '187.74',\n",
       " '189',\n",
       " '189.08',\n",
       " '190',\n",
       " '191.34',\n",
       " '192',\n",
       " '193.1',\n",
       " '194',\n",
       " '194.3',\n",
       " '197',\n",
       " '197.2',\n",
       " '198.25',\n",
       " '198.5',\n",
       " '199.3',\n",
       " '200',\n",
       " '201',\n",
       " '201.1',\n",
       " '201.15',\n",
       " '203',\n",
       " '203.2',\n",
       " '204',\n",
       " '204.43',\n",
       " '207.8',\n",
       " '208',\n",
       " '209.25',\n",
       " '210',\n",
       " '215',\n",
       " '218',\n",
       " '221.14',\n",
       " '224',\n",
       " '224.34',\n",
       " '226.6',\n",
       " '227',\n",
       " '231.1',\n",
       " '235',\n",
       " '236',\n",
       " '237.4',\n",
       " '240',\n",
       " '241',\n",
       " '241.38',\n",
       " '241.4',\n",
       " '245',\n",
       " '246.7',\n",
       " '246.74',\n",
       " '250',\n",
       " '254',\n",
       " '254.79',\n",
       " '254.8',\n",
       " '255',\n",
       " '258',\n",
       " '261',\n",
       " '261.49',\n",
       " '261.5',\n",
       " '262.6',\n",
       " '265',\n",
       " '270.88',\n",
       " '270.9',\n",
       " '271.23',\n",
       " '271.72',\n",
       " '272',\n",
       " '281.61',\n",
       " '282',\n",
       " '300',\n",
       " '301.73',\n",
       " '306',\n",
       " '308',\n",
       " '308.43',\n",
       " '313',\n",
       " '320',\n",
       " '321',\n",
       " '333',\n",
       " '335.2',\n",
       " '335.3',\n",
       " '34.2',\n",
       " '340',\n",
       " '35',\n",
       " '35.5',\n",
       " '362.07',\n",
       " '362.9',\n",
       " '364.9',\n",
       " '367',\n",
       " '37',\n",
       " '37.48',\n",
       " '37.5',\n",
       " '38.4',\n",
       " '382',\n",
       " '387.3',\n",
       " '394.3',\n",
       " '395',\n",
       " '40.3',\n",
       " '402',\n",
       " '41',\n",
       " '421',\n",
       " '444',\n",
       " '450',\n",
       " '46.3',\n",
       " '47',\n",
       " '47.3',\n",
       " '48.21',\n",
       " '488.1',\n",
       " '500',\n",
       " '503',\n",
       " '52.8',\n",
       " '53',\n",
       " '53.3',\n",
       " '53.5',\n",
       " '53.64',\n",
       " '55',\n",
       " '55.2',\n",
       " '55.23',\n",
       " '550',\n",
       " '552',\n",
       " '56.3',\n",
       " '560',\n",
       " '57.5',\n",
       " '57.6',\n",
       " '58.16',\n",
       " '58.2',\n",
       " '58.33',\n",
       " '60',\n",
       " '61',\n",
       " '62',\n",
       " '62.1',\n",
       " '62.28',\n",
       " '63',\n",
       " '63.05',\n",
       " '63.1',\n",
       " '63.12',\n",
       " '64',\n",
       " '64.08',\n",
       " '64.1',\n",
       " '65',\n",
       " '65.3',\n",
       " '66',\n",
       " '66.03',\n",
       " '66.1',\n",
       " '66.7',\n",
       " '67',\n",
       " '67.04',\n",
       " '67.05',\n",
       " '67.06',\n",
       " '67.1',\n",
       " '67.68',\n",
       " '68',\n",
       " '68.05',\n",
       " '68.1',\n",
       " '68.61',\n",
       " '69',\n",
       " '69.01',\n",
       " '70',\n",
       " '70.02',\n",
       " '71',\n",
       " '71.01',\n",
       " '73',\n",
       " '73.74',\n",
       " '73.75',\n",
       " '73.8',\n",
       " '73.9',\n",
       " '73.94',\n",
       " '73.97',\n",
       " '74',\n",
       " '74.27',\n",
       " '74.9',\n",
       " '74.93',\n",
       " '74.96',\n",
       " '75',\n",
       " '75.94',\n",
       " '76',\n",
       " '76.8',\n",
       " '76.9',\n",
       " '77',\n",
       " '77.88',\n",
       " '78',\n",
       " '78.08',\n",
       " '78.9',\n",
       " '79.4',\n",
       " '80',\n",
       " '80.46',\n",
       " '80.9',\n",
       " '81.8',\n",
       " '81.83',\n",
       " '81.86',\n",
       " '82',\n",
       " '82.4',\n",
       " '82.5',\n",
       " '82.85',\n",
       " '82.9',\n",
       " '83',\n",
       " '83.08',\n",
       " '83.1',\n",
       " '83.11',\n",
       " '83.14',\n",
       " '83.8',\n",
       " '83.83',\n",
       " '84',\n",
       " '84.8',\n",
       " '85',\n",
       " '85.7',\n",
       " '85.8',\n",
       " '86.7',\n",
       " '86.76',\n",
       " '86.79',\n",
       " '86.8',\n",
       " '87.2',\n",
       " '88',\n",
       " '88.2',\n",
       " '88.5',\n",
       " '88.7',\n",
       " '88.73',\n",
       " '88.76',\n",
       " '88.8',\n",
       " '89.75',\n",
       " '89.84',\n",
       " '90',\n",
       " '91.1',\n",
       " '91.2',\n",
       " '91.25',\n",
       " '91.7',\n",
       " '91.72',\n",
       " '92',\n",
       " '92.7',\n",
       " '93',\n",
       " '93.7',\n",
       " '94',\n",
       " '94.68',\n",
       " '95',\n",
       " '97.6',\n",
       " '97.7',\n",
       " '98.59',\n",
       " '98.6',\n",
       " '98.79',\n",
       " '98.82',\n",
       " '98.96',\n",
       " '99',\n",
       " '99.6'}"
      ]
     },
     "execution_count": 26,
     "metadata": {},
     "output_type": "execute_result"
    }
   ],
   "source": [
    "set(df.PowerBhp)"
   ]
  },
  {
   "cell_type": "code",
   "execution_count": 27,
   "metadata": {},
   "outputs": [],
   "source": [
    "df['powerBhp'] = pd.to_numeric(df.PowerBhp.replace('+AC0-1',None))"
   ]
  },
  {
   "cell_type": "code",
   "execution_count": 28,
   "metadata": {},
   "outputs": [
    {
     "name": "stdout",
     "output_type": "stream",
     "text": [
      "<class 'pandas.core.frame.DataFrame'>\n",
      "RangeIndex: 6019 entries, 0 to 6018\n",
      "Data columns (total 14 columns):\n",
      " #   Column        Non-Null Count  Dtype  \n",
      "---  ------        --------------  -----  \n",
      " 0   Price         6019 non-null   float64\n",
      " 1   Make          6019 non-null   object \n",
      " 2   Location      6019 non-null   object \n",
      " 3   Age           6019 non-null   int64  \n",
      " 4   Odometer      6019 non-null   int64  \n",
      " 5   FuelType      6019 non-null   object \n",
      " 6   Transmission  6019 non-null   object \n",
      " 7   OwnerType     6019 non-null   object \n",
      " 8   Mileage       6019 non-null   object \n",
      " 9   EngineCC      6019 non-null   object \n",
      " 10  PowerBhp      6019 non-null   object \n",
      " 11  mileage       6019 non-null   float64\n",
      " 12  engineCC      6019 non-null   float64\n",
      " 13  powerBhp      6019 non-null   float64\n",
      "dtypes: float64(4), int64(2), object(8)\n",
      "memory usage: 658.5+ KB\n"
     ]
    }
   ],
   "source": [
    "df.info()"
   ]
  },
  {
   "cell_type": "code",
   "execution_count": 29,
   "metadata": {},
   "outputs": [
    {
     "data": {
      "text/html": [
       "<div>\n",
       "<style scoped>\n",
       "    .dataframe tbody tr th:only-of-type {\n",
       "        vertical-align: middle;\n",
       "    }\n",
       "\n",
       "    .dataframe tbody tr th {\n",
       "        vertical-align: top;\n",
       "    }\n",
       "\n",
       "    .dataframe thead th {\n",
       "        text-align: right;\n",
       "    }\n",
       "</style>\n",
       "<table border=\"1\" class=\"dataframe\">\n",
       "  <thead>\n",
       "    <tr style=\"text-align: right;\">\n",
       "      <th></th>\n",
       "      <th>Price</th>\n",
       "      <th>Make</th>\n",
       "      <th>Location</th>\n",
       "      <th>Age</th>\n",
       "      <th>Odometer</th>\n",
       "      <th>FuelType</th>\n",
       "      <th>Transmission</th>\n",
       "      <th>OwnerType</th>\n",
       "      <th>Mileage</th>\n",
       "      <th>EngineCC</th>\n",
       "      <th>PowerBhp</th>\n",
       "      <th>mileage</th>\n",
       "      <th>engineCC</th>\n",
       "      <th>powerBhp</th>\n",
       "    </tr>\n",
       "  </thead>\n",
       "  <tbody>\n",
       "    <tr>\n",
       "      <th>0</th>\n",
       "      <td>1.75</td>\n",
       "      <td>marutiwagonr</td>\n",
       "      <td>Mumbai</td>\n",
       "      <td>10</td>\n",
       "      <td>72000</td>\n",
       "      <td>CNG</td>\n",
       "      <td>Manual</td>\n",
       "      <td>First</td>\n",
       "      <td>26.6</td>\n",
       "      <td>998</td>\n",
       "      <td>58.16</td>\n",
       "      <td>26.60</td>\n",
       "      <td>998.0</td>\n",
       "      <td>58.16</td>\n",
       "    </tr>\n",
       "    <tr>\n",
       "      <th>1</th>\n",
       "      <td>12.50</td>\n",
       "      <td>hyundaicreta</td>\n",
       "      <td>Pune</td>\n",
       "      <td>5</td>\n",
       "      <td>41000</td>\n",
       "      <td>Diesel</td>\n",
       "      <td>Manual</td>\n",
       "      <td>First</td>\n",
       "      <td>19.67</td>\n",
       "      <td>1582</td>\n",
       "      <td>126.2</td>\n",
       "      <td>19.67</td>\n",
       "      <td>1582.0</td>\n",
       "      <td>126.20</td>\n",
       "    </tr>\n",
       "    <tr>\n",
       "      <th>2</th>\n",
       "      <td>4.50</td>\n",
       "      <td>hondajazz</td>\n",
       "      <td>Chennai</td>\n",
       "      <td>9</td>\n",
       "      <td>46000</td>\n",
       "      <td>Petrol</td>\n",
       "      <td>Manual</td>\n",
       "      <td>First</td>\n",
       "      <td>18.2</td>\n",
       "      <td>1199</td>\n",
       "      <td>88.7</td>\n",
       "      <td>18.20</td>\n",
       "      <td>1199.0</td>\n",
       "      <td>88.70</td>\n",
       "    </tr>\n",
       "    <tr>\n",
       "      <th>3</th>\n",
       "      <td>6.00</td>\n",
       "      <td>marutiertiga</td>\n",
       "      <td>Chennai</td>\n",
       "      <td>8</td>\n",
       "      <td>87000</td>\n",
       "      <td>Diesel</td>\n",
       "      <td>Manual</td>\n",
       "      <td>First</td>\n",
       "      <td>20.77</td>\n",
       "      <td>1248</td>\n",
       "      <td>88.76</td>\n",
       "      <td>20.77</td>\n",
       "      <td>1248.0</td>\n",
       "      <td>88.76</td>\n",
       "    </tr>\n",
       "    <tr>\n",
       "      <th>4</th>\n",
       "      <td>17.74</td>\n",
       "      <td>audia4</td>\n",
       "      <td>Coimbatore</td>\n",
       "      <td>7</td>\n",
       "      <td>40670</td>\n",
       "      <td>Diesel</td>\n",
       "      <td>Automatic</td>\n",
       "      <td>Second</td>\n",
       "      <td>15.2</td>\n",
       "      <td>1968</td>\n",
       "      <td>140.8</td>\n",
       "      <td>15.20</td>\n",
       "      <td>1968.0</td>\n",
       "      <td>140.80</td>\n",
       "    </tr>\n",
       "  </tbody>\n",
       "</table>\n",
       "</div>"
      ],
      "text/plain": [
       "   Price          Make    Location  Age  Odometer FuelType Transmission  \\\n",
       "0   1.75  marutiwagonr      Mumbai   10     72000      CNG       Manual   \n",
       "1  12.50  hyundaicreta        Pune    5     41000   Diesel       Manual   \n",
       "2   4.50     hondajazz     Chennai    9     46000   Petrol       Manual   \n",
       "3   6.00  marutiertiga     Chennai    8     87000   Diesel       Manual   \n",
       "4  17.74        audia4  Coimbatore    7     40670   Diesel    Automatic   \n",
       "\n",
       "  OwnerType Mileage EngineCC PowerBhp  mileage  engineCC  powerBhp  \n",
       "0     First    26.6      998    58.16    26.60     998.0     58.16  \n",
       "1     First   19.67     1582    126.2    19.67    1582.0    126.20  \n",
       "2     First    18.2     1199     88.7    18.20    1199.0     88.70  \n",
       "3     First   20.77     1248    88.76    20.77    1248.0     88.76  \n",
       "4    Second    15.2     1968    140.8    15.20    1968.0    140.80  "
      ]
     },
     "execution_count": 29,
     "metadata": {},
     "output_type": "execute_result"
    }
   ],
   "source": [
    "df.head()"
   ]
  },
  {
   "cell_type": "code",
   "execution_count": 30,
   "metadata": {},
   "outputs": [
    {
     "data": {
      "text/plain": [
       "<seaborn.axisgrid.PairGrid at 0x7f8a48bbb250>"
      ]
     },
     "execution_count": 30,
     "metadata": {},
     "output_type": "execute_result"
    },
    {
     "data": {
      "image/png": "[encoded data removed]",
      "text/plain": [
       "<Figure size 1080x1080 with 42 Axes>"
      ]
     },
     "metadata": {
      "needs_background": "light"
     },
     "output_type": "display_data"
    }
   ],
   "source": [
    "sns.pairplot(df[['Price','Age','Odometer','mileage','engineCC','powerBhp']])"
   ]
  },
  {
   "cell_type": "code",
   "execution_count": 31,
   "metadata": {},
   "outputs": [
    {
     "data": {
      "text/plain": [
       "<seaborn.axisgrid.PairGrid at 0x7f8a4ad8f2b0>"
      ]
     },
     "execution_count": 31,
     "metadata": {},
     "output_type": "execute_result"
    },
    {
     "data": {
      "image/png": "[encoded data removed]",
      "text/plain": [
       "<Figure size 540x540 with 12 Axes>"
      ]
     },
     "metadata": {
      "needs_background": "light"
     },
     "output_type": "display_data"
    }
   ],
   "source": [
    "sns.pairplot(df[['Price','Age','Odometer']])"
   ]
  },
  {
   "cell_type": "code",
   "execution_count": 32,
   "metadata": {},
   "outputs": [
    {
     "data": {
      "text/html": [
       "<div>\n",
       "<style scoped>\n",
       "    .dataframe tbody tr th:only-of-type {\n",
       "        vertical-align: middle;\n",
       "    }\n",
       "\n",
       "    .dataframe tbody tr th {\n",
       "        vertical-align: top;\n",
       "    }\n",
       "\n",
       "    .dataframe thead th {\n",
       "        text-align: right;\n",
       "    }\n",
       "</style>\n",
       "<table border=\"1\" class=\"dataframe\">\n",
       "  <thead>\n",
       "    <tr style=\"text-align: right;\">\n",
       "      <th></th>\n",
       "      <th>Price</th>\n",
       "      <th>Age</th>\n",
       "      <th>Odometer</th>\n",
       "      <th>mileage</th>\n",
       "      <th>engineCC</th>\n",
       "      <th>powerBhp</th>\n",
       "    </tr>\n",
       "  </thead>\n",
       "  <tbody>\n",
       "    <tr>\n",
       "      <th>Price</th>\n",
       "      <td>1.000000</td>\n",
       "      <td>-0.305327</td>\n",
       "      <td>-0.011493</td>\n",
       "      <td>-0.334989</td>\n",
       "      <td>0.659230</td>\n",
       "      <td>0.771140</td>\n",
       "    </tr>\n",
       "    <tr>\n",
       "      <th>Age</th>\n",
       "      <td>-0.305327</td>\n",
       "      <td>1.000000</td>\n",
       "      <td>0.173048</td>\n",
       "      <td>-0.295045</td>\n",
       "      <td>0.050181</td>\n",
       "      <td>-0.028722</td>\n",
       "    </tr>\n",
       "    <tr>\n",
       "      <th>Odometer</th>\n",
       "      <td>-0.011493</td>\n",
       "      <td>0.173048</td>\n",
       "      <td>1.000000</td>\n",
       "      <td>-0.065223</td>\n",
       "      <td>0.090721</td>\n",
       "      <td>0.031543</td>\n",
       "    </tr>\n",
       "    <tr>\n",
       "      <th>mileage</th>\n",
       "      <td>-0.334989</td>\n",
       "      <td>-0.295045</td>\n",
       "      <td>-0.065223</td>\n",
       "      <td>1.000000</td>\n",
       "      <td>-0.641136</td>\n",
       "      <td>-0.545009</td>\n",
       "    </tr>\n",
       "    <tr>\n",
       "      <th>engineCC</th>\n",
       "      <td>0.659230</td>\n",
       "      <td>0.050181</td>\n",
       "      <td>0.090721</td>\n",
       "      <td>-0.641136</td>\n",
       "      <td>1.000000</td>\n",
       "      <td>0.863728</td>\n",
       "    </tr>\n",
       "    <tr>\n",
       "      <th>powerBhp</th>\n",
       "      <td>0.771140</td>\n",
       "      <td>-0.028722</td>\n",
       "      <td>0.031543</td>\n",
       "      <td>-0.545009</td>\n",
       "      <td>0.863728</td>\n",
       "      <td>1.000000</td>\n",
       "    </tr>\n",
       "  </tbody>\n",
       "</table>\n",
       "</div>"
      ],
      "text/plain": [
       "             Price       Age  Odometer   mileage  engineCC  powerBhp\n",
       "Price     1.000000 -0.305327 -0.011493 -0.334989  0.659230  0.771140\n",
       "Age      -0.305327  1.000000  0.173048 -0.295045  0.050181 -0.028722\n",
       "Odometer -0.011493  0.173048  1.000000 -0.065223  0.090721  0.031543\n",
       "mileage  -0.334989 -0.295045 -0.065223  1.000000 -0.641136 -0.545009\n",
       "engineCC  0.659230  0.050181  0.090721 -0.641136  1.000000  0.863728\n",
       "powerBhp  0.771140 -0.028722  0.031543 -0.545009  0.863728  1.000000"
      ]
     },
     "execution_count": 32,
     "metadata": {},
     "output_type": "execute_result"
    }
   ],
   "source": [
    "corrl = (df[['Price','Age','Odometer','mileage','engineCC','powerBhp']]).corr()\n",
    "corrl"
   ]
  },
  {
   "cell_type": "code",
   "execution_count": 33,
   "metadata": {},
   "outputs": [
    {
     "data": {
      "text/html": [
       "<style  type=\"text/css\" >\n",
       "#T_07add0f2_50fe_11eb_8e89_acde48001122row0_col0,#T_07add0f2_50fe_11eb_8e89_acde48001122row1_col1,#T_07add0f2_50fe_11eb_8e89_acde48001122row2_col2,#T_07add0f2_50fe_11eb_8e89_acde48001122row3_col3,#T_07add0f2_50fe_11eb_8e89_acde48001122row4_col4,#T_07add0f2_50fe_11eb_8e89_acde48001122row5_col5{\n",
       "            background-color:  #b40426;\n",
       "            color:  #f1f1f1;\n",
       "        }#T_07add0f2_50fe_11eb_8e89_acde48001122row0_col1,#T_07add0f2_50fe_11eb_8e89_acde48001122row3_col0,#T_07add0f2_50fe_11eb_8e89_acde48001122row3_col2,#T_07add0f2_50fe_11eb_8e89_acde48001122row3_col4,#T_07add0f2_50fe_11eb_8e89_acde48001122row3_col5,#T_07add0f2_50fe_11eb_8e89_acde48001122row4_col3{\n",
       "            background-color:  #3b4cc0;\n",
       "            color:  #f1f1f1;\n",
       "        }#T_07add0f2_50fe_11eb_8e89_acde48001122row0_col2{\n",
       "            background-color:  #4961d2;\n",
       "            color:  #f1f1f1;\n",
       "        }#T_07add0f2_50fe_11eb_8e89_acde48001122row0_col3{\n",
       "            background-color:  #7699f6;\n",
       "            color:  #000000;\n",
       "        }#T_07add0f2_50fe_11eb_8e89_acde48001122row0_col4{\n",
       "            background-color:  #ef886b;\n",
       "            color:  #000000;\n",
       "        }#T_07add0f2_50fe_11eb_8e89_acde48001122row0_col5{\n",
       "            background-color:  #e36b54;\n",
       "            color:  #000000;\n",
       "        }#T_07add0f2_50fe_11eb_8e89_acde48001122row1_col0{\n",
       "            background-color:  #4055c8;\n",
       "            color:  #f1f1f1;\n",
       "        }#T_07add0f2_50fe_11eb_8e89_acde48001122row1_col2{\n",
       "            background-color:  #84a7fc;\n",
       "            color:  #000000;\n",
       "        }#T_07add0f2_50fe_11eb_8e89_acde48001122row1_col3{\n",
       "            background-color:  #7ea1fa;\n",
       "            color:  #000000;\n",
       "        }#T_07add0f2_50fe_11eb_8e89_acde48001122row1_col4{\n",
       "            background-color:  #c6d6f1;\n",
       "            color:  #000000;\n",
       "        }#T_07add0f2_50fe_11eb_8e89_acde48001122row1_col5{\n",
       "            background-color:  #aac7fd;\n",
       "            color:  #000000;\n",
       "        }#T_07add0f2_50fe_11eb_8e89_acde48001122row2_col0{\n",
       "            background-color:  #8badfd;\n",
       "            color:  #000000;\n",
       "        }#T_07add0f2_50fe_11eb_8e89_acde48001122row2_col1{\n",
       "            background-color:  #b5cdfa;\n",
       "            color:  #000000;\n",
       "        }#T_07add0f2_50fe_11eb_8e89_acde48001122row2_col3{\n",
       "            background-color:  #afcafc;\n",
       "            color:  #000000;\n",
       "        }#T_07add0f2_50fe_11eb_8e89_acde48001122row2_col4{\n",
       "            background-color:  #cedaeb;\n",
       "            color:  #000000;\n",
       "        }#T_07add0f2_50fe_11eb_8e89_acde48001122row2_col5{\n",
       "            background-color:  #b7cff9;\n",
       "            color:  #000000;\n",
       "        }#T_07add0f2_50fe_11eb_8e89_acde48001122row3_col1{\n",
       "            background-color:  #3d50c3;\n",
       "            color:  #f1f1f1;\n",
       "        }#T_07add0f2_50fe_11eb_8e89_acde48001122row4_col0{\n",
       "            background-color:  #f59c7d;\n",
       "            color:  #000000;\n",
       "        }#T_07add0f2_50fe_11eb_8e89_acde48001122row4_col1{\n",
       "            background-color:  #94b6ff;\n",
       "            color:  #000000;\n",
       "        }#T_07add0f2_50fe_11eb_8e89_acde48001122row4_col2{\n",
       "            background-color:  #688aef;\n",
       "            color:  #000000;\n",
       "        }#T_07add0f2_50fe_11eb_8e89_acde48001122row4_col5{\n",
       "            background-color:  #d24b40;\n",
       "            color:  #f1f1f1;\n",
       "        }#T_07add0f2_50fe_11eb_8e89_acde48001122row5_col0{\n",
       "            background-color:  #e8765c;\n",
       "            color:  #000000;\n",
       "        }#T_07add0f2_50fe_11eb_8e89_acde48001122row5_col1{\n",
       "            background-color:  #80a3fa;\n",
       "            color:  #000000;\n",
       "        }#T_07add0f2_50fe_11eb_8e89_acde48001122row5_col2{\n",
       "            background-color:  #5673e0;\n",
       "            color:  #000000;\n",
       "        }#T_07add0f2_50fe_11eb_8e89_acde48001122row5_col3{\n",
       "            background-color:  #4b64d5;\n",
       "            color:  #f1f1f1;\n",
       "        }#T_07add0f2_50fe_11eb_8e89_acde48001122row5_col4{\n",
       "            background-color:  #d1493f;\n",
       "            color:  #f1f1f1;\n",
       "        }</style><table id=\"T_07add0f2_50fe_11eb_8e89_acde48001122\" ><thead>    <tr>        <th class=\"blank level0\" ></th>        <th class=\"col_heading level0 col0\" >Price</th>        <th class=\"col_heading level0 col1\" >Age</th>        <th class=\"col_heading level0 col2\" >Odometer</th>        <th class=\"col_heading level0 col3\" >mileage</th>        <th class=\"col_heading level0 col4\" >engineCC</th>        <th class=\"col_heading level0 col5\" >powerBhp</th>    </tr></thead><tbody>\n",
       "                <tr>\n",
       "                        <th id=\"T_07add0f2_50fe_11eb_8e89_acde48001122level0_row0\" class=\"row_heading level0 row0\" >Price</th>\n",
       "                        <td id=\"T_07add0f2_50fe_11eb_8e89_acde48001122row0_col0\" class=\"data row0 col0\" >1.000000</td>\n",
       "                        <td id=\"T_07add0f2_50fe_11eb_8e89_acde48001122row0_col1\" class=\"data row0 col1\" >-0.305327</td>\n",
       "                        <td id=\"T_07add0f2_50fe_11eb_8e89_acde48001122row0_col2\" class=\"data row0 col2\" >-0.011493</td>\n",
       "                        <td id=\"T_07add0f2_50fe_11eb_8e89_acde48001122row0_col3\" class=\"data row0 col3\" >-0.334989</td>\n",
       "                        <td id=\"T_07add0f2_50fe_11eb_8e89_acde48001122row0_col4\" class=\"data row0 col4\" >0.659230</td>\n",
       "                        <td id=\"T_07add0f2_50fe_11eb_8e89_acde48001122row0_col5\" class=\"data row0 col5\" >0.771140</td>\n",
       "            </tr>\n",
       "            <tr>\n",
       "                        <th id=\"T_07add0f2_50fe_11eb_8e89_acde48001122level0_row1\" class=\"row_heading level0 row1\" >Age</th>\n",
       "                        <td id=\"T_07add0f2_50fe_11eb_8e89_acde48001122row1_col0\" class=\"data row1 col0\" >-0.305327</td>\n",
       "                        <td id=\"T_07add0f2_50fe_11eb_8e89_acde48001122row1_col1\" class=\"data row1 col1\" >1.000000</td>\n",
       "                        <td id=\"T_07add0f2_50fe_11eb_8e89_acde48001122row1_col2\" class=\"data row1 col2\" >0.173048</td>\n",
       "                        <td id=\"T_07add0f2_50fe_11eb_8e89_acde48001122row1_col3\" class=\"data row1 col3\" >-0.295045</td>\n",
       "                        <td id=\"T_07add0f2_50fe_11eb_8e89_acde48001122row1_col4\" class=\"data row1 col4\" >0.050181</td>\n",
       "                        <td id=\"T_07add0f2_50fe_11eb_8e89_acde48001122row1_col5\" class=\"data row1 col5\" >-0.028722</td>\n",
       "            </tr>\n",
       "            <tr>\n",
       "                        <th id=\"T_07add0f2_50fe_11eb_8e89_acde48001122level0_row2\" class=\"row_heading level0 row2\" >Odometer</th>\n",
       "                        <td id=\"T_07add0f2_50fe_11eb_8e89_acde48001122row2_col0\" class=\"data row2 col0\" >-0.011493</td>\n",
       "                        <td id=\"T_07add0f2_50fe_11eb_8e89_acde48001122row2_col1\" class=\"data row2 col1\" >0.173048</td>\n",
       "                        <td id=\"T_07add0f2_50fe_11eb_8e89_acde48001122row2_col2\" class=\"data row2 col2\" >1.000000</td>\n",
       "                        <td id=\"T_07add0f2_50fe_11eb_8e89_acde48001122row2_col3\" class=\"data row2 col3\" >-0.065223</td>\n",
       "                        <td id=\"T_07add0f2_50fe_11eb_8e89_acde48001122row2_col4\" class=\"data row2 col4\" >0.090721</td>\n",
       "                        <td id=\"T_07add0f2_50fe_11eb_8e89_acde48001122row2_col5\" class=\"data row2 col5\" >0.031543</td>\n",
       "            </tr>\n",
       "            <tr>\n",
       "                        <th id=\"T_07add0f2_50fe_11eb_8e89_acde48001122level0_row3\" class=\"row_heading level0 row3\" >mileage</th>\n",
       "                        <td id=\"T_07add0f2_50fe_11eb_8e89_acde48001122row3_col0\" class=\"data row3 col0\" >-0.334989</td>\n",
       "                        <td id=\"T_07add0f2_50fe_11eb_8e89_acde48001122row3_col1\" class=\"data row3 col1\" >-0.295045</td>\n",
       "                        <td id=\"T_07add0f2_50fe_11eb_8e89_acde48001122row3_col2\" class=\"data row3 col2\" >-0.065223</td>\n",
       "                        <td id=\"T_07add0f2_50fe_11eb_8e89_acde48001122row3_col3\" class=\"data row3 col3\" >1.000000</td>\n",
       "                        <td id=\"T_07add0f2_50fe_11eb_8e89_acde48001122row3_col4\" class=\"data row3 col4\" >-0.641136</td>\n",
       "                        <td id=\"T_07add0f2_50fe_11eb_8e89_acde48001122row3_col5\" class=\"data row3 col5\" >-0.545009</td>\n",
       "            </tr>\n",
       "            <tr>\n",
       "                        <th id=\"T_07add0f2_50fe_11eb_8e89_acde48001122level0_row4\" class=\"row_heading level0 row4\" >engineCC</th>\n",
       "                        <td id=\"T_07add0f2_50fe_11eb_8e89_acde48001122row4_col0\" class=\"data row4 col0\" >0.659230</td>\n",
       "                        <td id=\"T_07add0f2_50fe_11eb_8e89_acde48001122row4_col1\" class=\"data row4 col1\" >0.050181</td>\n",
       "                        <td id=\"T_07add0f2_50fe_11eb_8e89_acde48001122row4_col2\" class=\"data row4 col2\" >0.090721</td>\n",
       "                        <td id=\"T_07add0f2_50fe_11eb_8e89_acde48001122row4_col3\" class=\"data row4 col3\" >-0.641136</td>\n",
       "                        <td id=\"T_07add0f2_50fe_11eb_8e89_acde48001122row4_col4\" class=\"data row4 col4\" >1.000000</td>\n",
       "                        <td id=\"T_07add0f2_50fe_11eb_8e89_acde48001122row4_col5\" class=\"data row4 col5\" >0.863728</td>\n",
       "            </tr>\n",
       "            <tr>\n",
       "                        <th id=\"T_07add0f2_50fe_11eb_8e89_acde48001122level0_row5\" class=\"row_heading level0 row5\" >powerBhp</th>\n",
       "                        <td id=\"T_07add0f2_50fe_11eb_8e89_acde48001122row5_col0\" class=\"data row5 col0\" >0.771140</td>\n",
       "                        <td id=\"T_07add0f2_50fe_11eb_8e89_acde48001122row5_col1\" class=\"data row5 col1\" >-0.028722</td>\n",
       "                        <td id=\"T_07add0f2_50fe_11eb_8e89_acde48001122row5_col2\" class=\"data row5 col2\" >0.031543</td>\n",
       "                        <td id=\"T_07add0f2_50fe_11eb_8e89_acde48001122row5_col3\" class=\"data row5 col3\" >-0.545009</td>\n",
       "                        <td id=\"T_07add0f2_50fe_11eb_8e89_acde48001122row5_col4\" class=\"data row5 col4\" >0.863728</td>\n",
       "                        <td id=\"T_07add0f2_50fe_11eb_8e89_acde48001122row5_col5\" class=\"data row5 col5\" >1.000000</td>\n",
       "            </tr>\n",
       "    </tbody></table>"
      ],
      "text/plain": [
       "<pandas.io.formats.style.Styler at 0x7f8a4aeb23d0>"
      ]
     },
     "execution_count": 33,
     "metadata": {},
     "output_type": "execute_result"
    }
   ],
   "source": [
    "corrl.style.background_gradient(cmap='coolwarm')"
   ]
  },
  {
   "cell_type": "code",
   "execution_count": 34,
   "metadata": {},
   "outputs": [
    {
     "data": {
      "text/plain": [
       "array([['Yes', 'No', 'No', 'No', 'Yes', 'Yes'],\n",
       "       ['No', 'Yes', 'No', 'No', 'No', 'No'],\n",
       "       ['No', 'No', 'Yes', 'No', 'No', 'No'],\n",
       "       ['No', 'No', 'No', 'Yes', 'No', 'No'],\n",
       "       ['Yes', 'No', 'No', 'No', 'Yes', 'Yes'],\n",
       "       ['Yes', 'No', 'No', 'No', 'Yes', 'Yes']], dtype='<U3')"
      ]
     },
     "execution_count": 34,
     "metadata": {},
     "output_type": "execute_result"
    }
   ],
   "source": [
    "np.where((df[['Price','Age','Odometer','mileage','engineCC','powerBhp']]).corr()>0.6,'Yes','No')"
   ]
  },
  {
   "cell_type": "code",
   "execution_count": 35,
   "metadata": {},
   "outputs": [],
   "source": [
    "# Power BHP is highly positively correlated with the Price\n",
    "# EngineCC is also highly correlated with the Price"
   ]
  },
  {
   "cell_type": "code",
   "execution_count": 36,
   "metadata": {},
   "outputs": [],
   "source": [
    "# created dummy variables for those\n",
    "# Location\n",
    "# FuelType\n",
    "# Transmission\n",
    "# OwnerType"
   ]
  },
  {
   "cell_type": "code",
   "execution_count": 37,
   "metadata": {},
   "outputs": [
    {
     "name": "stdout",
     "output_type": "stream",
     "text": [
      "<class 'pandas.core.frame.DataFrame'>\n",
      "RangeIndex: 6019 entries, 0 to 6018\n",
      "Data columns (total 14 columns):\n",
      " #   Column        Non-Null Count  Dtype  \n",
      "---  ------        --------------  -----  \n",
      " 0   Price         6019 non-null   float64\n",
      " 1   Make          6019 non-null   object \n",
      " 2   Location      6019 non-null   object \n",
      " 3   Age           6019 non-null   int64  \n",
      " 4   Odometer      6019 non-null   int64  \n",
      " 5   FuelType      6019 non-null   object \n",
      " 6   Transmission  6019 non-null   object \n",
      " 7   OwnerType     6019 non-null   object \n",
      " 8   Mileage       6019 non-null   object \n",
      " 9   EngineCC      6019 non-null   object \n",
      " 10  PowerBhp      6019 non-null   object \n",
      " 11  mileage       6019 non-null   float64\n",
      " 12  engineCC      6019 non-null   float64\n",
      " 13  powerBhp      6019 non-null   float64\n",
      "dtypes: float64(4), int64(2), object(8)\n",
      "memory usage: 658.5+ KB\n"
     ]
    }
   ],
   "source": [
    "df.info()"
   ]
  },
  {
   "cell_type": "code",
   "execution_count": 38,
   "metadata": {},
   "outputs": [],
   "source": [
    "Location_dummy = pd.get_dummies(df.Location,prefix='Location',drop_first=True)"
   ]
  },
  {
   "cell_type": "code",
   "execution_count": 39,
   "metadata": {},
   "outputs": [],
   "source": [
    "FuelType_dummy = pd.get_dummies(df.FuelType,prefix='FuelType',drop_first=True)"
   ]
  },
  {
   "cell_type": "code",
   "execution_count": 40,
   "metadata": {},
   "outputs": [],
   "source": [
    "Transmission_dummy = pd.get_dummies(df.Transmission,prefix='Transmission',drop_first=True)"
   ]
  },
  {
   "cell_type": "code",
   "execution_count": 41,
   "metadata": {},
   "outputs": [],
   "source": [
    "OwnerType_dummy = pd.get_dummies(df.OwnerType,prefix='OwnerType',drop_first=True)"
   ]
  },
  {
   "cell_type": "code",
   "execution_count": 42,
   "metadata": {},
   "outputs": [],
   "source": [
    "combine_all_dummy = pd.concat([df,Location_dummy,FuelType_dummy,Transmission_dummy,OwnerType_dummy],axis=1)"
   ]
  },
  {
   "cell_type": "code",
   "execution_count": 43,
   "metadata": {},
   "outputs": [
    {
     "data": {
      "text/html": [
       "<div>\n",
       "<style scoped>\n",
       "    .dataframe tbody tr th:only-of-type {\n",
       "        vertical-align: middle;\n",
       "    }\n",
       "\n",
       "    .dataframe tbody tr th {\n",
       "        vertical-align: top;\n",
       "    }\n",
       "\n",
       "    .dataframe thead th {\n",
       "        text-align: right;\n",
       "    }\n",
       "</style>\n",
       "<table border=\"1\" class=\"dataframe\">\n",
       "  <thead>\n",
       "    <tr style=\"text-align: right;\">\n",
       "      <th></th>\n",
       "      <th>Price</th>\n",
       "      <th>Make</th>\n",
       "      <th>Location</th>\n",
       "      <th>Age</th>\n",
       "      <th>Odometer</th>\n",
       "      <th>FuelType</th>\n",
       "      <th>Transmission</th>\n",
       "      <th>OwnerType</th>\n",
       "      <th>Mileage</th>\n",
       "      <th>EngineCC</th>\n",
       "      <th>...</th>\n",
       "      <th>Location_Mumbai</th>\n",
       "      <th>Location_Pune</th>\n",
       "      <th>FuelType_Diesel</th>\n",
       "      <th>FuelType_Electric</th>\n",
       "      <th>FuelType_LPG</th>\n",
       "      <th>FuelType_Petrol</th>\n",
       "      <th>Transmission_Manual</th>\n",
       "      <th>OwnerType_Fourth +ACY- Above</th>\n",
       "      <th>OwnerType_Second</th>\n",
       "      <th>OwnerType_Third</th>\n",
       "    </tr>\n",
       "  </thead>\n",
       "  <tbody>\n",
       "    <tr>\n",
       "      <th>0</th>\n",
       "      <td>1.75</td>\n",
       "      <td>marutiwagonr</td>\n",
       "      <td>Mumbai</td>\n",
       "      <td>10</td>\n",
       "      <td>72000</td>\n",
       "      <td>CNG</td>\n",
       "      <td>Manual</td>\n",
       "      <td>First</td>\n",
       "      <td>26.6</td>\n",
       "      <td>998</td>\n",
       "      <td>...</td>\n",
       "      <td>1</td>\n",
       "      <td>0</td>\n",
       "      <td>0</td>\n",
       "      <td>0</td>\n",
       "      <td>0</td>\n",
       "      <td>0</td>\n",
       "      <td>1</td>\n",
       "      <td>0</td>\n",
       "      <td>0</td>\n",
       "      <td>0</td>\n",
       "    </tr>\n",
       "    <tr>\n",
       "      <th>1</th>\n",
       "      <td>12.50</td>\n",
       "      <td>hyundaicreta</td>\n",
       "      <td>Pune</td>\n",
       "      <td>5</td>\n",
       "      <td>41000</td>\n",
       "      <td>Diesel</td>\n",
       "      <td>Manual</td>\n",
       "      <td>First</td>\n",
       "      <td>19.67</td>\n",
       "      <td>1582</td>\n",
       "      <td>...</td>\n",
       "      <td>0</td>\n",
       "      <td>1</td>\n",
       "      <td>1</td>\n",
       "      <td>0</td>\n",
       "      <td>0</td>\n",
       "      <td>0</td>\n",
       "      <td>1</td>\n",
       "      <td>0</td>\n",
       "      <td>0</td>\n",
       "      <td>0</td>\n",
       "    </tr>\n",
       "    <tr>\n",
       "      <th>2</th>\n",
       "      <td>4.50</td>\n",
       "      <td>hondajazz</td>\n",
       "      <td>Chennai</td>\n",
       "      <td>9</td>\n",
       "      <td>46000</td>\n",
       "      <td>Petrol</td>\n",
       "      <td>Manual</td>\n",
       "      <td>First</td>\n",
       "      <td>18.2</td>\n",
       "      <td>1199</td>\n",
       "      <td>...</td>\n",
       "      <td>0</td>\n",
       "      <td>0</td>\n",
       "      <td>0</td>\n",
       "      <td>0</td>\n",
       "      <td>0</td>\n",
       "      <td>1</td>\n",
       "      <td>1</td>\n",
       "      <td>0</td>\n",
       "      <td>0</td>\n",
       "      <td>0</td>\n",
       "    </tr>\n",
       "    <tr>\n",
       "      <th>3</th>\n",
       "      <td>6.00</td>\n",
       "      <td>marutiertiga</td>\n",
       "      <td>Chennai</td>\n",
       "      <td>8</td>\n",
       "      <td>87000</td>\n",
       "      <td>Diesel</td>\n",
       "      <td>Manual</td>\n",
       "      <td>First</td>\n",
       "      <td>20.77</td>\n",
       "      <td>1248</td>\n",
       "      <td>...</td>\n",
       "      <td>0</td>\n",
       "      <td>0</td>\n",
       "      <td>1</td>\n",
       "      <td>0</td>\n",
       "      <td>0</td>\n",
       "      <td>0</td>\n",
       "      <td>1</td>\n",
       "      <td>0</td>\n",
       "      <td>0</td>\n",
       "      <td>0</td>\n",
       "    </tr>\n",
       "    <tr>\n",
       "      <th>4</th>\n",
       "      <td>17.74</td>\n",
       "      <td>audia4</td>\n",
       "      <td>Coimbatore</td>\n",
       "      <td>7</td>\n",
       "      <td>40670</td>\n",
       "      <td>Diesel</td>\n",
       "      <td>Automatic</td>\n",
       "      <td>Second</td>\n",
       "      <td>15.2</td>\n",
       "      <td>1968</td>\n",
       "      <td>...</td>\n",
       "      <td>0</td>\n",
       "      <td>0</td>\n",
       "      <td>1</td>\n",
       "      <td>0</td>\n",
       "      <td>0</td>\n",
       "      <td>0</td>\n",
       "      <td>0</td>\n",
       "      <td>0</td>\n",
       "      <td>1</td>\n",
       "      <td>0</td>\n",
       "    </tr>\n",
       "  </tbody>\n",
       "</table>\n",
       "<p>5 rows × 32 columns</p>\n",
       "</div>"
      ],
      "text/plain": [
       "   Price          Make    Location  Age  Odometer FuelType Transmission  \\\n",
       "0   1.75  marutiwagonr      Mumbai   10     72000      CNG       Manual   \n",
       "1  12.50  hyundaicreta        Pune    5     41000   Diesel       Manual   \n",
       "2   4.50     hondajazz     Chennai    9     46000   Petrol       Manual   \n",
       "3   6.00  marutiertiga     Chennai    8     87000   Diesel       Manual   \n",
       "4  17.74        audia4  Coimbatore    7     40670   Diesel    Automatic   \n",
       "\n",
       "  OwnerType Mileage EngineCC  ... Location_Mumbai  Location_Pune  \\\n",
       "0     First    26.6      998  ...               1              0   \n",
       "1     First   19.67     1582  ...               0              1   \n",
       "2     First    18.2     1199  ...               0              0   \n",
       "3     First   20.77     1248  ...               0              0   \n",
       "4    Second    15.2     1968  ...               0              0   \n",
       "\n",
       "   FuelType_Diesel  FuelType_Electric  FuelType_LPG  FuelType_Petrol  \\\n",
       "0                0                  0             0                0   \n",
       "1                1                  0             0                0   \n",
       "2                0                  0             0                1   \n",
       "3                1                  0             0                0   \n",
       "4                1                  0             0                0   \n",
       "\n",
       "   Transmission_Manual  OwnerType_Fourth +ACY- Above  OwnerType_Second  \\\n",
       "0                    1                             0                 0   \n",
       "1                    1                             0                 0   \n",
       "2                    1                             0                 0   \n",
       "3                    1                             0                 0   \n",
       "4                    0                             0                 1   \n",
       "\n",
       "   OwnerType_Third  \n",
       "0                0  \n",
       "1                0  \n",
       "2                0  \n",
       "3                0  \n",
       "4                0  \n",
       "\n",
       "[5 rows x 32 columns]"
      ]
     },
     "execution_count": 43,
     "metadata": {},
     "output_type": "execute_result"
    }
   ],
   "source": [
    "combine_all_dummy.head()"
   ]
  },
  {
   "cell_type": "code",
   "execution_count": 44,
   "metadata": {},
   "outputs": [
    {
     "data": {
      "text/plain": [
       "Index(['Price', 'Make', 'Location', 'Age', 'Odometer', 'FuelType',\n",
       "       'Transmission', 'OwnerType', 'Mileage', 'EngineCC', 'PowerBhp',\n",
       "       'mileage', 'engineCC', 'powerBhp', 'Location_Bangalore',\n",
       "       'Location_Chennai', 'Location_Coimbatore', 'Location_Delhi',\n",
       "       'Location_Hyderabad', 'Location_Jaipur', 'Location_Kochi',\n",
       "       'Location_Kolkata', 'Location_Mumbai', 'Location_Pune',\n",
       "       'FuelType_Diesel', 'FuelType_Electric', 'FuelType_LPG',\n",
       "       'FuelType_Petrol', 'Transmission_Manual',\n",
       "       'OwnerType_Fourth +ACY- Above', 'OwnerType_Second', 'OwnerType_Third'],\n",
       "      dtype='object')"
      ]
     },
     "execution_count": 44,
     "metadata": {},
     "output_type": "execute_result"
    }
   ],
   "source": [
    "combine_all_dummy.columns"
   ]
  },
  {
   "cell_type": "code",
   "execution_count": 45,
   "metadata": {},
   "outputs": [],
   "source": [
    "clean_df = combine_all_dummy.drop(columns=['Make','Location','FuelType','Transmission','OwnerType','Mileage', 'EngineCC', 'PowerBhp'])"
   ]
  },
  {
   "cell_type": "code",
   "execution_count": 46,
   "metadata": {},
   "outputs": [
    {
     "data": {
      "text/plain": [
       "Index(['Price', 'Age', 'Odometer', 'mileage', 'engineCC', 'powerBhp',\n",
       "       'Location_Bangalore', 'Location_Chennai', 'Location_Coimbatore',\n",
       "       'Location_Delhi', 'Location_Hyderabad', 'Location_Jaipur',\n",
       "       'Location_Kochi', 'Location_Kolkata', 'Location_Mumbai',\n",
       "       'Location_Pune', 'FuelType_Diesel', 'FuelType_Electric', 'FuelType_LPG',\n",
       "       'FuelType_Petrol', 'Transmission_Manual',\n",
       "       'OwnerType_Fourth +ACY- Above', 'OwnerType_Second', 'OwnerType_Third'],\n",
       "      dtype='object')"
      ]
     },
     "execution_count": 46,
     "metadata": {},
     "output_type": "execute_result"
    }
   ],
   "source": [
    "clean_df.columns"
   ]
  },
  {
   "cell_type": "code",
   "execution_count": 47,
   "metadata": {},
   "outputs": [
    {
     "name": "stdout",
     "output_type": "stream",
     "text": [
      "<class 'pandas.core.frame.DataFrame'>\n",
      "RangeIndex: 6019 entries, 0 to 6018\n",
      "Data columns (total 24 columns):\n",
      " #   Column                        Non-Null Count  Dtype  \n",
      "---  ------                        --------------  -----  \n",
      " 0   Price                         6019 non-null   float64\n",
      " 1   Age                           6019 non-null   int64  \n",
      " 2   Odometer                      6019 non-null   int64  \n",
      " 3   mileage                       6019 non-null   float64\n",
      " 4   engineCC                      6019 non-null   float64\n",
      " 5   powerBhp                      6019 non-null   float64\n",
      " 6   Location_Bangalore            6019 non-null   uint8  \n",
      " 7   Location_Chennai              6019 non-null   uint8  \n",
      " 8   Location_Coimbatore           6019 non-null   uint8  \n",
      " 9   Location_Delhi                6019 non-null   uint8  \n",
      " 10  Location_Hyderabad            6019 non-null   uint8  \n",
      " 11  Location_Jaipur               6019 non-null   uint8  \n",
      " 12  Location_Kochi                6019 non-null   uint8  \n",
      " 13  Location_Kolkata              6019 non-null   uint8  \n",
      " 14  Location_Mumbai               6019 non-null   uint8  \n",
      " 15  Location_Pune                 6019 non-null   uint8  \n",
      " 16  FuelType_Diesel               6019 non-null   uint8  \n",
      " 17  FuelType_Electric             6019 non-null   uint8  \n",
      " 18  FuelType_LPG                  6019 non-null   uint8  \n",
      " 19  FuelType_Petrol               6019 non-null   uint8  \n",
      " 20  Transmission_Manual           6019 non-null   uint8  \n",
      " 21  OwnerType_Fourth +ACY- Above  6019 non-null   uint8  \n",
      " 22  OwnerType_Second              6019 non-null   uint8  \n",
      " 23  OwnerType_Third               6019 non-null   uint8  \n",
      "dtypes: float64(4), int64(2), uint8(18)\n",
      "memory usage: 388.1 KB\n"
     ]
    }
   ],
   "source": [
    "clean_df.info()"
   ]
  },
  {
   "cell_type": "markdown",
   "metadata": {},
   "source": [
    "clean_df[['Location_Bangalore', 'Location_Chennai', 'Location_Coimbatore',\n",
    "       'Location_Delhi', 'Location_Hyderabad', 'Location_Jaipur',\n",
    "       'Location_Kochi', 'Location_Kolkata', 'Location_Mumbai',\n",
    "       'Location_Pune', 'FuelType_Diesel', 'FuelType_Electric', 'FuelType_LPG',\n",
    "       'FuelType_Petrol', 'Transmission_Manual',\n",
    "       'OwnerType_Fourth +ACY- Above', 'OwnerType_Second', 'OwnerType_Third']] = clean_df[['Location_Bangalore', 'Location_Chennai', 'Location_Coimbatore',\n",
    "       'Location_Delhi', 'Location_Hyderabad', 'Location_Jaipur',\n",
    "       'Location_Kochi', 'Location_Kolkata', 'Location_Mumbai',\n",
    "       'Location_Pune', 'FuelType_Diesel', 'FuelType_Electric', 'FuelType_LPG',\n",
    "       'FuelType_Petrol', 'Transmission_Manual',\n",
    "       'OwnerType_Fourth +ACY- Above', 'OwnerType_Second', 'OwnerType_Third']].apply(pd.Categorical) \n",
    "print(clean_df.dtypes) "
   ]
  },
  {
   "cell_type": "code",
   "execution_count": 48,
   "metadata": {},
   "outputs": [
    {
     "data": {
      "text/plain": [
       "Index(['Price', 'Age', 'Odometer', 'mileage', 'engineCC', 'powerBhp',\n",
       "       'Location_Bangalore', 'Location_Chennai', 'Location_Coimbatore',\n",
       "       'Location_Delhi', 'Location_Hyderabad', 'Location_Jaipur',\n",
       "       'Location_Kochi', 'Location_Kolkata', 'Location_Mumbai',\n",
       "       'Location_Pune', 'FuelType_Diesel', 'FuelType_Electric', 'FuelType_LPG',\n",
       "       'FuelType_Petrol', 'Transmission_Manual',\n",
       "       'OwnerType_Fourth +ACY- Above', 'OwnerType_Second', 'OwnerType_Third'],\n",
       "      dtype='object')"
      ]
     },
     "execution_count": 48,
     "metadata": {},
     "output_type": "execute_result"
    }
   ],
   "source": [
    "clean_df.columns"
   ]
  },
  {
   "cell_type": "code",
   "execution_count": 49,
   "metadata": {},
   "outputs": [],
   "source": [
    "# Before proceeding to creating a Linear Regression Model, we need to verify the assumptions of LR\n",
    "# investigating a linear relationship\n",
    "# All variables follow a normal distribution\n",
    "# There is very little or no multicollinearity\n",
    "# There is little or no autocorrelation\n",
    "# Data is homoscedastic"
   ]
  },
  {
   "cell_type": "code",
   "execution_count": 50,
   "metadata": {},
   "outputs": [],
   "source": [
    "# Assumptions"
   ]
  },
  {
   "cell_type": "code",
   "execution_count": 51,
   "metadata": {},
   "outputs": [
    {
     "data": {
      "text/plain": [
       "Text(0.5, 1.0, 'Verify Linear Relationship')"
      ]
     },
     "execution_count": 51,
     "metadata": {},
     "output_type": "execute_result"
    },
    {
     "data": {
      "image/png": "[encoded data removed]",
      "text/plain": [
       "<Figure size 432x288 with 1 Axes>"
      ]
     },
     "metadata": {
      "needs_background": "light"
     },
     "output_type": "display_data"
    }
   ],
   "source": [
    "#investigating the linear relationship\n",
    "plt.plot(clean_df.mileage, clean_df.Price, 'o', color='black');\n",
    "plt.title(\"Verify Linear Relationship\")"
   ]
  },
  {
   "cell_type": "code",
   "execution_count": 52,
   "metadata": {},
   "outputs": [
    {
     "data": {
      "text/plain": [
       "Text(0.5, 1.0, 'Verify Linear Relationship')"
      ]
     },
     "execution_count": 52,
     "metadata": {},
     "output_type": "execute_result"
    },
    {
     "data": {
      "image/png": "[encoded data removed]",
      "text/plain": [
       "<Figure size 432x288 with 1 Axes>"
      ]
     },
     "metadata": {
      "needs_background": "light"
     },
     "output_type": "display_data"
    }
   ],
   "source": [
    "#understanding the linear relationship\n",
    "plt.plot(clean_df.Odometer, clean_df.Price, 'o', color='black');\n",
    "plt.title(\"Verify Linear Relationship\")"
   ]
  },
  {
   "cell_type": "code",
   "execution_count": 53,
   "metadata": {},
   "outputs": [
    {
     "data": {
      "text/plain": [
       "Text(0.5, 1.0, 'Verify Linear Relationship')"
      ]
     },
     "execution_count": 53,
     "metadata": {},
     "output_type": "execute_result"
    },
    {
     "data": {
      "image/png": "[encoded data removed]",
      "text/plain": [
       "<Figure size 432x288 with 1 Axes>"
      ]
     },
     "metadata": {
      "needs_background": "light"
     },
     "output_type": "display_data"
    }
   ],
   "source": [
    "#understanding the linear relationship\n",
    "plt.plot(clean_df.Age, clean_df.Price, 'o', color='black');\n",
    "plt.title(\"Verify Linear Relationship\")"
   ]
  },
  {
   "cell_type": "code",
   "execution_count": 54,
   "metadata": {},
   "outputs": [
    {
     "data": {
      "text/plain": [
       "Text(0.5, 1.0, 'Verify Linear Relationship')"
      ]
     },
     "execution_count": 54,
     "metadata": {},
     "output_type": "execute_result"
    },
    {
     "data": {
      "image/png": "[encoded data removed]",
      "text/plain": [
       "<Figure size 432x288 with 1 Axes>"
      ]
     },
     "metadata": {
      "needs_background": "light"
     },
     "output_type": "display_data"
    }
   ],
   "source": [
    "#understanding the linear relationship\n",
    "plt.plot(clean_df.engineCC, clean_df.Price, 'o', color='black');\n",
    "plt.title(\"Verify Linear Relationship\")"
   ]
  },
  {
   "cell_type": "code",
   "execution_count": 55,
   "metadata": {},
   "outputs": [
    {
     "data": {
      "text/plain": [
       "Text(0.5, 1.0, 'Verify Linear Relationship')"
      ]
     },
     "execution_count": 55,
     "metadata": {},
     "output_type": "execute_result"
    },
    {
     "data": {
      "image/png": "[encoded data removed]",
      "text/plain": [
       "<Figure size 432x288 with 1 Axes>"
      ]
     },
     "metadata": {
      "needs_background": "light"
     },
     "output_type": "display_data"
    }
   ],
   "source": [
    "#understanding the linear relationship\n",
    "plt.plot(clean_df.powerBhp, clean_df.Price, 'o', color='black');\n",
    "plt.title(\"Verify Linear Relationship\")"
   ]
  },
  {
   "cell_type": "code",
   "execution_count": 56,
   "metadata": {},
   "outputs": [],
   "source": [
    "# there is no evident of strong linear relatiosnhip among the dependent variable and other numeric independent variables\n",
    "# hence making a linear regression won't help the purpose\n",
    "# If Business wants a solution yes, we can proceed with caution"
   ]
  },
  {
   "cell_type": "code",
   "execution_count": 57,
   "metadata": {},
   "outputs": [
    {
     "data": {
      "text/plain": [
       "<AxesSubplot:>"
      ]
     },
     "execution_count": 57,
     "metadata": {},
     "output_type": "execute_result"
    },
    {
     "data": {
      "image/png": "[encoded data removed]",
      "text/plain": [
       "<Figure size 432x288 with 1 Axes>"
      ]
     },
     "metadata": {
      "needs_background": "light"
     },
     "output_type": "display_data"
    }
   ],
   "source": [
    "# All variables follow a normal distribution\n",
    "sns.kdeplot(clean_df.Price)"
   ]
  },
  {
   "cell_type": "code",
   "execution_count": 58,
   "metadata": {},
   "outputs": [
    {
     "data": {
      "text/plain": [
       "<AxesSubplot:xlabel='Price'>"
      ]
     },
     "execution_count": 58,
     "metadata": {},
     "output_type": "execute_result"
    },
    {
     "data": {
      "image/png": "[encoded data removed]",
      "text/plain": [
       "<Figure size 432x288 with 1 Axes>"
      ]
     },
     "metadata": {
      "needs_background": "light"
     },
     "output_type": "display_data"
    }
   ],
   "source": [
    "sns.boxplot(clean_df.Price)"
   ]
  },
  {
   "cell_type": "code",
   "execution_count": 59,
   "metadata": {},
   "outputs": [],
   "source": [
    "# Q3 + 1.5*IQR\n",
    "def find_outliers(x):\n",
    "    IQR = x.describe()[6]-x.describe()[4] #Q3-Q1\n",
    "    UCL = x.describe()[6] + 1.5*IQR # Q3+1.5*IQR\n",
    "    LCL = x.describe()[4] - 1.5*IQR #Q1-1.5*IQR\n",
    "    H_values = x[x > UCL] # outliers on the higher side\n",
    "    L_values = x[x < LCL] #outliers on the lower side\n",
    "    return(len(H_values),len(L_values)) #number of outliers"
   ]
  },
  {
   "cell_type": "code",
   "execution_count": 60,
   "metadata": {},
   "outputs": [
    {
     "data": {
      "text/plain": [
       "(718, 0)"
      ]
     },
     "execution_count": 60,
     "metadata": {},
     "output_type": "execute_result"
    }
   ],
   "source": [
    "find_outliers(clean_df.Price)"
   ]
  },
  {
   "cell_type": "code",
   "execution_count": 61,
   "metadata": {},
   "outputs": [],
   "source": [
    "# there are many outliers in the dependent variable, we need to treat the outliers"
   ]
  },
  {
   "cell_type": "code",
   "execution_count": 62,
   "metadata": {},
   "outputs": [
    {
     "data": {
      "text/plain": [
       "<AxesSubplot:>"
      ]
     },
     "execution_count": 62,
     "metadata": {},
     "output_type": "execute_result"
    },
    {
     "data": {
      "image/png": "[encoded data removed]",
      "text/plain": [
       "<Figure size 432x288 with 1 Axes>"
      ]
     },
     "metadata": {
      "needs_background": "light"
     },
     "output_type": "display_data"
    }
   ],
   "source": [
    "sns.kdeplot(clean_df.Odometer)"
   ]
  },
  {
   "cell_type": "code",
   "execution_count": 63,
   "metadata": {},
   "outputs": [
    {
     "data": {
      "text/plain": [
       "<AxesSubplot:xlabel='Odometer'>"
      ]
     },
     "execution_count": 63,
     "metadata": {},
     "output_type": "execute_result"
    },
    {
     "data": {
      "image/png": "[encoded data removed]",
      "text/plain": [
       "<Figure size 432x288 with 1 Axes>"
      ]
     },
     "metadata": {
      "needs_background": "light"
     },
     "output_type": "display_data"
    }
   ],
   "source": [
    "sns.boxplot(clean_df.Odometer)"
   ]
  },
  {
   "cell_type": "code",
   "execution_count": 64,
   "metadata": {},
   "outputs": [
    {
     "data": {
      "text/plain": [
       "(202, 0)"
      ]
     },
     "execution_count": 64,
     "metadata": {},
     "output_type": "execute_result"
    }
   ],
   "source": [
    "find_outliers(clean_df.Odometer)"
   ]
  },
  {
   "cell_type": "code",
   "execution_count": 65,
   "metadata": {},
   "outputs": [
    {
     "data": {
      "text/plain": [
       "<AxesSubplot:>"
      ]
     },
     "execution_count": 65,
     "metadata": {},
     "output_type": "execute_result"
    },
    {
     "data": {
      "image/png": "[encoded data removed]",
      "text/plain": [
       "<Figure size 432x288 with 1 Axes>"
      ]
     },
     "metadata": {
      "needs_background": "light"
     },
     "output_type": "display_data"
    }
   ],
   "source": [
    "sns.kdeplot(clean_df.mileage)"
   ]
  },
  {
   "cell_type": "code",
   "execution_count": 66,
   "metadata": {},
   "outputs": [],
   "source": [
    "# mileage seems to be approximately normal "
   ]
  },
  {
   "cell_type": "code",
   "execution_count": 67,
   "metadata": {},
   "outputs": [
    {
     "data": {
      "text/plain": [
       "<AxesSubplot:xlabel='mileage'>"
      ]
     },
     "execution_count": 67,
     "metadata": {},
     "output_type": "execute_result"
    },
    {
     "data": {
      "image/png": "[encoded data removed]",
      "text/plain": [
       "<Figure size 432x288 with 1 Axes>"
      ]
     },
     "metadata": {
      "needs_background": "light"
     },
     "output_type": "display_data"
    }
   ],
   "source": [
    "sns.boxplot(clean_df.mileage)"
   ]
  },
  {
   "cell_type": "code",
   "execution_count": 68,
   "metadata": {},
   "outputs": [
    {
     "data": {
      "text/plain": [
       "(14, 1)"
      ]
     },
     "execution_count": 68,
     "metadata": {},
     "output_type": "execute_result"
    }
   ],
   "source": [
    "find_outliers(clean_df.mileage)"
   ]
  },
  {
   "cell_type": "code",
   "execution_count": 69,
   "metadata": {},
   "outputs": [],
   "source": [
    "# few outliers"
   ]
  },
  {
   "cell_type": "code",
   "execution_count": 70,
   "metadata": {},
   "outputs": [
    {
     "data": {
      "text/plain": [
       "<AxesSubplot:>"
      ]
     },
     "execution_count": 70,
     "metadata": {},
     "output_type": "execute_result"
    },
    {
     "data": {
      "image/png": "[encoded data removed]",
      "text/plain": [
       "<Figure size 432x288 with 1 Axes>"
      ]
     },
     "metadata": {
      "needs_background": "light"
     },
     "output_type": "display_data"
    }
   ],
   "source": [
    "sns.kdeplot(clean_df.engineCC)"
   ]
  },
  {
   "cell_type": "code",
   "execution_count": 71,
   "metadata": {},
   "outputs": [
    {
     "data": {
      "text/plain": [
       "<AxesSubplot:xlabel='engineCC'>"
      ]
     },
     "execution_count": 71,
     "metadata": {},
     "output_type": "execute_result"
    },
    {
     "data": {
      "image/png": "[encoded data removed]",
      "text/plain": [
       "<Figure size 432x288 with 1 Axes>"
      ]
     },
     "metadata": {
      "needs_background": "light"
     },
     "output_type": "display_data"
    }
   ],
   "source": [
    "sns.boxplot(clean_df.engineCC)"
   ]
  },
  {
   "cell_type": "code",
   "execution_count": 72,
   "metadata": {},
   "outputs": [
    {
     "data": {
      "text/plain": [
       "(61, 0)"
      ]
     },
     "execution_count": 72,
     "metadata": {},
     "output_type": "execute_result"
    }
   ],
   "source": [
    "find_outliers(clean_df.engineCC)"
   ]
  },
  {
   "cell_type": "code",
   "execution_count": 73,
   "metadata": {},
   "outputs": [],
   "source": [
    "# less outliers"
   ]
  },
  {
   "cell_type": "code",
   "execution_count": 74,
   "metadata": {},
   "outputs": [
    {
     "data": {
      "text/plain": [
       "<AxesSubplot:>"
      ]
     },
     "execution_count": 74,
     "metadata": {},
     "output_type": "execute_result"
    },
    {
     "data": {
      "image/png": "[encoded data removed]",
      "text/plain": [
       "<Figure size 432x288 with 1 Axes>"
      ]
     },
     "metadata": {
      "needs_background": "light"
     },
     "output_type": "display_data"
    }
   ],
   "source": [
    "sns.kdeplot(clean_df.powerBhp)"
   ]
  },
  {
   "cell_type": "code",
   "execution_count": 75,
   "metadata": {},
   "outputs": [
    {
     "data": {
      "text/plain": [
       "<AxesSubplot:xlabel='powerBhp'>"
      ]
     },
     "execution_count": 75,
     "metadata": {},
     "output_type": "execute_result"
    },
    {
     "data": {
      "image/png": "[encoded data removed]",
      "text/plain": [
       "<Figure size 432x288 with 1 Axes>"
      ]
     },
     "metadata": {
      "needs_background": "light"
     },
     "output_type": "display_data"
    }
   ],
   "source": [
    "sns.boxplot(clean_df.powerBhp)"
   ]
  },
  {
   "cell_type": "code",
   "execution_count": 76,
   "metadata": {},
   "outputs": [
    {
     "data": {
      "text/plain": [
       "(239, 0)"
      ]
     },
     "execution_count": 76,
     "metadata": {},
     "output_type": "execute_result"
    }
   ],
   "source": [
    "find_outliers(clean_df.powerBhp)"
   ]
  },
  {
   "cell_type": "code",
   "execution_count": 77,
   "metadata": {},
   "outputs": [],
   "source": [
    "# we have three options:\n",
    "# 1. Be cognizant about outliers, considering them as reality, go ahead with modeling\n",
    "# 2. Delete the outliers from the dataset, this will lead to significant data loss, information loss\n",
    "# 3. Cap the Outliers to their threshold value, anything greater than UCL = Q3, and less than LCL = Q1, \n",
    "# we can build a good model, but it will lack reality"
   ]
  },
  {
   "cell_type": "code",
   "execution_count": 78,
   "metadata": {},
   "outputs": [],
   "source": [
    "# cognizant about the all the three options i have decided to go with option 1"
   ]
  },
  {
   "cell_type": "code",
   "execution_count": 79,
   "metadata": {},
   "outputs": [
    {
     "data": {
      "text/plain": [
       "Price                           float64\n",
       "Age                               int64\n",
       "Odometer                          int64\n",
       "mileage                         float64\n",
       "engineCC                        float64\n",
       "powerBhp                        float64\n",
       "Location_Bangalore                uint8\n",
       "Location_Chennai                  uint8\n",
       "Location_Coimbatore               uint8\n",
       "Location_Delhi                    uint8\n",
       "Location_Hyderabad                uint8\n",
       "Location_Jaipur                   uint8\n",
       "Location_Kochi                    uint8\n",
       "Location_Kolkata                  uint8\n",
       "Location_Mumbai                   uint8\n",
       "Location_Pune                     uint8\n",
       "FuelType_Diesel                   uint8\n",
       "FuelType_Electric                 uint8\n",
       "FuelType_LPG                      uint8\n",
       "FuelType_Petrol                   uint8\n",
       "Transmission_Manual               uint8\n",
       "OwnerType_Fourth +ACY- Above      uint8\n",
       "OwnerType_Second                  uint8\n",
       "OwnerType_Third                   uint8\n",
       "dtype: object"
      ]
     },
     "execution_count": 79,
     "metadata": {},
     "output_type": "execute_result"
    }
   ],
   "source": [
    "clean_df.dtypes"
   ]
  },
  {
   "cell_type": "code",
   "execution_count": 80,
   "metadata": {},
   "outputs": [],
   "source": [
    "# There is very little or no multicollinearity\n",
    "# multicollinearity is handled later after creation of the model"
   ]
  },
  {
   "cell_type": "code",
   "execution_count": 81,
   "metadata": {},
   "outputs": [],
   "source": [
    "# Data is homoscedastic\n",
    "# this is a post modeling exercise, done later in this script"
   ]
  },
  {
   "cell_type": "code",
   "execution_count": 82,
   "metadata": {},
   "outputs": [],
   "source": [
    "#split the dataset into training and testig \n",
    "data_train, data_test = train_test_split(clean_df,test_size=0.25,random_state=1234)"
   ]
  },
  {
   "cell_type": "code",
   "execution_count": 83,
   "metadata": {},
   "outputs": [
    {
     "data": {
      "text/plain": [
       "((4514, 24), (1505, 24))"
      ]
     },
     "execution_count": 83,
     "metadata": {},
     "output_type": "execute_result"
    }
   ],
   "source": [
    "data_train.shape,data_test.shape"
   ]
  },
  {
   "cell_type": "code",
   "execution_count": 84,
   "metadata": {},
   "outputs": [],
   "source": [
    "XTrain = np.array(data_train.iloc[:,0:(clean_df.shape[1]-1)])\n",
    "YTrain = np.array(data_train['Price'])"
   ]
  },
  {
   "cell_type": "code",
   "execution_count": 85,
   "metadata": {},
   "outputs": [],
   "source": [
    "XTest = np.array(data_test.iloc[:,0:(clean_df.shape[1]-1)])\n",
    "YTest = np.array(data_test['Price'])"
   ]
  },
  {
   "cell_type": "code",
   "execution_count": 86,
   "metadata": {},
   "outputs": [
    {
     "data": {
      "text/plain": [
       "((4514, 23), (1505, 23))"
      ]
     },
     "execution_count": 86,
     "metadata": {},
     "output_type": "execute_result"
    }
   ],
   "source": [
    "XTrain.shape, XTest.shape"
   ]
  },
  {
   "cell_type": "code",
   "execution_count": 87,
   "metadata": {},
   "outputs": [
    {
     "data": {
      "text/plain": [
       "LinearRegression()"
      ]
     },
     "execution_count": 87,
     "metadata": {},
     "output_type": "execute_result"
    }
   ],
   "source": [
    "#multiple linear regression model\n",
    "reg = linear_model.LinearRegression()\n",
    "reg"
   ]
  },
  {
   "cell_type": "code",
   "execution_count": 88,
   "metadata": {},
   "outputs": [
    {
     "data": {
      "text/plain": [
       "LinearRegression()"
      ]
     },
     "execution_count": 88,
     "metadata": {},
     "output_type": "execute_result"
    }
   ],
   "source": [
    "reg.fit(XTrain,YTrain) #training the model"
   ]
  },
  {
   "cell_type": "code",
   "execution_count": 89,
   "metadata": {},
   "outputs": [
    {
     "name": "stdout",
     "output_type": "stream",
     "text": [
      "Coefficients: \n",
      " [ 1.  0. -0. -0. -0.  0.  0.  0.  0.  0. -0. -0.  0.  0. -0. -0. -0.  0.\n",
      " -0.  0.  0. -0.  0.]\n"
     ]
    }
   ],
   "source": [
    "print('Coefficients: \\n', np.round(reg.coef_,4))"
   ]
  },
  {
   "cell_type": "code",
   "execution_count": 90,
   "metadata": {},
   "outputs": [
    {
     "name": "stdout",
     "output_type": "stream",
     "text": [
      "Intercept: \n",
      " 0.0\n"
     ]
    }
   ],
   "source": [
    "print('Intercept: \\n', np.round(reg.intercept_,0))"
   ]
  },
  {
   "cell_type": "code",
   "execution_count": 91,
   "metadata": {},
   "outputs": [
    {
     "data": {
      "text/plain": [
       "1.0"
      ]
     },
     "execution_count": 91,
     "metadata": {},
     "output_type": "execute_result"
    }
   ],
   "source": [
    "reg.score(XTrain,YTrain) # R-square value from the trained model"
   ]
  },
  {
   "cell_type": "code",
   "execution_count": 92,
   "metadata": {},
   "outputs": [
    {
     "data": {
      "text/plain": [
       "1.0"
      ]
     },
     "execution_count": 92,
     "metadata": {},
     "output_type": "execute_result"
    }
   ],
   "source": [
    "reg.score(XTest,YTest) # R-square value from the test set"
   ]
  },
  {
   "cell_type": "code",
   "execution_count": 93,
   "metadata": {},
   "outputs": [],
   "source": [
    "from scipy import stats"
   ]
  },
  {
   "cell_type": "code",
   "execution_count": 94,
   "metadata": {},
   "outputs": [],
   "source": [
    "# Using Statistical API"
   ]
  },
  {
   "cell_type": "code",
   "execution_count": 95,
   "metadata": {},
   "outputs": [],
   "source": [
    "import statsmodels.api as sm"
   ]
  },
  {
   "cell_type": "code",
   "execution_count": 96,
   "metadata": {},
   "outputs": [],
   "source": [
    "y = np.array(clean_df['Price'])\n",
    "xx = np.array(clean_df[['Price', 'Age', 'Odometer', 'mileage', 'engineCC', 'powerBhp',\n",
    "       'Location_Bangalore', 'Location_Chennai', 'Location_Coimbatore',\n",
    "       'Location_Delhi', 'Location_Hyderabad', 'Location_Jaipur',\n",
    "       'Location_Kochi', 'Location_Kolkata', 'Location_Mumbai',\n",
    "       'Location_Pune', 'FuelType_Diesel', 'FuelType_Electric', 'FuelType_LPG',\n",
    "       'FuelType_Petrol', 'Transmission_Manual',\n",
    "       'OwnerType_Fourth +ACY- Above', 'OwnerType_Second', 'OwnerType_Third']])"
   ]
  },
  {
   "cell_type": "code",
   "execution_count": 97,
   "metadata": {},
   "outputs": [
    {
     "data": {
      "text/plain": [
       "array([ 1.75, 12.5 ,  4.5 , ...,  2.9 ,  2.65,  2.5 ])"
      ]
     },
     "execution_count": 97,
     "metadata": {},
     "output_type": "execute_result"
    }
   ],
   "source": [
    "y"
   ]
  },
  {
   "cell_type": "code",
   "execution_count": 98,
   "metadata": {},
   "outputs": [
    {
     "name": "stdout",
     "output_type": "stream",
     "text": [
      "                                 OLS Regression Results                                \n",
      "=======================================================================================\n",
      "Dep. Variable:                      y   R-squared (uncentered):                   1.000\n",
      "Model:                            OLS   Adj. R-squared (uncentered):              1.000\n",
      "Method:                 Least Squares   F-statistic:                          4.310e+28\n",
      "Date:                Thu, 07 Jan 2021   Prob (F-statistic):                        0.00\n",
      "Time:                        21:06:01   Log-Likelihood:                      1.5711e+05\n",
      "No. Observations:                6019   AIC:                                 -3.142e+05\n",
      "Df Residuals:                    5995   BIC:                                 -3.140e+05\n",
      "Df Model:                          24                                                  \n",
      "Covariance Type:            nonrobust                                                  \n",
      "==============================================================================\n",
      "                 coef    std err          t      P>|t|      [0.025      0.975]\n",
      "------------------------------------------------------------------------------\n",
      "x1             1.0000   2.35e-15   4.26e+14      0.000       1.000       1.000\n",
      "x2         -1.376e-16   5.69e-15     -0.024      0.981   -1.13e-14     1.1e-14\n",
      "x3          1.039e-17   1.63e-19     63.663      0.000    1.01e-17    1.07e-17\n",
      "x4           7.04e-16   4.04e-15      0.174      0.862   -7.22e-15    8.63e-15\n",
      "x5          8.491e-18   5.76e-17      0.147      0.883   -1.05e-16    1.22e-16\n",
      "x6          -4.36e-16   7.03e-16     -0.620      0.535   -1.81e-15    9.42e-16\n",
      "x7          1.335e-15   9.35e-14      0.014      0.989   -1.82e-13    1.85e-13\n",
      "x8         -2.705e-17   8.86e-14     -0.000      1.000   -1.74e-13    1.74e-13\n",
      "x9          3.288e-16   8.49e-14      0.004      0.997   -1.66e-13    1.67e-13\n",
      "x10        -1.768e-16   8.59e-14     -0.002      0.998   -1.68e-13    1.68e-13\n",
      "x11         7.511e-16   8.32e-14      0.009      0.993   -1.62e-13    1.64e-13\n",
      "x12         1.383e-15    9.1e-14      0.015      0.988   -1.77e-13     1.8e-13\n",
      "x13         1.673e-15   8.43e-14      0.020      0.984   -1.64e-13    1.67e-13\n",
      "x14         5.117e-16   8.73e-14      0.006      0.995   -1.71e-13    1.72e-13\n",
      "x15         1.394e-16   8.18e-14      0.002      0.999    -1.6e-13    1.61e-13\n",
      "x16         2.181e-16   8.47e-14      0.003      0.998   -1.66e-13    1.66e-13\n",
      "x17        -5.129e-15   1.22e-13     -0.042      0.966   -2.44e-13    2.33e-13\n",
      "x18        -5.794e-15   7.98e-13     -0.007      0.994   -1.57e-12    1.56e-12\n",
      "x19        -2.194e-16   3.71e-13     -0.001      1.000   -7.28e-13    7.28e-13\n",
      "x20        -3.559e-15    1.1e-13     -0.032      0.974   -2.19e-13    2.12e-13\n",
      "x21        -8.857e-16   4.31e-14     -0.021      0.984   -8.54e-14    8.36e-14\n",
      "x22        -5.022e-16   3.76e-13     -0.001      0.999   -7.37e-13    7.36e-13\n",
      "x23        -3.409e-16   4.24e-14     -0.008      0.994   -8.35e-14    8.29e-14\n",
      "x24        -1.623e-15   1.12e-13     -0.015      0.988   -2.21e-13    2.17e-13\n",
      "==============================================================================\n",
      "Omnibus:                    20140.957   Durbin-Watson:                   1.435\n",
      "Prob(Omnibus):                  0.000   Jarque-Bera (JB):       4287312734.603\n",
      "Skew:                         -58.830   Prob(JB):                         0.00\n",
      "Kurtosis:                    4135.950   Cond. No.                     6.01e+06\n",
      "==============================================================================\n",
      "\n",
      "Warnings:\n",
      "[1] Standard Errors assume that the covariance matrix of the errors is correctly specified.\n",
      "[2] The condition number is large, 6.01e+06. This might indicate that there are\n",
      "strong multicollinearity or other numerical problems.\n"
     ]
    }
   ],
   "source": [
    "mod = sm.OLS(y, xx)\n",
    "\n",
    "results = mod.fit()\n",
    "print(results.summary())"
   ]
  },
  {
   "cell_type": "code",
   "execution_count": 99,
   "metadata": {},
   "outputs": [],
   "source": [
    "# This might indicate that there are strong multicollinearity"
   ]
  },
  {
   "cell_type": "code",
   "execution_count": 100,
   "metadata": {},
   "outputs": [
    {
     "name": "stdout",
     "output_type": "stream",
     "text": [
      "Parameters:  [ 1.00000000e+00 -1.37558151e-16  1.03864475e-17  7.03986023e-16\n",
      "  8.49108178e-18 -4.35957694e-16  1.33514077e-15 -2.70508442e-17\n",
      "  3.28838519e-16 -1.76752059e-16  7.51135265e-16  1.38344197e-15\n",
      "  1.67270711e-15  5.11743425e-16  1.39428399e-16  2.18141477e-16\n",
      " -5.12892680e-15 -5.79397641e-15 -2.19442520e-16 -3.55921889e-15\n",
      " -8.85684755e-16 -5.02202446e-16 -3.40873163e-16 -1.62348433e-15]\n",
      "R2:  1.0\n"
     ]
    }
   ],
   "source": [
    "print('Parameters: ', results.params)\n",
    "print('R2: ', results.rsquared)"
   ]
  },
  {
   "cell_type": "code",
   "execution_count": 101,
   "metadata": {},
   "outputs": [
    {
     "name": "stdout",
     "output_type": "stream",
     "text": [
      "Parameters:  [ 1.00000000e+00 -1.37558151e-16  1.03864475e-17  7.03986023e-16\n",
      "  8.49108178e-18 -4.35957694e-16  1.33514077e-15 -2.70508442e-17\n",
      "  3.28838519e-16 -1.76752059e-16  7.51135265e-16  1.38344197e-15\n",
      "  1.67270711e-15  5.11743425e-16  1.39428399e-16  2.18141477e-16\n",
      " -5.12892680e-15 -5.79397641e-15 -2.19442520e-16 -3.55921889e-15\n",
      " -8.85684755e-16 -5.02202446e-16 -3.40873163e-16 -1.62348433e-15]\n",
      "Standard errors:  [2.34509635e-15 5.69350797e-15 1.63148501e-19 4.04152348e-15\n",
      " 5.76471760e-17 7.02891824e-16 9.34709592e-14 8.86316495e-14\n",
      " 8.48716143e-14 8.58573933e-14 8.32022055e-14 9.10459447e-14\n",
      " 8.43089431e-14 8.73171557e-14 8.18409968e-14 8.46587046e-14\n",
      " 1.21698314e-13 7.98019501e-13 3.71341015e-13 1.09800792e-13\n",
      " 4.31152096e-14 3.75616207e-13 4.24457220e-14 1.11753313e-13]\n",
      "Predicted values:  [ 1.75 12.5   4.5  ...  2.9   2.65  2.5 ]\n"
     ]
    }
   ],
   "source": [
    "print('Parameters: ', results.params)\n",
    "print('Standard errors: ', results.bse)\n",
    "print('Predicted values: ', results.predict())"
   ]
  },
  {
   "cell_type": "code",
   "execution_count": 102,
   "metadata": {},
   "outputs": [],
   "source": [
    "infl = results.get_influence()"
   ]
  },
  {
   "cell_type": "code",
   "execution_count": 103,
   "metadata": {},
   "outputs": [
    {
     "name": "stdout",
     "output_type": "stream",
     "text": [
      "        dfb_x1    dfb_x2      dfb_x3    dfb_x4    dfb_x5    dfb_x6    dfb_x7  \\\n",
      "0     0.151695 -0.017794  -13.810035  0.181078  0.633106 -0.377082 -0.000112   \n",
      "1     0.121790  0.000941   79.197995  0.033253  0.088498 -0.125366  0.010155   \n",
      "2     0.254088 -0.013534  -43.050008  0.042685  0.070246 -0.216151  0.010261   \n",
      "3     0.602685 -0.070600    8.509360  0.443401  0.753396 -0.821829  0.027867   \n",
      "4     0.134413 -0.027763  -33.335333  0.054800  0.150178 -0.173144 -0.004729   \n",
      "...        ...       ...         ...       ...       ...       ...       ...   \n",
      "6014  0.050787 -0.044406  -29.468499 -0.012233  0.402592 -0.389577 -0.008852   \n",
      "6015  0.110266  0.014468  -47.662511  0.054265  0.438912 -0.210908  0.001297   \n",
      "6016  0.291430 -0.093376  160.927292  0.183029  0.520267 -1.051591  0.072698   \n",
      "6017  0.628444 -0.060210  166.062286  0.114033  0.828792 -0.673667  0.012664   \n",
      "6018  0.040520  0.000407   76.746030  0.011672  0.063727 -0.181062  0.004551   \n",
      "\n",
      "        dfb_x8    dfb_x9   dfb_x10  ...   dfb_x15   dfb_x16   dfb_x17  \\\n",
      "0     0.004465 -0.005660  0.005628  ...  0.001737 -0.007035 -0.035653   \n",
      "1    -0.002550  0.001576  0.000776  ...  0.003738  0.004995 -0.016532   \n",
      "2    -0.002690 -0.002433 -0.003041  ...  0.004550 -0.003364 -0.003475   \n",
      "3    -0.016614  0.008620 -0.010608  ...  0.008712  0.010384 -0.023976   \n",
      "4     0.006719 -0.002293 -0.001165  ...  0.003578  0.003709 -0.027521   \n",
      "...        ...       ...       ...  ...       ...       ...       ...   \n",
      "6014 -0.020883 -0.012090 -0.015932  ... -0.011134 -0.014258  0.021304   \n",
      "6015  0.003756  0.004695  0.006910  ...  0.000511  0.000758 -0.017199   \n",
      "6016  0.040854  0.053037  0.005975  ...  0.013625  0.035112 -0.124883   \n",
      "6017 -0.010365  0.008311 -0.026079  ... -0.038008 -0.018161 -0.002306   \n",
      "6018  0.002096  0.005676  0.000994  ... -0.002174  0.003082 -0.003702   \n",
      "\n",
      "       dfb_x18   dfb_x19   dfb_x20   dfb_x21   dfb_x22   dfb_x23   dfb_x24  \n",
      "0    -0.006364 -0.003693 -0.030229 -0.022253 -0.000514 -0.013472 -0.013073  \n",
      "1    -0.004621 -0.000499 -0.017896  0.000150 -0.001961 -0.004964 -0.003981  \n",
      "2    -0.001120  0.001307 -0.003626 -0.006410 -0.003256 -0.001398 -0.003991  \n",
      "3    -0.009130  0.001010 -0.015521  0.013107  0.004874  0.004431 -0.032949  \n",
      "4    -0.012721 -0.000038 -0.015022 -0.000166 -0.000565 -0.005137 -0.006367  \n",
      "...        ...       ...       ...       ...       ...       ...       ...  \n",
      "6014 -0.007686  0.014395  0.022044  0.002143 -0.002125  0.005641 -0.003829  \n",
      "6015 -0.004759 -0.004448 -0.021823 -0.006109  0.002195  0.000695 -0.003296  \n",
      "6016 -0.006605 -0.024460 -0.093307 -0.007198 -0.012160 -0.036947 -0.016604  \n",
      "6017  0.034925  0.028630  0.050058 -0.017274  0.012897  0.037129 -0.010770  \n",
      "6018 -0.004053  0.002204 -0.002727 -0.010034 -0.000536  0.001360 -0.003584  \n",
      "\n",
      "[6019 rows x 24 columns]\n"
     ]
    }
   ],
   "source": [
    "print(infl.summary_frame().filter(regex=\"dfb\"))"
   ]
  },
  {
   "cell_type": "code",
   "execution_count": 104,
   "metadata": {},
   "outputs": [],
   "source": [
    "from statsmodels.stats.outliers_influence import variance_inflation_factor"
   ]
  },
  {
   "cell_type": "code",
   "execution_count": 105,
   "metadata": {},
   "outputs": [],
   "source": [
    "def calc_vif(X):\n",
    "\n",
    "    # Calculating VIF\n",
    "    vif = pd.DataFrame()\n",
    "    vif[\"variables\"] = X.columns\n",
    "    vif[\"VIF\"] = [variance_inflation_factor(X.values, i) for i in range(X.shape[1])]\n",
    "\n",
    "    return(vif)"
   ]
  },
  {
   "cell_type": "code",
   "execution_count": 106,
   "metadata": {},
   "outputs": [
    {
     "data": {
      "text/html": [
       "<div>\n",
       "<style scoped>\n",
       "    .dataframe tbody tr th:only-of-type {\n",
       "        vertical-align: middle;\n",
       "    }\n",
       "\n",
       "    .dataframe tbody tr th {\n",
       "        vertical-align: top;\n",
       "    }\n",
       "\n",
       "    .dataframe thead th {\n",
       "        text-align: right;\n",
       "    }\n",
       "</style>\n",
       "<table border=\"1\" class=\"dataframe\">\n",
       "  <thead>\n",
       "    <tr style=\"text-align: right;\">\n",
       "      <th></th>\n",
       "      <th>variables</th>\n",
       "      <th>VIF</th>\n",
       "    </tr>\n",
       "  </thead>\n",
       "  <tbody>\n",
       "    <tr>\n",
       "      <th>3</th>\n",
       "      <td>engineCC</td>\n",
       "      <td>47.739114</td>\n",
       "    </tr>\n",
       "    <tr>\n",
       "      <th>15</th>\n",
       "      <td>FuelType_Diesel</td>\n",
       "      <td>37.931247</td>\n",
       "    </tr>\n",
       "    <tr>\n",
       "      <th>4</th>\n",
       "      <td>powerBhp</td>\n",
       "      <td>29.552494</td>\n",
       "    </tr>\n",
       "    <tr>\n",
       "      <th>2</th>\n",
       "      <td>mileage</td>\n",
       "      <td>27.715907</td>\n",
       "    </tr>\n",
       "    <tr>\n",
       "      <th>18</th>\n",
       "      <td>FuelType_Petrol</td>\n",
       "      <td>26.455456</td>\n",
       "    </tr>\n",
       "  </tbody>\n",
       "</table>\n",
       "</div>"
      ],
      "text/plain": [
       "          variables        VIF\n",
       "3          engineCC  47.739114\n",
       "15  FuelType_Diesel  37.931247\n",
       "4          powerBhp  29.552494\n",
       "2           mileage  27.715907\n",
       "18  FuelType_Petrol  26.455456"
      ]
     },
     "execution_count": 106,
     "metadata": {},
     "output_type": "execute_result"
    }
   ],
   "source": [
    "X = clean_df.drop('Price',axis=1)\n",
    "\n",
    "vif_df = calc_vif(X)\n",
    "\n",
    "vif_df.sort_values(by='VIF', ascending=False).head()"
   ]
  },
  {
   "cell_type": "code",
   "execution_count": 107,
   "metadata": {},
   "outputs": [
    {
     "data": {
      "text/html": [
       "<div>\n",
       "<style scoped>\n",
       "    .dataframe tbody tr th:only-of-type {\n",
       "        vertical-align: middle;\n",
       "    }\n",
       "\n",
       "    .dataframe tbody tr th {\n",
       "        vertical-align: top;\n",
       "    }\n",
       "\n",
       "    .dataframe thead th {\n",
       "        text-align: right;\n",
       "    }\n",
       "</style>\n",
       "<table border=\"1\" class=\"dataframe\">\n",
       "  <thead>\n",
       "    <tr style=\"text-align: right;\">\n",
       "      <th></th>\n",
       "      <th>variables</th>\n",
       "      <th>VIF</th>\n",
       "    </tr>\n",
       "  </thead>\n",
       "  <tbody>\n",
       "    <tr>\n",
       "      <th>14</th>\n",
       "      <td>FuelType_Diesel</td>\n",
       "      <td>31.231801</td>\n",
       "    </tr>\n",
       "    <tr>\n",
       "      <th>17</th>\n",
       "      <td>FuelType_Petrol</td>\n",
       "      <td>23.955044</td>\n",
       "    </tr>\n",
       "    <tr>\n",
       "      <th>2</th>\n",
       "      <td>mileage</td>\n",
       "      <td>23.103542</td>\n",
       "    </tr>\n",
       "    <tr>\n",
       "      <th>3</th>\n",
       "      <td>powerBhp</td>\n",
       "      <td>10.462183</td>\n",
       "    </tr>\n",
       "    <tr>\n",
       "      <th>0</th>\n",
       "      <td>Age</td>\n",
       "      <td>7.297420</td>\n",
       "    </tr>\n",
       "  </tbody>\n",
       "</table>\n",
       "</div>"
      ],
      "text/plain": [
       "          variables        VIF\n",
       "14  FuelType_Diesel  31.231801\n",
       "17  FuelType_Petrol  23.955044\n",
       "2           mileage  23.103542\n",
       "3          powerBhp  10.462183\n",
       "0               Age   7.297420"
      ]
     },
     "execution_count": 107,
     "metadata": {},
     "output_type": "execute_result"
    }
   ],
   "source": [
    "X = clean_df.drop(['Price','engineCC'],axis=1)\n",
    "\n",
    "vif_df = calc_vif(X)\n",
    "\n",
    "vif_df.sort_values(by='VIF', ascending=False).head()"
   ]
  },
  {
   "cell_type": "code",
   "execution_count": 108,
   "metadata": {},
   "outputs": [
    {
     "data": {
      "text/html": [
       "<div>\n",
       "<style scoped>\n",
       "    .dataframe tbody tr th:only-of-type {\n",
       "        vertical-align: middle;\n",
       "    }\n",
       "\n",
       "    .dataframe tbody tr th {\n",
       "        vertical-align: top;\n",
       "    }\n",
       "\n",
       "    .dataframe thead th {\n",
       "        text-align: right;\n",
       "    }\n",
       "</style>\n",
       "<table border=\"1\" class=\"dataframe\">\n",
       "  <thead>\n",
       "    <tr style=\"text-align: right;\">\n",
       "      <th></th>\n",
       "      <th>variables</th>\n",
       "      <th>VIF</th>\n",
       "    </tr>\n",
       "  </thead>\n",
       "  <tbody>\n",
       "    <tr>\n",
       "      <th>2</th>\n",
       "      <td>mileage</td>\n",
       "      <td>14.916291</td>\n",
       "    </tr>\n",
       "    <tr>\n",
       "      <th>3</th>\n",
       "      <td>powerBhp</td>\n",
       "      <td>6.843925</td>\n",
       "    </tr>\n",
       "    <tr>\n",
       "      <th>0</th>\n",
       "      <td>Age</td>\n",
       "      <td>6.840977</td>\n",
       "    </tr>\n",
       "    <tr>\n",
       "      <th>17</th>\n",
       "      <td>Transmission_Manual</td>\n",
       "      <td>5.612177</td>\n",
       "    </tr>\n",
       "    <tr>\n",
       "      <th>12</th>\n",
       "      <td>Location_Mumbai</td>\n",
       "      <td>3.797697</td>\n",
       "    </tr>\n",
       "  </tbody>\n",
       "</table>\n",
       "</div>"
      ],
      "text/plain": [
       "              variables        VIF\n",
       "2               mileage  14.916291\n",
       "3              powerBhp   6.843925\n",
       "0                   Age   6.840977\n",
       "17  Transmission_Manual   5.612177\n",
       "12      Location_Mumbai   3.797697"
      ]
     },
     "execution_count": 108,
     "metadata": {},
     "output_type": "execute_result"
    }
   ],
   "source": [
    "X = clean_df.drop(['Price','engineCC','FuelType_Diesel'],axis=1)\n",
    "\n",
    "vif_df = calc_vif(X)\n",
    "\n",
    "vif_df.sort_values(by='VIF', ascending=False).head()"
   ]
  },
  {
   "cell_type": "code",
   "execution_count": 109,
   "metadata": {},
   "outputs": [
    {
     "data": {
      "text/html": [
       "<div>\n",
       "<style scoped>\n",
       "    .dataframe tbody tr th:only-of-type {\n",
       "        vertical-align: middle;\n",
       "    }\n",
       "\n",
       "    .dataframe tbody tr th {\n",
       "        vertical-align: top;\n",
       "    }\n",
       "\n",
       "    .dataframe thead th {\n",
       "        text-align: right;\n",
       "    }\n",
       "</style>\n",
       "<table border=\"1\" class=\"dataframe\">\n",
       "  <thead>\n",
       "    <tr style=\"text-align: right;\">\n",
       "      <th></th>\n",
       "      <th>variables</th>\n",
       "      <th>VIF</th>\n",
       "    </tr>\n",
       "  </thead>\n",
       "  <tbody>\n",
       "    <tr>\n",
       "      <th>0</th>\n",
       "      <td>Age</td>\n",
       "      <td>6.834173</td>\n",
       "    </tr>\n",
       "    <tr>\n",
       "      <th>2</th>\n",
       "      <td>powerBhp</td>\n",
       "      <td>6.782311</td>\n",
       "    </tr>\n",
       "    <tr>\n",
       "      <th>16</th>\n",
       "      <td>Transmission_Manual</td>\n",
       "      <td>4.479880</td>\n",
       "    </tr>\n",
       "    <tr>\n",
       "      <th>11</th>\n",
       "      <td>Location_Mumbai</td>\n",
       "      <td>2.797853</td>\n",
       "    </tr>\n",
       "    <tr>\n",
       "      <th>7</th>\n",
       "      <td>Location_Hyderabad</td>\n",
       "      <td>2.619884</td>\n",
       "    </tr>\n",
       "  </tbody>\n",
       "</table>\n",
       "</div>"
      ],
      "text/plain": [
       "              variables       VIF\n",
       "0                   Age  6.834173\n",
       "2              powerBhp  6.782311\n",
       "16  Transmission_Manual  4.479880\n",
       "11      Location_Mumbai  2.797853\n",
       "7    Location_Hyderabad  2.619884"
      ]
     },
     "execution_count": 109,
     "metadata": {},
     "output_type": "execute_result"
    }
   ],
   "source": [
    "X = clean_df.drop(['Price','engineCC','FuelType_Diesel','mileage'],axis=1)\n",
    "\n",
    "vif_df = calc_vif(X)\n",
    "\n",
    "vif_df.sort_values(by='VIF', ascending=False).head()"
   ]
  },
  {
   "cell_type": "code",
   "execution_count": 110,
   "metadata": {},
   "outputs": [],
   "source": [
    "# VIF less than 10 is acceptable\n",
    "# the more your VIF increases, the less reliable your regression results are going to be. \n",
    "# In general, a VIF above 10 indicates high correlation and is cause for concern."
   ]
  },
  {
   "cell_type": "code",
   "execution_count": 111,
   "metadata": {},
   "outputs": [],
   "source": [
    "# we are losing two important variables enigneCC and mileage, we can consider verifying them by converting them\n",
    "# into buckets"
   ]
  },
  {
   "cell_type": "code",
   "execution_count": 112,
   "metadata": {},
   "outputs": [
    {
     "data": {
      "text/html": [
       "<div>\n",
       "<style scoped>\n",
       "    .dataframe tbody tr th:only-of-type {\n",
       "        vertical-align: middle;\n",
       "    }\n",
       "\n",
       "    .dataframe tbody tr th {\n",
       "        vertical-align: top;\n",
       "    }\n",
       "\n",
       "    .dataframe thead th {\n",
       "        text-align: right;\n",
       "    }\n",
       "</style>\n",
       "<table border=\"1\" class=\"dataframe\">\n",
       "  <thead>\n",
       "    <tr style=\"text-align: right;\">\n",
       "      <th></th>\n",
       "      <th>Price</th>\n",
       "      <th>Age</th>\n",
       "      <th>Odometer</th>\n",
       "      <th>mileage</th>\n",
       "      <th>engineCC</th>\n",
       "      <th>powerBhp</th>\n",
       "      <th>Location_Bangalore</th>\n",
       "      <th>Location_Chennai</th>\n",
       "      <th>Location_Coimbatore</th>\n",
       "      <th>Location_Delhi</th>\n",
       "      <th>...</th>\n",
       "      <th>Location_Mumbai</th>\n",
       "      <th>Location_Pune</th>\n",
       "      <th>FuelType_Diesel</th>\n",
       "      <th>FuelType_Electric</th>\n",
       "      <th>FuelType_LPG</th>\n",
       "      <th>FuelType_Petrol</th>\n",
       "      <th>Transmission_Manual</th>\n",
       "      <th>OwnerType_Fourth +ACY- Above</th>\n",
       "      <th>OwnerType_Second</th>\n",
       "      <th>OwnerType_Third</th>\n",
       "    </tr>\n",
       "  </thead>\n",
       "  <tbody>\n",
       "    <tr>\n",
       "      <th>0</th>\n",
       "      <td>1.75</td>\n",
       "      <td>10</td>\n",
       "      <td>72000</td>\n",
       "      <td>26.60</td>\n",
       "      <td>998.0</td>\n",
       "      <td>58.16</td>\n",
       "      <td>0</td>\n",
       "      <td>0</td>\n",
       "      <td>0</td>\n",
       "      <td>0</td>\n",
       "      <td>...</td>\n",
       "      <td>1</td>\n",
       "      <td>0</td>\n",
       "      <td>0</td>\n",
       "      <td>0</td>\n",
       "      <td>0</td>\n",
       "      <td>0</td>\n",
       "      <td>1</td>\n",
       "      <td>0</td>\n",
       "      <td>0</td>\n",
       "      <td>0</td>\n",
       "    </tr>\n",
       "    <tr>\n",
       "      <th>1</th>\n",
       "      <td>12.50</td>\n",
       "      <td>5</td>\n",
       "      <td>41000</td>\n",
       "      <td>19.67</td>\n",
       "      <td>1582.0</td>\n",
       "      <td>126.20</td>\n",
       "      <td>0</td>\n",
       "      <td>0</td>\n",
       "      <td>0</td>\n",
       "      <td>0</td>\n",
       "      <td>...</td>\n",
       "      <td>0</td>\n",
       "      <td>1</td>\n",
       "      <td>1</td>\n",
       "      <td>0</td>\n",
       "      <td>0</td>\n",
       "      <td>0</td>\n",
       "      <td>1</td>\n",
       "      <td>0</td>\n",
       "      <td>0</td>\n",
       "      <td>0</td>\n",
       "    </tr>\n",
       "    <tr>\n",
       "      <th>2</th>\n",
       "      <td>4.50</td>\n",
       "      <td>9</td>\n",
       "      <td>46000</td>\n",
       "      <td>18.20</td>\n",
       "      <td>1199.0</td>\n",
       "      <td>88.70</td>\n",
       "      <td>0</td>\n",
       "      <td>1</td>\n",
       "      <td>0</td>\n",
       "      <td>0</td>\n",
       "      <td>...</td>\n",
       "      <td>0</td>\n",
       "      <td>0</td>\n",
       "      <td>0</td>\n",
       "      <td>0</td>\n",
       "      <td>0</td>\n",
       "      <td>1</td>\n",
       "      <td>1</td>\n",
       "      <td>0</td>\n",
       "      <td>0</td>\n",
       "      <td>0</td>\n",
       "    </tr>\n",
       "    <tr>\n",
       "      <th>3</th>\n",
       "      <td>6.00</td>\n",
       "      <td>8</td>\n",
       "      <td>87000</td>\n",
       "      <td>20.77</td>\n",
       "      <td>1248.0</td>\n",
       "      <td>88.76</td>\n",
       "      <td>0</td>\n",
       "      <td>1</td>\n",
       "      <td>0</td>\n",
       "      <td>0</td>\n",
       "      <td>...</td>\n",
       "      <td>0</td>\n",
       "      <td>0</td>\n",
       "      <td>1</td>\n",
       "      <td>0</td>\n",
       "      <td>0</td>\n",
       "      <td>0</td>\n",
       "      <td>1</td>\n",
       "      <td>0</td>\n",
       "      <td>0</td>\n",
       "      <td>0</td>\n",
       "    </tr>\n",
       "    <tr>\n",
       "      <th>4</th>\n",
       "      <td>17.74</td>\n",
       "      <td>7</td>\n",
       "      <td>40670</td>\n",
       "      <td>15.20</td>\n",
       "      <td>1968.0</td>\n",
       "      <td>140.80</td>\n",
       "      <td>0</td>\n",
       "      <td>0</td>\n",
       "      <td>1</td>\n",
       "      <td>0</td>\n",
       "      <td>...</td>\n",
       "      <td>0</td>\n",
       "      <td>0</td>\n",
       "      <td>1</td>\n",
       "      <td>0</td>\n",
       "      <td>0</td>\n",
       "      <td>0</td>\n",
       "      <td>0</td>\n",
       "      <td>0</td>\n",
       "      <td>1</td>\n",
       "      <td>0</td>\n",
       "    </tr>\n",
       "  </tbody>\n",
       "</table>\n",
       "<p>5 rows × 24 columns</p>\n",
       "</div>"
      ],
      "text/plain": [
       "   Price  Age  Odometer  mileage  engineCC  powerBhp  Location_Bangalore  \\\n",
       "0   1.75   10     72000    26.60     998.0     58.16                   0   \n",
       "1  12.50    5     41000    19.67    1582.0    126.20                   0   \n",
       "2   4.50    9     46000    18.20    1199.0     88.70                   0   \n",
       "3   6.00    8     87000    20.77    1248.0     88.76                   0   \n",
       "4  17.74    7     40670    15.20    1968.0    140.80                   0   \n",
       "\n",
       "   Location_Chennai  Location_Coimbatore  Location_Delhi  ...  \\\n",
       "0                 0                    0               0  ...   \n",
       "1                 0                    0               0  ...   \n",
       "2                 1                    0               0  ...   \n",
       "3                 1                    0               0  ...   \n",
       "4                 0                    1               0  ...   \n",
       "\n",
       "   Location_Mumbai  Location_Pune  FuelType_Diesel  FuelType_Electric  \\\n",
       "0                1              0                0                  0   \n",
       "1                0              1                1                  0   \n",
       "2                0              0                0                  0   \n",
       "3                0              0                1                  0   \n",
       "4                0              0                1                  0   \n",
       "\n",
       "   FuelType_LPG  FuelType_Petrol  Transmission_Manual  \\\n",
       "0             0                0                    1   \n",
       "1             0                0                    1   \n",
       "2             0                1                    1   \n",
       "3             0                0                    1   \n",
       "4             0                0                    0   \n",
       "\n",
       "   OwnerType_Fourth +ACY- Above  OwnerType_Second  OwnerType_Third  \n",
       "0                             0                 0                0  \n",
       "1                             0                 0                0  \n",
       "2                             0                 0                0  \n",
       "3                             0                 0                0  \n",
       "4                             0                 1                0  \n",
       "\n",
       "[5 rows x 24 columns]"
      ]
     },
     "execution_count": 112,
     "metadata": {},
     "output_type": "execute_result"
    }
   ],
   "source": [
    "clean_df.head()"
   ]
  },
  {
   "cell_type": "code",
   "execution_count": 113,
   "metadata": {},
   "outputs": [],
   "source": [
    "#pd.qcut(clean_df.mileage,q=[0.,0.25,0.50,0.75,1.]).value_counts()"
   ]
  },
  {
   "cell_type": "code",
   "execution_count": 114,
   "metadata": {},
   "outputs": [],
   "source": [
    "#hml_mileage = pd.get_dummies(pd.qcut(clean_df.mileage,q=[0.,0.25,0.50,0.75,1.]),prefix='mileage',drop_first=True)\n",
    "# high, medium and low"
   ]
  },
  {
   "cell_type": "code",
   "execution_count": 115,
   "metadata": {},
   "outputs": [],
   "source": [
    "#pd.qcut(clean_df.mileage,q=[0.,0.25,0.50,0.75,1.]).value_counts()"
   ]
  },
  {
   "cell_type": "code",
   "execution_count": 116,
   "metadata": {},
   "outputs": [],
   "source": [
    "#pd.qcut(clean_df.engineCC,q=[0.,0.25,0.50,0.75,1.]).value_counts()"
   ]
  },
  {
   "cell_type": "code",
   "execution_count": 117,
   "metadata": {},
   "outputs": [],
   "source": [
    "#hml_engineCC = pd.get_dummies(pd.qcut(clean_df.engineCC,q=[0.,0.25,0.50,0.75,1.]),prefix='engineCC',drop_first=True)\n",
    "# high, medium and low"
   ]
  },
  {
   "cell_type": "code",
   "execution_count": 118,
   "metadata": {},
   "outputs": [],
   "source": [
    "#clean_df = pd.concat([clean_df,hml_mileage,hml_engineCC],axis=1)"
   ]
  },
  {
   "cell_type": "code",
   "execution_count": 119,
   "metadata": {},
   "outputs": [
    {
     "data": {
      "text/html": [
       "<div>\n",
       "<style scoped>\n",
       "    .dataframe tbody tr th:only-of-type {\n",
       "        vertical-align: middle;\n",
       "    }\n",
       "\n",
       "    .dataframe tbody tr th {\n",
       "        vertical-align: top;\n",
       "    }\n",
       "\n",
       "    .dataframe thead th {\n",
       "        text-align: right;\n",
       "    }\n",
       "</style>\n",
       "<table border=\"1\" class=\"dataframe\">\n",
       "  <thead>\n",
       "    <tr style=\"text-align: right;\">\n",
       "      <th></th>\n",
       "      <th>Price</th>\n",
       "      <th>Age</th>\n",
       "      <th>Odometer</th>\n",
       "      <th>mileage</th>\n",
       "      <th>engineCC</th>\n",
       "      <th>powerBhp</th>\n",
       "      <th>Location_Bangalore</th>\n",
       "      <th>Location_Chennai</th>\n",
       "      <th>Location_Coimbatore</th>\n",
       "      <th>Location_Delhi</th>\n",
       "      <th>...</th>\n",
       "      <th>Location_Mumbai</th>\n",
       "      <th>Location_Pune</th>\n",
       "      <th>FuelType_Diesel</th>\n",
       "      <th>FuelType_Electric</th>\n",
       "      <th>FuelType_LPG</th>\n",
       "      <th>FuelType_Petrol</th>\n",
       "      <th>Transmission_Manual</th>\n",
       "      <th>OwnerType_Fourth +ACY- Above</th>\n",
       "      <th>OwnerType_Second</th>\n",
       "      <th>OwnerType_Third</th>\n",
       "    </tr>\n",
       "  </thead>\n",
       "  <tbody>\n",
       "    <tr>\n",
       "      <th>0</th>\n",
       "      <td>1.75</td>\n",
       "      <td>10</td>\n",
       "      <td>72000</td>\n",
       "      <td>26.60</td>\n",
       "      <td>998.0</td>\n",
       "      <td>58.16</td>\n",
       "      <td>0</td>\n",
       "      <td>0</td>\n",
       "      <td>0</td>\n",
       "      <td>0</td>\n",
       "      <td>...</td>\n",
       "      <td>1</td>\n",
       "      <td>0</td>\n",
       "      <td>0</td>\n",
       "      <td>0</td>\n",
       "      <td>0</td>\n",
       "      <td>0</td>\n",
       "      <td>1</td>\n",
       "      <td>0</td>\n",
       "      <td>0</td>\n",
       "      <td>0</td>\n",
       "    </tr>\n",
       "    <tr>\n",
       "      <th>1</th>\n",
       "      <td>12.50</td>\n",
       "      <td>5</td>\n",
       "      <td>41000</td>\n",
       "      <td>19.67</td>\n",
       "      <td>1582.0</td>\n",
       "      <td>126.20</td>\n",
       "      <td>0</td>\n",
       "      <td>0</td>\n",
       "      <td>0</td>\n",
       "      <td>0</td>\n",
       "      <td>...</td>\n",
       "      <td>0</td>\n",
       "      <td>1</td>\n",
       "      <td>1</td>\n",
       "      <td>0</td>\n",
       "      <td>0</td>\n",
       "      <td>0</td>\n",
       "      <td>1</td>\n",
       "      <td>0</td>\n",
       "      <td>0</td>\n",
       "      <td>0</td>\n",
       "    </tr>\n",
       "    <tr>\n",
       "      <th>2</th>\n",
       "      <td>4.50</td>\n",
       "      <td>9</td>\n",
       "      <td>46000</td>\n",
       "      <td>18.20</td>\n",
       "      <td>1199.0</td>\n",
       "      <td>88.70</td>\n",
       "      <td>0</td>\n",
       "      <td>1</td>\n",
       "      <td>0</td>\n",
       "      <td>0</td>\n",
       "      <td>...</td>\n",
       "      <td>0</td>\n",
       "      <td>0</td>\n",
       "      <td>0</td>\n",
       "      <td>0</td>\n",
       "      <td>0</td>\n",
       "      <td>1</td>\n",
       "      <td>1</td>\n",
       "      <td>0</td>\n",
       "      <td>0</td>\n",
       "      <td>0</td>\n",
       "    </tr>\n",
       "    <tr>\n",
       "      <th>3</th>\n",
       "      <td>6.00</td>\n",
       "      <td>8</td>\n",
       "      <td>87000</td>\n",
       "      <td>20.77</td>\n",
       "      <td>1248.0</td>\n",
       "      <td>88.76</td>\n",
       "      <td>0</td>\n",
       "      <td>1</td>\n",
       "      <td>0</td>\n",
       "      <td>0</td>\n",
       "      <td>...</td>\n",
       "      <td>0</td>\n",
       "      <td>0</td>\n",
       "      <td>1</td>\n",
       "      <td>0</td>\n",
       "      <td>0</td>\n",
       "      <td>0</td>\n",
       "      <td>1</td>\n",
       "      <td>0</td>\n",
       "      <td>0</td>\n",
       "      <td>0</td>\n",
       "    </tr>\n",
       "    <tr>\n",
       "      <th>4</th>\n",
       "      <td>17.74</td>\n",
       "      <td>7</td>\n",
       "      <td>40670</td>\n",
       "      <td>15.20</td>\n",
       "      <td>1968.0</td>\n",
       "      <td>140.80</td>\n",
       "      <td>0</td>\n",
       "      <td>0</td>\n",
       "      <td>1</td>\n",
       "      <td>0</td>\n",
       "      <td>...</td>\n",
       "      <td>0</td>\n",
       "      <td>0</td>\n",
       "      <td>1</td>\n",
       "      <td>0</td>\n",
       "      <td>0</td>\n",
       "      <td>0</td>\n",
       "      <td>0</td>\n",
       "      <td>0</td>\n",
       "      <td>1</td>\n",
       "      <td>0</td>\n",
       "    </tr>\n",
       "  </tbody>\n",
       "</table>\n",
       "<p>5 rows × 24 columns</p>\n",
       "</div>"
      ],
      "text/plain": [
       "   Price  Age  Odometer  mileage  engineCC  powerBhp  Location_Bangalore  \\\n",
       "0   1.75   10     72000    26.60     998.0     58.16                   0   \n",
       "1  12.50    5     41000    19.67    1582.0    126.20                   0   \n",
       "2   4.50    9     46000    18.20    1199.0     88.70                   0   \n",
       "3   6.00    8     87000    20.77    1248.0     88.76                   0   \n",
       "4  17.74    7     40670    15.20    1968.0    140.80                   0   \n",
       "\n",
       "   Location_Chennai  Location_Coimbatore  Location_Delhi  ...  \\\n",
       "0                 0                    0               0  ...   \n",
       "1                 0                    0               0  ...   \n",
       "2                 1                    0               0  ...   \n",
       "3                 1                    0               0  ...   \n",
       "4                 0                    1               0  ...   \n",
       "\n",
       "   Location_Mumbai  Location_Pune  FuelType_Diesel  FuelType_Electric  \\\n",
       "0                1              0                0                  0   \n",
       "1                0              1                1                  0   \n",
       "2                0              0                0                  0   \n",
       "3                0              0                1                  0   \n",
       "4                0              0                1                  0   \n",
       "\n",
       "   FuelType_LPG  FuelType_Petrol  Transmission_Manual  \\\n",
       "0             0                0                    1   \n",
       "1             0                0                    1   \n",
       "2             0                1                    1   \n",
       "3             0                0                    1   \n",
       "4             0                0                    0   \n",
       "\n",
       "   OwnerType_Fourth +ACY- Above  OwnerType_Second  OwnerType_Third  \n",
       "0                             0                 0                0  \n",
       "1                             0                 0                0  \n",
       "2                             0                 0                0  \n",
       "3                             0                 0                0  \n",
       "4                             0                 1                0  \n",
       "\n",
       "[5 rows x 24 columns]"
      ]
     },
     "execution_count": 119,
     "metadata": {},
     "output_type": "execute_result"
    }
   ],
   "source": [
    "clean_df.head()"
   ]
  },
  {
   "cell_type": "code",
   "execution_count": 120,
   "metadata": {},
   "outputs": [
    {
     "data": {
      "text/html": [
       "<div>\n",
       "<style scoped>\n",
       "    .dataframe tbody tr th:only-of-type {\n",
       "        vertical-align: middle;\n",
       "    }\n",
       "\n",
       "    .dataframe tbody tr th {\n",
       "        vertical-align: top;\n",
       "    }\n",
       "\n",
       "    .dataframe thead th {\n",
       "        text-align: right;\n",
       "    }\n",
       "</style>\n",
       "<table border=\"1\" class=\"dataframe\">\n",
       "  <thead>\n",
       "    <tr style=\"text-align: right;\">\n",
       "      <th></th>\n",
       "      <th>variables</th>\n",
       "      <th>VIF</th>\n",
       "    </tr>\n",
       "  </thead>\n",
       "  <tbody>\n",
       "    <tr>\n",
       "      <th>13</th>\n",
       "      <td>FuelType_Diesel</td>\n",
       "      <td>20.164122</td>\n",
       "    </tr>\n",
       "    <tr>\n",
       "      <th>16</th>\n",
       "      <td>FuelType_Petrol</td>\n",
       "      <td>16.654208</td>\n",
       "    </tr>\n",
       "    <tr>\n",
       "      <th>2</th>\n",
       "      <td>powerBhp</td>\n",
       "      <td>9.591883</td>\n",
       "    </tr>\n",
       "    <tr>\n",
       "      <th>0</th>\n",
       "      <td>Age</td>\n",
       "      <td>7.077965</td>\n",
       "    </tr>\n",
       "    <tr>\n",
       "      <th>17</th>\n",
       "      <td>Transmission_Manual</td>\n",
       "      <td>5.582305</td>\n",
       "    </tr>\n",
       "  </tbody>\n",
       "</table>\n",
       "</div>"
      ],
      "text/plain": [
       "              variables        VIF\n",
       "13      FuelType_Diesel  20.164122\n",
       "16      FuelType_Petrol  16.654208\n",
       "2              powerBhp   9.591883\n",
       "0                   Age   7.077965\n",
       "17  Transmission_Manual   5.582305"
      ]
     },
     "execution_count": 120,
     "metadata": {},
     "output_type": "execute_result"
    }
   ],
   "source": [
    "X = clean_df.drop(['Price','engineCC','mileage'],axis=1)\n",
    "\n",
    "vif_df = calc_vif(X)\n",
    "\n",
    "vif_df.sort_values(by='VIF', ascending=False).head()"
   ]
  },
  {
   "cell_type": "code",
   "execution_count": 121,
   "metadata": {},
   "outputs": [
    {
     "data": {
      "text/html": [
       "<div>\n",
       "<style scoped>\n",
       "    .dataframe tbody tr th:only-of-type {\n",
       "        vertical-align: middle;\n",
       "    }\n",
       "\n",
       "    .dataframe tbody tr th {\n",
       "        vertical-align: top;\n",
       "    }\n",
       "\n",
       "    .dataframe thead th {\n",
       "        text-align: right;\n",
       "    }\n",
       "</style>\n",
       "<table border=\"1\" class=\"dataframe\">\n",
       "  <thead>\n",
       "    <tr style=\"text-align: right;\">\n",
       "      <th></th>\n",
       "      <th>variables</th>\n",
       "      <th>VIF</th>\n",
       "    </tr>\n",
       "  </thead>\n",
       "  <tbody>\n",
       "    <tr>\n",
       "      <th>0</th>\n",
       "      <td>Age</td>\n",
       "      <td>6.834173</td>\n",
       "    </tr>\n",
       "    <tr>\n",
       "      <th>2</th>\n",
       "      <td>powerBhp</td>\n",
       "      <td>6.782311</td>\n",
       "    </tr>\n",
       "    <tr>\n",
       "      <th>16</th>\n",
       "      <td>Transmission_Manual</td>\n",
       "      <td>4.479880</td>\n",
       "    </tr>\n",
       "    <tr>\n",
       "      <th>11</th>\n",
       "      <td>Location_Mumbai</td>\n",
       "      <td>2.797853</td>\n",
       "    </tr>\n",
       "    <tr>\n",
       "      <th>7</th>\n",
       "      <td>Location_Hyderabad</td>\n",
       "      <td>2.619884</td>\n",
       "    </tr>\n",
       "  </tbody>\n",
       "</table>\n",
       "</div>"
      ],
      "text/plain": [
       "              variables       VIF\n",
       "0                   Age  6.834173\n",
       "2              powerBhp  6.782311\n",
       "16  Transmission_Manual  4.479880\n",
       "11      Location_Mumbai  2.797853\n",
       "7    Location_Hyderabad  2.619884"
      ]
     },
     "execution_count": 121,
     "metadata": {},
     "output_type": "execute_result"
    }
   ],
   "source": [
    "X = clean_df.drop(['Price','engineCC','FuelType_Diesel','mileage'],axis=1)\n",
    "\n",
    "vif_df = calc_vif(X)\n",
    "\n",
    "vif_df.sort_values(by='VIF', ascending=False).head()"
   ]
  },
  {
   "cell_type": "code",
   "execution_count": 122,
   "metadata": {},
   "outputs": [],
   "source": [
    "#pd.qcut(clean_df.powerBhp,q=[0.,0.25,0.50,0.75,1.]).value_counts()"
   ]
  },
  {
   "cell_type": "code",
   "execution_count": 123,
   "metadata": {},
   "outputs": [],
   "source": [
    "#hml_powerBhp = pd.get_dummies(pd.qcut(clean_df.powerBhp,q=[0.,0.25,0.50,0.75,1.]),prefix='powerBhp',drop_first=True)\n",
    "# high, medium and low"
   ]
  },
  {
   "cell_type": "code",
   "execution_count": 124,
   "metadata": {},
   "outputs": [],
   "source": [
    "#clean_df = pd.concat([clean_df,hml_powerBhp],axis=1)"
   ]
  },
  {
   "cell_type": "code",
   "execution_count": 125,
   "metadata": {},
   "outputs": [
    {
     "data": {
      "text/html": [
       "<div>\n",
       "<style scoped>\n",
       "    .dataframe tbody tr th:only-of-type {\n",
       "        vertical-align: middle;\n",
       "    }\n",
       "\n",
       "    .dataframe tbody tr th {\n",
       "        vertical-align: top;\n",
       "    }\n",
       "\n",
       "    .dataframe thead th {\n",
       "        text-align: right;\n",
       "    }\n",
       "</style>\n",
       "<table border=\"1\" class=\"dataframe\">\n",
       "  <thead>\n",
       "    <tr style=\"text-align: right;\">\n",
       "      <th></th>\n",
       "      <th>variables</th>\n",
       "      <th>VIF</th>\n",
       "    </tr>\n",
       "  </thead>\n",
       "  <tbody>\n",
       "    <tr>\n",
       "      <th>0</th>\n",
       "      <td>Age</td>\n",
       "      <td>6.322638</td>\n",
       "    </tr>\n",
       "    <tr>\n",
       "      <th>15</th>\n",
       "      <td>Transmission_Manual</td>\n",
       "      <td>3.482934</td>\n",
       "    </tr>\n",
       "    <tr>\n",
       "      <th>14</th>\n",
       "      <td>FuelType_Petrol</td>\n",
       "      <td>1.997771</td>\n",
       "    </tr>\n",
       "    <tr>\n",
       "      <th>6</th>\n",
       "      <td>Location_Hyderabad</td>\n",
       "      <td>1.838072</td>\n",
       "    </tr>\n",
       "    <tr>\n",
       "      <th>11</th>\n",
       "      <td>Location_Pune</td>\n",
       "      <td>1.760061</td>\n",
       "    </tr>\n",
       "  </tbody>\n",
       "</table>\n",
       "</div>"
      ],
      "text/plain": [
       "              variables       VIF\n",
       "0                   Age  6.322638\n",
       "15  Transmission_Manual  3.482934\n",
       "14      FuelType_Petrol  1.997771\n",
       "6    Location_Hyderabad  1.838072\n",
       "11        Location_Pune  1.760061"
      ]
     },
     "execution_count": 125,
     "metadata": {},
     "output_type": "execute_result"
    }
   ],
   "source": [
    "X = clean_df.drop(['Price','engineCC','FuelType_Diesel','mileage','powerBhp'],axis=1)\n",
    "\n",
    "vif_df = calc_vif(X)\n",
    "\n",
    "vif_df.sort_values(by='VIF', ascending=False).head()"
   ]
  },
  {
   "cell_type": "code",
   "execution_count": 126,
   "metadata": {},
   "outputs": [],
   "source": [
    "# numeric values of engineCC, mileage and powerBhp lead to high multicollinearity, hence quantile based\n",
    "# buckets created and then dummy variables introduced, which reduced the multicollinearity\n",
    "\n",
    "# diesel fuel type also contributed to high multicollinearity, hence dropped from the model"
   ]
  },
  {
   "cell_type": "code",
   "execution_count": 127,
   "metadata": {},
   "outputs": [
    {
     "name": "stdout",
     "output_type": "stream",
     "text": [
      "0.7000714797069869\n",
      "0.6902967954209108\n"
     ]
    }
   ],
   "source": [
    "y = clean_df['Price']\n",
    "x = clean_df.drop(['Price','engineCC','FuelType_Diesel','mileage'],axis=1)\n",
    "xtrain,xtest,ytrain,ytest = train_test_split(x,y,test_size=0.25,random_state=1234)\n",
    "\n",
    "xtrain.shape,ytrain.shape,xtest.shape,ytest.shape\n",
    "\n",
    "new_model = LinearRegression()\n",
    "\n",
    "new_model.fit(xtrain,ytrain)\n",
    "\n",
    "print(new_model.score(xtrain,ytrain))\n",
    "\n",
    "print(new_model.score(xtest,ytest))"
   ]
  },
  {
   "cell_type": "code",
   "execution_count": 128,
   "metadata": {},
   "outputs": [
    {
     "data": {
      "text/html": [
       "<div>\n",
       "<style scoped>\n",
       "    .dataframe tbody tr th:only-of-type {\n",
       "        vertical-align: middle;\n",
       "    }\n",
       "\n",
       "    .dataframe tbody tr th {\n",
       "        vertical-align: top;\n",
       "    }\n",
       "\n",
       "    .dataframe thead th {\n",
       "        text-align: right;\n",
       "    }\n",
       "</style>\n",
       "<table border=\"1\" class=\"dataframe\">\n",
       "  <thead>\n",
       "    <tr style=\"text-align: right;\">\n",
       "      <th></th>\n",
       "      <th>Variables</th>\n",
       "      <th>coefficients</th>\n",
       "    </tr>\n",
       "  </thead>\n",
       "  <tbody>\n",
       "    <tr>\n",
       "      <th>13</th>\n",
       "      <td>FuelType_Electric</td>\n",
       "      <td>9.02</td>\n",
       "    </tr>\n",
       "    <tr>\n",
       "      <th>17</th>\n",
       "      <td>OwnerType_Fourth +ACY- Above</td>\n",
       "      <td>4.70</td>\n",
       "    </tr>\n",
       "    <tr>\n",
       "      <th>5</th>\n",
       "      <td>Location_Coimbatore</td>\n",
       "      <td>2.35</td>\n",
       "    </tr>\n",
       "    <tr>\n",
       "      <th>3</th>\n",
       "      <td>Location_Bangalore</td>\n",
       "      <td>1.96</td>\n",
       "    </tr>\n",
       "    <tr>\n",
       "      <th>7</th>\n",
       "      <td>Location_Hyderabad</td>\n",
       "      <td>1.92</td>\n",
       "    </tr>\n",
       "    <tr>\n",
       "      <th>19</th>\n",
       "      <td>OwnerType_Third</td>\n",
       "      <td>1.66</td>\n",
       "    </tr>\n",
       "    <tr>\n",
       "      <th>14</th>\n",
       "      <td>FuelType_LPG</td>\n",
       "      <td>1.50</td>\n",
       "    </tr>\n",
       "    <tr>\n",
       "      <th>4</th>\n",
       "      <td>Location_Chennai</td>\n",
       "      <td>1.05</td>\n",
       "    </tr>\n",
       "    <tr>\n",
       "      <th>8</th>\n",
       "      <td>Location_Jaipur</td>\n",
       "      <td>0.65</td>\n",
       "    </tr>\n",
       "    <tr>\n",
       "      <th>12</th>\n",
       "      <td>Location_Pune</td>\n",
       "      <td>0.21</td>\n",
       "    </tr>\n",
       "    <tr>\n",
       "      <th>2</th>\n",
       "      <td>powerBhp</td>\n",
       "      <td>0.14</td>\n",
       "    </tr>\n",
       "    <tr>\n",
       "      <th>1</th>\n",
       "      <td>Odometer</td>\n",
       "      <td>0.00</td>\n",
       "    </tr>\n",
       "    <tr>\n",
       "      <th>9</th>\n",
       "      <td>Location_Kochi</td>\n",
       "      <td>-0.06</td>\n",
       "    </tr>\n",
       "    <tr>\n",
       "      <th>6</th>\n",
       "      <td>Location_Delhi</td>\n",
       "      <td>-0.12</td>\n",
       "    </tr>\n",
       "    <tr>\n",
       "      <th>18</th>\n",
       "      <td>OwnerType_Second</td>\n",
       "      <td>-0.53</td>\n",
       "    </tr>\n",
       "    <tr>\n",
       "      <th>11</th>\n",
       "      <td>Location_Mumbai</td>\n",
       "      <td>-0.60</td>\n",
       "    </tr>\n",
       "    <tr>\n",
       "      <th>0</th>\n",
       "      <td>Age</td>\n",
       "      <td>-0.93</td>\n",
       "    </tr>\n",
       "    <tr>\n",
       "      <th>10</th>\n",
       "      <td>Location_Kolkata</td>\n",
       "      <td>-0.97</td>\n",
       "    </tr>\n",
       "    <tr>\n",
       "      <th>15</th>\n",
       "      <td>FuelType_Petrol</td>\n",
       "      <td>-1.31</td>\n",
       "    </tr>\n",
       "    <tr>\n",
       "      <th>16</th>\n",
       "      <td>Transmission_Manual</td>\n",
       "      <td>-2.68</td>\n",
       "    </tr>\n",
       "  </tbody>\n",
       "</table>\n",
       "</div>"
      ],
      "text/plain": [
       "                       Variables  coefficients\n",
       "13             FuelType_Electric          9.02\n",
       "17  OwnerType_Fourth +ACY- Above          4.70\n",
       "5            Location_Coimbatore          2.35\n",
       "3             Location_Bangalore          1.96\n",
       "7             Location_Hyderabad          1.92\n",
       "19               OwnerType_Third          1.66\n",
       "14                  FuelType_LPG          1.50\n",
       "4               Location_Chennai          1.05\n",
       "8                Location_Jaipur          0.65\n",
       "12                 Location_Pune          0.21\n",
       "2                       powerBhp          0.14\n",
       "1                       Odometer          0.00\n",
       "9                 Location_Kochi         -0.06\n",
       "6                 Location_Delhi         -0.12\n",
       "18              OwnerType_Second         -0.53\n",
       "11               Location_Mumbai         -0.60\n",
       "0                            Age         -0.93\n",
       "10              Location_Kolkata         -0.97\n",
       "15               FuelType_Petrol         -1.31\n",
       "16           Transmission_Manual         -2.68"
      ]
     },
     "execution_count": 128,
     "metadata": {},
     "output_type": "execute_result"
    }
   ],
   "source": [
    "resultsDF = pd.DataFrame()\n",
    "resultsDF['Variables'] = pd.Series(xtrain.columns)\n",
    "resultsDF['coefficients'] = pd.Series(np.round(new_model.coef_,2))\n",
    "resultsDF.sort_values(by='coefficients',ascending=False)"
   ]
  },
  {
   "cell_type": "code",
   "execution_count": 129,
   "metadata": {},
   "outputs": [
    {
     "data": {
      "text/plain": [
       "1.53"
      ]
     },
     "execution_count": 129,
     "metadata": {},
     "output_type": "execute_result"
    }
   ],
   "source": [
    "np.round(new_model.intercept_,2)"
   ]
  },
  {
   "cell_type": "code",
   "execution_count": 130,
   "metadata": {},
   "outputs": [],
   "source": [
    "#mod = sm.OLS(np.array(ytrain), np.array(xtrain))\n",
    "\n",
    "#results = mod.fit()\n",
    "#print(results.summary())"
   ]
  },
  {
   "cell_type": "code",
   "execution_count": 131,
   "metadata": {},
   "outputs": [],
   "source": [
    "# how good the model is?\n",
    "\n",
    "# R-square, coefficient of determination, \n",
    "# the value ranges from 0-1, \n",
    "# 0- there is no predictive power in the model\n",
    "# 1- abosulte predictive power\n",
    "# 0.8- a good model"
   ]
  },
  {
   "cell_type": "code",
   "execution_count": 132,
   "metadata": {},
   "outputs": [],
   "source": [
    "#adjusted R square\n",
    "def AdjustedRSquare(model,X,Y):\n",
    "    YHat = model.predict(X)\n",
    "    n,k = X.shape\n",
    "    sse = np.sum(np.square(YHat-Y),axis=0) #sum of suare error\n",
    "    sst = np.sum(np.square(Y-np.mean(Y)),axis=0) # sum of square total\n",
    "    R2 = 1- sse/sst #explained sum of squares\n",
    "    adjR2 = R2-(1-R2)*(float(k)/(n-k-1))\n",
    "    return adjR2, R2"
   ]
  },
  {
   "cell_type": "code",
   "execution_count": 133,
   "metadata": {},
   "outputs": [],
   "source": [
    "from scipy import stats"
   ]
  },
  {
   "cell_type": "code",
   "execution_count": 134,
   "metadata": {},
   "outputs": [],
   "source": [
    "def ReturnPValue(model,X,Y):\n",
    "    YHat = model.predict(X)\n",
    "    n,k = X.shape\n",
    "    sse = np.sum(np.square(YHat-Y),axis=0)\n",
    "    x = np.hstack((np.ones((n,1)),np.matrix(X)))\n",
    "    df = float(n-k-1)\n",
    "    sampleVar = sse/df\n",
    "    sampleVarianceX = x.T*x\n",
    "    covarianceMatrix = linalg.sqrtm(sampleVar*sampleVarianceX.I)\n",
    "    se = covarianceMatrix.diagonal()[1:]\n",
    "    betasTstat = np.zeros(len(se))\n",
    "    for i in range(len(se)):\n",
    "        betasTstat[i] = model.coef_[i]/se[i]\n",
    "    betasPvalue = 1- stats.t.cdf(abs(betasTstat),df)\n",
    "    return betasPvalue"
   ]
  },
  {
   "cell_type": "code",
   "execution_count": 135,
   "metadata": {},
   "outputs": [
    {
     "data": {
      "text/html": [
       "<div>\n",
       "<style scoped>\n",
       "    .dataframe tbody tr th:only-of-type {\n",
       "        vertical-align: middle;\n",
       "    }\n",
       "\n",
       "    .dataframe tbody tr th {\n",
       "        vertical-align: top;\n",
       "    }\n",
       "\n",
       "    .dataframe thead th {\n",
       "        text-align: right;\n",
       "    }\n",
       "</style>\n",
       "<table border=\"1\" class=\"dataframe\">\n",
       "  <thead>\n",
       "    <tr style=\"text-align: right;\">\n",
       "      <th></th>\n",
       "      <th>Variables</th>\n",
       "      <th>coefficients</th>\n",
       "      <th>p_value</th>\n",
       "    </tr>\n",
       "  </thead>\n",
       "  <tbody>\n",
       "    <tr>\n",
       "      <th>13</th>\n",
       "      <td>FuelType_Electric</td>\n",
       "      <td>9.02</td>\n",
       "      <td>0.02</td>\n",
       "    </tr>\n",
       "    <tr>\n",
       "      <th>17</th>\n",
       "      <td>OwnerType_Fourth +ACY- Above</td>\n",
       "      <td>4.70</td>\n",
       "      <td>0.03</td>\n",
       "    </tr>\n",
       "    <tr>\n",
       "      <th>5</th>\n",
       "      <td>Location_Coimbatore</td>\n",
       "      <td>2.35</td>\n",
       "      <td>0.00</td>\n",
       "    </tr>\n",
       "    <tr>\n",
       "      <th>3</th>\n",
       "      <td>Location_Bangalore</td>\n",
       "      <td>1.96</td>\n",
       "      <td>0.00</td>\n",
       "    </tr>\n",
       "    <tr>\n",
       "      <th>7</th>\n",
       "      <td>Location_Hyderabad</td>\n",
       "      <td>1.92</td>\n",
       "      <td>0.00</td>\n",
       "    </tr>\n",
       "    <tr>\n",
       "      <th>19</th>\n",
       "      <td>OwnerType_Third</td>\n",
       "      <td>1.66</td>\n",
       "      <td>0.01</td>\n",
       "    </tr>\n",
       "    <tr>\n",
       "      <th>14</th>\n",
       "      <td>FuelType_LPG</td>\n",
       "      <td>1.50</td>\n",
       "      <td>0.29</td>\n",
       "    </tr>\n",
       "    <tr>\n",
       "      <th>4</th>\n",
       "      <td>Location_Chennai</td>\n",
       "      <td>1.05</td>\n",
       "      <td>0.01</td>\n",
       "    </tr>\n",
       "    <tr>\n",
       "      <th>8</th>\n",
       "      <td>Location_Jaipur</td>\n",
       "      <td>0.65</td>\n",
       "      <td>0.08</td>\n",
       "    </tr>\n",
       "    <tr>\n",
       "      <th>12</th>\n",
       "      <td>Location_Pune</td>\n",
       "      <td>0.21</td>\n",
       "      <td>0.31</td>\n",
       "    </tr>\n",
       "    <tr>\n",
       "      <th>2</th>\n",
       "      <td>powerBhp</td>\n",
       "      <td>0.14</td>\n",
       "      <td>0.00</td>\n",
       "    </tr>\n",
       "    <tr>\n",
       "      <th>1</th>\n",
       "      <td>Odometer</td>\n",
       "      <td>0.00</td>\n",
       "      <td>0.04</td>\n",
       "    </tr>\n",
       "    <tr>\n",
       "      <th>9</th>\n",
       "      <td>Location_Kochi</td>\n",
       "      <td>-0.06</td>\n",
       "      <td>0.44</td>\n",
       "    </tr>\n",
       "    <tr>\n",
       "      <th>6</th>\n",
       "      <td>Location_Delhi</td>\n",
       "      <td>-0.12</td>\n",
       "      <td>0.38</td>\n",
       "    </tr>\n",
       "    <tr>\n",
       "      <th>18</th>\n",
       "      <td>OwnerType_Second</td>\n",
       "      <td>-0.53</td>\n",
       "      <td>0.02</td>\n",
       "    </tr>\n",
       "    <tr>\n",
       "      <th>11</th>\n",
       "      <td>Location_Mumbai</td>\n",
       "      <td>-0.60</td>\n",
       "      <td>0.06</td>\n",
       "    </tr>\n",
       "    <tr>\n",
       "      <th>0</th>\n",
       "      <td>Age</td>\n",
       "      <td>-0.93</td>\n",
       "      <td>0.00</td>\n",
       "    </tr>\n",
       "    <tr>\n",
       "      <th>10</th>\n",
       "      <td>Location_Kolkata</td>\n",
       "      <td>-0.97</td>\n",
       "      <td>0.01</td>\n",
       "    </tr>\n",
       "    <tr>\n",
       "      <th>15</th>\n",
       "      <td>FuelType_Petrol</td>\n",
       "      <td>-1.31</td>\n",
       "      <td>0.00</td>\n",
       "    </tr>\n",
       "    <tr>\n",
       "      <th>16</th>\n",
       "      <td>Transmission_Manual</td>\n",
       "      <td>-2.68</td>\n",
       "      <td>0.00</td>\n",
       "    </tr>\n",
       "  </tbody>\n",
       "</table>\n",
       "</div>"
      ],
      "text/plain": [
       "                       Variables  coefficients  p_value\n",
       "13             FuelType_Electric          9.02     0.02\n",
       "17  OwnerType_Fourth +ACY- Above          4.70     0.03\n",
       "5            Location_Coimbatore          2.35     0.00\n",
       "3             Location_Bangalore          1.96     0.00\n",
       "7             Location_Hyderabad          1.92     0.00\n",
       "19               OwnerType_Third          1.66     0.01\n",
       "14                  FuelType_LPG          1.50     0.29\n",
       "4               Location_Chennai          1.05     0.01\n",
       "8                Location_Jaipur          0.65     0.08\n",
       "12                 Location_Pune          0.21     0.31\n",
       "2                       powerBhp          0.14     0.00\n",
       "1                       Odometer          0.00     0.04\n",
       "9                 Location_Kochi         -0.06     0.44\n",
       "6                 Location_Delhi         -0.12     0.38\n",
       "18              OwnerType_Second         -0.53     0.02\n",
       "11               Location_Mumbai         -0.60     0.06\n",
       "0                            Age         -0.93     0.00\n",
       "10              Location_Kolkata         -0.97     0.01\n",
       "15               FuelType_Petrol         -1.31     0.00\n",
       "16           Transmission_Manual         -2.68     0.00"
      ]
     },
     "execution_count": 135,
     "metadata": {},
     "output_type": "execute_result"
    }
   ],
   "source": [
    "resultsDF['p_value'] = pd.Series(np.round(ReturnPValue(new_model,xtrain,ytrain),2))\n",
    "resultsDF.sort_values(by='coefficients',ascending=False)"
   ]
  },
  {
   "cell_type": "code",
   "execution_count": 136,
   "metadata": {},
   "outputs": [
    {
     "name": "stdout",
     "output_type": "stream",
     "text": [
      "0.6987363872507527 0.7000714797069869\n"
     ]
    }
   ],
   "source": [
    "reg.adjR2, reg.R2 = AdjustedRSquare(new_model,xtrain,ytrain)\n",
    "print (reg.adjR2, reg.R2)\n"
   ]
  },
  {
   "cell_type": "code",
   "execution_count": 137,
   "metadata": {},
   "outputs": [],
   "source": [
    "def ErrorMetric(model,X,Y):\n",
    "    Yhat = model.predict(X)\n",
    "    MAPE = np.mean(abs(Y-Yhat)/Y)*100\n",
    "    MSSE = np.mean(np.square(Y-Yhat))\n",
    "    Error = sns.distplot(Y-Yhat)\n",
    "    return MAPE, MSSE, Error"
   ]
  },
  {
   "cell_type": "code",
   "execution_count": 138,
   "metadata": {},
   "outputs": [
    {
     "data": {
      "text/plain": [
       "(74.52047160093976, 37.417570616183106, <AxesSubplot:xlabel='Price'>)"
      ]
     },
     "execution_count": 138,
     "metadata": {},
     "output_type": "execute_result"
    },
    {
     "data": {
      "image/png": "[encoded data removed]",
      "text/plain": [
       "<Figure size 432x288 with 1 Axes>"
      ]
     },
     "metadata": {
      "needs_background": "light"
     },
     "output_type": "display_data"
    }
   ],
   "source": [
    "ErrorMetric(new_model,xtrain,ytrain)"
   ]
  },
  {
   "cell_type": "code",
   "execution_count": 139,
   "metadata": {},
   "outputs": [
    {
     "data": {
      "text/plain": [
       "(84.9500508446753, 39.11742237999155, <AxesSubplot:xlabel='Price'>)"
      ]
     },
     "execution_count": 139,
     "metadata": {},
     "output_type": "execute_result"
    },
    {
     "data": {
      "image/png": "[encoded data removed]",
      "text/plain": [
       "<Figure size 432x288 with 1 Axes>"
      ]
     },
     "metadata": {
      "needs_background": "light"
     },
     "output_type": "display_data"
    }
   ],
   "source": [
    "ErrorMetric(new_model,xtest,ytest)"
   ]
  },
  {
   "cell_type": "code",
   "execution_count": 140,
   "metadata": {},
   "outputs": [],
   "source": [
    "# error from the model seems to be normally distributed"
   ]
  },
  {
   "cell_type": "code",
   "execution_count": 141,
   "metadata": {},
   "outputs": [
    {
     "data": {
      "text/plain": [
       "<AxesSubplot:xlabel='Price'>"
      ]
     },
     "execution_count": 141,
     "metadata": {},
     "output_type": "execute_result"
    },
    {
     "data": {
      "image/png": "[encoded data removed]",
      "text/plain": [
       "<Figure size 432x288 with 1 Axes>"
      ]
     },
     "metadata": {
      "needs_background": "light"
     },
     "output_type": "display_data"
    }
   ],
   "source": [
    "Yhat = new_model.predict(xtest)\n",
    "Y = ytest\n",
    "sns.scatterplot(Y,Yhat)"
   ]
  },
  {
   "cell_type": "code",
   "execution_count": 142,
   "metadata": {},
   "outputs": [
    {
     "data": {
      "text/plain": [
       "array([[1.        , 0.83164586],\n",
       "       [0.83164586, 1.        ]])"
      ]
     },
     "execution_count": 142,
     "metadata": {},
     "output_type": "execute_result"
    }
   ],
   "source": [
    "np.corrcoef(Y,Yhat) # a good correlation between actual and predicted using test set"
   ]
  },
  {
   "cell_type": "code",
   "execution_count": 143,
   "metadata": {},
   "outputs": [
    {
     "data": {
      "text/html": [
       "<div>\n",
       "<style scoped>\n",
       "    .dataframe tbody tr th:only-of-type {\n",
       "        vertical-align: middle;\n",
       "    }\n",
       "\n",
       "    .dataframe tbody tr th {\n",
       "        vertical-align: top;\n",
       "    }\n",
       "\n",
       "    .dataframe thead th {\n",
       "        text-align: right;\n",
       "    }\n",
       "</style>\n",
       "<table border=\"1\" class=\"dataframe\">\n",
       "  <thead>\n",
       "    <tr style=\"text-align: right;\">\n",
       "      <th></th>\n",
       "      <th>Variables</th>\n",
       "      <th>coefficients</th>\n",
       "      <th>p_value</th>\n",
       "    </tr>\n",
       "  </thead>\n",
       "  <tbody>\n",
       "    <tr>\n",
       "      <th>9</th>\n",
       "      <td>Location_Kochi</td>\n",
       "      <td>-0.06</td>\n",
       "      <td>0.44</td>\n",
       "    </tr>\n",
       "    <tr>\n",
       "      <th>6</th>\n",
       "      <td>Location_Delhi</td>\n",
       "      <td>-0.12</td>\n",
       "      <td>0.38</td>\n",
       "    </tr>\n",
       "    <tr>\n",
       "      <th>12</th>\n",
       "      <td>Location_Pune</td>\n",
       "      <td>0.21</td>\n",
       "      <td>0.31</td>\n",
       "    </tr>\n",
       "    <tr>\n",
       "      <th>14</th>\n",
       "      <td>FuelType_LPG</td>\n",
       "      <td>1.50</td>\n",
       "      <td>0.29</td>\n",
       "    </tr>\n",
       "    <tr>\n",
       "      <th>8</th>\n",
       "      <td>Location_Jaipur</td>\n",
       "      <td>0.65</td>\n",
       "      <td>0.08</td>\n",
       "    </tr>\n",
       "    <tr>\n",
       "      <th>11</th>\n",
       "      <td>Location_Mumbai</td>\n",
       "      <td>-0.60</td>\n",
       "      <td>0.06</td>\n",
       "    </tr>\n",
       "    <tr>\n",
       "      <th>1</th>\n",
       "      <td>Odometer</td>\n",
       "      <td>0.00</td>\n",
       "      <td>0.04</td>\n",
       "    </tr>\n",
       "    <tr>\n",
       "      <th>17</th>\n",
       "      <td>OwnerType_Fourth +ACY- Above</td>\n",
       "      <td>4.70</td>\n",
       "      <td>0.03</td>\n",
       "    </tr>\n",
       "    <tr>\n",
       "      <th>18</th>\n",
       "      <td>OwnerType_Second</td>\n",
       "      <td>-0.53</td>\n",
       "      <td>0.02</td>\n",
       "    </tr>\n",
       "    <tr>\n",
       "      <th>13</th>\n",
       "      <td>FuelType_Electric</td>\n",
       "      <td>9.02</td>\n",
       "      <td>0.02</td>\n",
       "    </tr>\n",
       "    <tr>\n",
       "      <th>10</th>\n",
       "      <td>Location_Kolkata</td>\n",
       "      <td>-0.97</td>\n",
       "      <td>0.01</td>\n",
       "    </tr>\n",
       "    <tr>\n",
       "      <th>19</th>\n",
       "      <td>OwnerType_Third</td>\n",
       "      <td>1.66</td>\n",
       "      <td>0.01</td>\n",
       "    </tr>\n",
       "    <tr>\n",
       "      <th>4</th>\n",
       "      <td>Location_Chennai</td>\n",
       "      <td>1.05</td>\n",
       "      <td>0.01</td>\n",
       "    </tr>\n",
       "    <tr>\n",
       "      <th>7</th>\n",
       "      <td>Location_Hyderabad</td>\n",
       "      <td>1.92</td>\n",
       "      <td>0.00</td>\n",
       "    </tr>\n",
       "    <tr>\n",
       "      <th>5</th>\n",
       "      <td>Location_Coimbatore</td>\n",
       "      <td>2.35</td>\n",
       "      <td>0.00</td>\n",
       "    </tr>\n",
       "    <tr>\n",
       "      <th>15</th>\n",
       "      <td>FuelType_Petrol</td>\n",
       "      <td>-1.31</td>\n",
       "      <td>0.00</td>\n",
       "    </tr>\n",
       "    <tr>\n",
       "      <th>16</th>\n",
       "      <td>Transmission_Manual</td>\n",
       "      <td>-2.68</td>\n",
       "      <td>0.00</td>\n",
       "    </tr>\n",
       "    <tr>\n",
       "      <th>3</th>\n",
       "      <td>Location_Bangalore</td>\n",
       "      <td>1.96</td>\n",
       "      <td>0.00</td>\n",
       "    </tr>\n",
       "    <tr>\n",
       "      <th>2</th>\n",
       "      <td>powerBhp</td>\n",
       "      <td>0.14</td>\n",
       "      <td>0.00</td>\n",
       "    </tr>\n",
       "    <tr>\n",
       "      <th>0</th>\n",
       "      <td>Age</td>\n",
       "      <td>-0.93</td>\n",
       "      <td>0.00</td>\n",
       "    </tr>\n",
       "  </tbody>\n",
       "</table>\n",
       "</div>"
      ],
      "text/plain": [
       "                       Variables  coefficients  p_value\n",
       "9                 Location_Kochi         -0.06     0.44\n",
       "6                 Location_Delhi         -0.12     0.38\n",
       "12                 Location_Pune          0.21     0.31\n",
       "14                  FuelType_LPG          1.50     0.29\n",
       "8                Location_Jaipur          0.65     0.08\n",
       "11               Location_Mumbai         -0.60     0.06\n",
       "1                       Odometer          0.00     0.04\n",
       "17  OwnerType_Fourth +ACY- Above          4.70     0.03\n",
       "18              OwnerType_Second         -0.53     0.02\n",
       "13             FuelType_Electric          9.02     0.02\n",
       "10              Location_Kolkata         -0.97     0.01\n",
       "19               OwnerType_Third          1.66     0.01\n",
       "4               Location_Chennai          1.05     0.01\n",
       "7             Location_Hyderabad          1.92     0.00\n",
       "5            Location_Coimbatore          2.35     0.00\n",
       "15               FuelType_Petrol         -1.31     0.00\n",
       "16           Transmission_Manual         -2.68     0.00\n",
       "3             Location_Bangalore          1.96     0.00\n",
       "2                       powerBhp          0.14     0.00\n",
       "0                            Age         -0.93     0.00"
      ]
     },
     "execution_count": 143,
     "metadata": {},
     "output_type": "execute_result"
    }
   ],
   "source": [
    "resultsDF.sort_values(by='p_value',ascending=False)"
   ]
  },
  {
   "cell_type": "code",
   "execution_count": 144,
   "metadata": {},
   "outputs": [
    {
     "name": "stdout",
     "output_type": "stream",
     "text": [
      "0.7000706125623979\n",
      "0.6903132829996341\n"
     ]
    }
   ],
   "source": [
    "y = clean_df['Price']\n",
    "x = clean_df.drop(['Price','engineCC','FuelType_Diesel','mileage','Location_Kochi'],axis=1)\n",
    "xtrain,xtest,ytrain,ytest = train_test_split(x,y,test_size=0.25,random_state=1234)\n",
    "\n",
    "xtrain.shape,ytrain.shape,xtest.shape,ytest.shape\n",
    "\n",
    "new_model = LinearRegression()\n",
    "\n",
    "new_model.fit(xtrain,ytrain)\n",
    "\n",
    "print(new_model.score(xtrain,ytrain))\n",
    "\n",
    "print(new_model.score(xtest,ytest))"
   ]
  },
  {
   "cell_type": "code",
   "execution_count": 145,
   "metadata": {},
   "outputs": [
    {
     "data": {
      "text/html": [
       "<div>\n",
       "<style scoped>\n",
       "    .dataframe tbody tr th:only-of-type {\n",
       "        vertical-align: middle;\n",
       "    }\n",
       "\n",
       "    .dataframe tbody tr th {\n",
       "        vertical-align: top;\n",
       "    }\n",
       "\n",
       "    .dataframe thead th {\n",
       "        text-align: right;\n",
       "    }\n",
       "</style>\n",
       "<table border=\"1\" class=\"dataframe\">\n",
       "  <thead>\n",
       "    <tr style=\"text-align: right;\">\n",
       "      <th></th>\n",
       "      <th>Variables</th>\n",
       "      <th>coefficients</th>\n",
       "      <th>p_value</th>\n",
       "    </tr>\n",
       "  </thead>\n",
       "  <tbody>\n",
       "    <tr>\n",
       "      <th>6</th>\n",
       "      <td>Location_Delhi</td>\n",
       "      <td>-0.08</td>\n",
       "      <td>0.41</td>\n",
       "    </tr>\n",
       "    <tr>\n",
       "      <th>13</th>\n",
       "      <td>FuelType_LPG</td>\n",
       "      <td>1.50</td>\n",
       "      <td>0.29</td>\n",
       "    </tr>\n",
       "    <tr>\n",
       "      <th>11</th>\n",
       "      <td>Location_Pune</td>\n",
       "      <td>0.26</td>\n",
       "      <td>0.23</td>\n",
       "    </tr>\n",
       "    <tr>\n",
       "      <th>8</th>\n",
       "      <td>Location_Jaipur</td>\n",
       "      <td>0.70</td>\n",
       "      <td>0.04</td>\n",
       "    </tr>\n",
       "    <tr>\n",
       "      <th>1</th>\n",
       "      <td>Odometer</td>\n",
       "      <td>0.00</td>\n",
       "      <td>0.04</td>\n",
       "    </tr>\n",
       "    <tr>\n",
       "      <th>10</th>\n",
       "      <td>Location_Mumbai</td>\n",
       "      <td>-0.55</td>\n",
       "      <td>0.04</td>\n",
       "    </tr>\n",
       "    <tr>\n",
       "      <th>16</th>\n",
       "      <td>OwnerType_Fourth +ACY- Above</td>\n",
       "      <td>4.70</td>\n",
       "      <td>0.03</td>\n",
       "    </tr>\n",
       "    <tr>\n",
       "      <th>12</th>\n",
       "      <td>FuelType_Electric</td>\n",
       "      <td>9.02</td>\n",
       "      <td>0.02</td>\n",
       "    </tr>\n",
       "    <tr>\n",
       "      <th>17</th>\n",
       "      <td>OwnerType_Second</td>\n",
       "      <td>-0.53</td>\n",
       "      <td>0.02</td>\n",
       "    </tr>\n",
       "    <tr>\n",
       "      <th>18</th>\n",
       "      <td>OwnerType_Third</td>\n",
       "      <td>1.66</td>\n",
       "      <td>0.01</td>\n",
       "    </tr>\n",
       "    <tr>\n",
       "      <th>15</th>\n",
       "      <td>Transmission_Manual</td>\n",
       "      <td>-2.68</td>\n",
       "      <td>0.00</td>\n",
       "    </tr>\n",
       "    <tr>\n",
       "      <th>14</th>\n",
       "      <td>FuelType_Petrol</td>\n",
       "      <td>-1.31</td>\n",
       "      <td>0.00</td>\n",
       "    </tr>\n",
       "    <tr>\n",
       "      <th>0</th>\n",
       "      <td>Age</td>\n",
       "      <td>-0.93</td>\n",
       "      <td>0.00</td>\n",
       "    </tr>\n",
       "    <tr>\n",
       "      <th>7</th>\n",
       "      <td>Location_Hyderabad</td>\n",
       "      <td>1.97</td>\n",
       "      <td>0.00</td>\n",
       "    </tr>\n",
       "    <tr>\n",
       "      <th>5</th>\n",
       "      <td>Location_Coimbatore</td>\n",
       "      <td>2.39</td>\n",
       "      <td>0.00</td>\n",
       "    </tr>\n",
       "    <tr>\n",
       "      <th>4</th>\n",
       "      <td>Location_Chennai</td>\n",
       "      <td>1.10</td>\n",
       "      <td>0.00</td>\n",
       "    </tr>\n",
       "    <tr>\n",
       "      <th>3</th>\n",
       "      <td>Location_Bangalore</td>\n",
       "      <td>2.01</td>\n",
       "      <td>0.00</td>\n",
       "    </tr>\n",
       "    <tr>\n",
       "      <th>2</th>\n",
       "      <td>powerBhp</td>\n",
       "      <td>0.14</td>\n",
       "      <td>0.00</td>\n",
       "    </tr>\n",
       "    <tr>\n",
       "      <th>9</th>\n",
       "      <td>Location_Kolkata</td>\n",
       "      <td>-0.93</td>\n",
       "      <td>0.00</td>\n",
       "    </tr>\n",
       "  </tbody>\n",
       "</table>\n",
       "</div>"
      ],
      "text/plain": [
       "                       Variables  coefficients  p_value\n",
       "6                 Location_Delhi         -0.08     0.41\n",
       "13                  FuelType_LPG          1.50     0.29\n",
       "11                 Location_Pune          0.26     0.23\n",
       "8                Location_Jaipur          0.70     0.04\n",
       "1                       Odometer          0.00     0.04\n",
       "10               Location_Mumbai         -0.55     0.04\n",
       "16  OwnerType_Fourth +ACY- Above          4.70     0.03\n",
       "12             FuelType_Electric          9.02     0.02\n",
       "17              OwnerType_Second         -0.53     0.02\n",
       "18               OwnerType_Third          1.66     0.01\n",
       "15           Transmission_Manual         -2.68     0.00\n",
       "14               FuelType_Petrol         -1.31     0.00\n",
       "0                            Age         -0.93     0.00\n",
       "7             Location_Hyderabad          1.97     0.00\n",
       "5            Location_Coimbatore          2.39     0.00\n",
       "4               Location_Chennai          1.10     0.00\n",
       "3             Location_Bangalore          2.01     0.00\n",
       "2                       powerBhp          0.14     0.00\n",
       "9               Location_Kolkata         -0.93     0.00"
      ]
     },
     "execution_count": 145,
     "metadata": {},
     "output_type": "execute_result"
    }
   ],
   "source": [
    "resultsDF = pd.DataFrame()\n",
    "resultsDF['Variables'] = pd.Series(xtrain.columns)\n",
    "resultsDF['coefficients'] = pd.Series(np.round(new_model.coef_,2))\n",
    "resultsDF['p_value'] = pd.Series(np.round(ReturnPValue(new_model,xtrain,ytrain),2))\n",
    "resultsDF.sort_values(by='p_value',ascending=False)"
   ]
  },
  {
   "cell_type": "code",
   "execution_count": 146,
   "metadata": {},
   "outputs": [
    {
     "name": "stdout",
     "output_type": "stream",
     "text": [
      "0.7000680439037767\n",
      "0.6902474066716742\n"
     ]
    }
   ],
   "source": [
    "y = clean_df['Price']\n",
    "x = clean_df.drop(['Price','engineCC','FuelType_Diesel','mileage','Location_Kochi','Location_Delhi'],axis=1)\n",
    "xtrain,xtest,ytrain,ytest = train_test_split(x,y,test_size=0.25,random_state=1234)\n",
    "\n",
    "xtrain.shape,ytrain.shape,xtest.shape,ytest.shape\n",
    "\n",
    "new_model = LinearRegression()\n",
    "\n",
    "new_model.fit(xtrain,ytrain)\n",
    "\n",
    "print(new_model.score(xtrain,ytrain))\n",
    "\n",
    "print(new_model.score(xtest,ytest))"
   ]
  },
  {
   "cell_type": "code",
   "execution_count": 147,
   "metadata": {},
   "outputs": [
    {
     "data": {
      "text/html": [
       "<div>\n",
       "<style scoped>\n",
       "    .dataframe tbody tr th:only-of-type {\n",
       "        vertical-align: middle;\n",
       "    }\n",
       "\n",
       "    .dataframe tbody tr th {\n",
       "        vertical-align: top;\n",
       "    }\n",
       "\n",
       "    .dataframe thead th {\n",
       "        text-align: right;\n",
       "    }\n",
       "</style>\n",
       "<table border=\"1\" class=\"dataframe\">\n",
       "  <thead>\n",
       "    <tr style=\"text-align: right;\">\n",
       "      <th></th>\n",
       "      <th>Variables</th>\n",
       "      <th>coefficients</th>\n",
       "      <th>p_value</th>\n",
       "    </tr>\n",
       "  </thead>\n",
       "  <tbody>\n",
       "    <tr>\n",
       "      <th>12</th>\n",
       "      <td>FuelType_LPG</td>\n",
       "      <td>1.50</td>\n",
       "      <td>0.29</td>\n",
       "    </tr>\n",
       "    <tr>\n",
       "      <th>10</th>\n",
       "      <td>Location_Pune</td>\n",
       "      <td>0.29</td>\n",
       "      <td>0.20</td>\n",
       "    </tr>\n",
       "    <tr>\n",
       "      <th>9</th>\n",
       "      <td>Location_Mumbai</td>\n",
       "      <td>-0.52</td>\n",
       "      <td>0.04</td>\n",
       "    </tr>\n",
       "    <tr>\n",
       "      <th>1</th>\n",
       "      <td>Odometer</td>\n",
       "      <td>0.00</td>\n",
       "      <td>0.04</td>\n",
       "    </tr>\n",
       "    <tr>\n",
       "      <th>15</th>\n",
       "      <td>OwnerType_Fourth +ACY- Above</td>\n",
       "      <td>4.70</td>\n",
       "      <td>0.03</td>\n",
       "    </tr>\n",
       "    <tr>\n",
       "      <th>7</th>\n",
       "      <td>Location_Jaipur</td>\n",
       "      <td>0.73</td>\n",
       "      <td>0.03</td>\n",
       "    </tr>\n",
       "    <tr>\n",
       "      <th>16</th>\n",
       "      <td>OwnerType_Second</td>\n",
       "      <td>-0.53</td>\n",
       "      <td>0.02</td>\n",
       "    </tr>\n",
       "    <tr>\n",
       "      <th>11</th>\n",
       "      <td>FuelType_Electric</td>\n",
       "      <td>9.02</td>\n",
       "      <td>0.02</td>\n",
       "    </tr>\n",
       "    <tr>\n",
       "      <th>17</th>\n",
       "      <td>OwnerType_Third</td>\n",
       "      <td>1.66</td>\n",
       "      <td>0.01</td>\n",
       "    </tr>\n",
       "    <tr>\n",
       "      <th>8</th>\n",
       "      <td>Location_Kolkata</td>\n",
       "      <td>-0.89</td>\n",
       "      <td>0.00</td>\n",
       "    </tr>\n",
       "    <tr>\n",
       "      <th>6</th>\n",
       "      <td>Location_Hyderabad</td>\n",
       "      <td>2.00</td>\n",
       "      <td>0.00</td>\n",
       "    </tr>\n",
       "    <tr>\n",
       "      <th>5</th>\n",
       "      <td>Location_Coimbatore</td>\n",
       "      <td>2.42</td>\n",
       "      <td>0.00</td>\n",
       "    </tr>\n",
       "    <tr>\n",
       "      <th>4</th>\n",
       "      <td>Location_Chennai</td>\n",
       "      <td>1.13</td>\n",
       "      <td>0.00</td>\n",
       "    </tr>\n",
       "    <tr>\n",
       "      <th>13</th>\n",
       "      <td>FuelType_Petrol</td>\n",
       "      <td>-1.31</td>\n",
       "      <td>0.00</td>\n",
       "    </tr>\n",
       "    <tr>\n",
       "      <th>14</th>\n",
       "      <td>Transmission_Manual</td>\n",
       "      <td>-2.68</td>\n",
       "      <td>0.00</td>\n",
       "    </tr>\n",
       "    <tr>\n",
       "      <th>3</th>\n",
       "      <td>Location_Bangalore</td>\n",
       "      <td>2.04</td>\n",
       "      <td>0.00</td>\n",
       "    </tr>\n",
       "    <tr>\n",
       "      <th>2</th>\n",
       "      <td>powerBhp</td>\n",
       "      <td>0.14</td>\n",
       "      <td>0.00</td>\n",
       "    </tr>\n",
       "    <tr>\n",
       "      <th>0</th>\n",
       "      <td>Age</td>\n",
       "      <td>-0.93</td>\n",
       "      <td>0.00</td>\n",
       "    </tr>\n",
       "  </tbody>\n",
       "</table>\n",
       "</div>"
      ],
      "text/plain": [
       "                       Variables  coefficients  p_value\n",
       "12                  FuelType_LPG          1.50     0.29\n",
       "10                 Location_Pune          0.29     0.20\n",
       "9                Location_Mumbai         -0.52     0.04\n",
       "1                       Odometer          0.00     0.04\n",
       "15  OwnerType_Fourth +ACY- Above          4.70     0.03\n",
       "7                Location_Jaipur          0.73     0.03\n",
       "16              OwnerType_Second         -0.53     0.02\n",
       "11             FuelType_Electric          9.02     0.02\n",
       "17               OwnerType_Third          1.66     0.01\n",
       "8               Location_Kolkata         -0.89     0.00\n",
       "6             Location_Hyderabad          2.00     0.00\n",
       "5            Location_Coimbatore          2.42     0.00\n",
       "4               Location_Chennai          1.13     0.00\n",
       "13               FuelType_Petrol         -1.31     0.00\n",
       "14           Transmission_Manual         -2.68     0.00\n",
       "3             Location_Bangalore          2.04     0.00\n",
       "2                       powerBhp          0.14     0.00\n",
       "0                            Age         -0.93     0.00"
      ]
     },
     "execution_count": 147,
     "metadata": {},
     "output_type": "execute_result"
    }
   ],
   "source": [
    "resultsDF = pd.DataFrame()\n",
    "resultsDF['Variables'] = pd.Series(xtrain.columns)\n",
    "resultsDF['coefficients'] = pd.Series(np.round(new_model.coef_,2))\n",
    "resultsDF['p_value'] = pd.Series(np.round(ReturnPValue(new_model,xtrain,ytrain),2))\n",
    "resultsDF.sort_values(by='p_value',ascending=False)"
   ]
  },
  {
   "cell_type": "code",
   "execution_count": 148,
   "metadata": {},
   "outputs": [
    {
     "name": "stdout",
     "output_type": "stream",
     "text": [
      "0.7000482628071347\n",
      "0.6900697617882772\n"
     ]
    }
   ],
   "source": [
    "y = clean_df['Price']\n",
    "x = clean_df.drop(['Price','engineCC','FuelType_Diesel','mileage','Location_Kochi','Location_Delhi',\n",
    "                  'FuelType_LPG'],axis=1)\n",
    "xtrain,xtest,ytrain,ytest = train_test_split(x,y,test_size=0.25,random_state=1234)\n",
    "\n",
    "xtrain.shape,ytrain.shape,xtest.shape,ytest.shape\n",
    "\n",
    "new_model = LinearRegression()\n",
    "\n",
    "new_model.fit(xtrain,ytrain)\n",
    "\n",
    "print(new_model.score(xtrain,ytrain))\n",
    "\n",
    "print(new_model.score(xtest,ytest))"
   ]
  },
  {
   "cell_type": "code",
   "execution_count": 149,
   "metadata": {},
   "outputs": [
    {
     "data": {
      "text/html": [
       "<div>\n",
       "<style scoped>\n",
       "    .dataframe tbody tr th:only-of-type {\n",
       "        vertical-align: middle;\n",
       "    }\n",
       "\n",
       "    .dataframe tbody tr th {\n",
       "        vertical-align: top;\n",
       "    }\n",
       "\n",
       "    .dataframe thead th {\n",
       "        text-align: right;\n",
       "    }\n",
       "</style>\n",
       "<table border=\"1\" class=\"dataframe\">\n",
       "  <thead>\n",
       "    <tr style=\"text-align: right;\">\n",
       "      <th></th>\n",
       "      <th>Variables</th>\n",
       "      <th>coefficients</th>\n",
       "      <th>p_value</th>\n",
       "    </tr>\n",
       "  </thead>\n",
       "  <tbody>\n",
       "    <tr>\n",
       "      <th>10</th>\n",
       "      <td>Location_Pune</td>\n",
       "      <td>0.29</td>\n",
       "      <td>0.20</td>\n",
       "    </tr>\n",
       "    <tr>\n",
       "      <th>1</th>\n",
       "      <td>Odometer</td>\n",
       "      <td>0.00</td>\n",
       "      <td>0.04</td>\n",
       "    </tr>\n",
       "    <tr>\n",
       "      <th>9</th>\n",
       "      <td>Location_Mumbai</td>\n",
       "      <td>-0.52</td>\n",
       "      <td>0.04</td>\n",
       "    </tr>\n",
       "    <tr>\n",
       "      <th>14</th>\n",
       "      <td>OwnerType_Fourth +ACY- Above</td>\n",
       "      <td>4.70</td>\n",
       "      <td>0.03</td>\n",
       "    </tr>\n",
       "    <tr>\n",
       "      <th>7</th>\n",
       "      <td>Location_Jaipur</td>\n",
       "      <td>0.74</td>\n",
       "      <td>0.03</td>\n",
       "    </tr>\n",
       "    <tr>\n",
       "      <th>15</th>\n",
       "      <td>OwnerType_Second</td>\n",
       "      <td>-0.53</td>\n",
       "      <td>0.02</td>\n",
       "    </tr>\n",
       "    <tr>\n",
       "      <th>11</th>\n",
       "      <td>FuelType_Electric</td>\n",
       "      <td>9.02</td>\n",
       "      <td>0.02</td>\n",
       "    </tr>\n",
       "    <tr>\n",
       "      <th>16</th>\n",
       "      <td>OwnerType_Third</td>\n",
       "      <td>1.66</td>\n",
       "      <td>0.01</td>\n",
       "    </tr>\n",
       "    <tr>\n",
       "      <th>13</th>\n",
       "      <td>Transmission_Manual</td>\n",
       "      <td>-2.68</td>\n",
       "      <td>0.00</td>\n",
       "    </tr>\n",
       "    <tr>\n",
       "      <th>12</th>\n",
       "      <td>FuelType_Petrol</td>\n",
       "      <td>-1.31</td>\n",
       "      <td>0.00</td>\n",
       "    </tr>\n",
       "    <tr>\n",
       "      <th>0</th>\n",
       "      <td>Age</td>\n",
       "      <td>-0.93</td>\n",
       "      <td>0.00</td>\n",
       "    </tr>\n",
       "    <tr>\n",
       "      <th>6</th>\n",
       "      <td>Location_Hyderabad</td>\n",
       "      <td>2.01</td>\n",
       "      <td>0.00</td>\n",
       "    </tr>\n",
       "    <tr>\n",
       "      <th>5</th>\n",
       "      <td>Location_Coimbatore</td>\n",
       "      <td>2.42</td>\n",
       "      <td>0.00</td>\n",
       "    </tr>\n",
       "    <tr>\n",
       "      <th>4</th>\n",
       "      <td>Location_Chennai</td>\n",
       "      <td>1.13</td>\n",
       "      <td>0.00</td>\n",
       "    </tr>\n",
       "    <tr>\n",
       "      <th>3</th>\n",
       "      <td>Location_Bangalore</td>\n",
       "      <td>2.04</td>\n",
       "      <td>0.00</td>\n",
       "    </tr>\n",
       "    <tr>\n",
       "      <th>2</th>\n",
       "      <td>powerBhp</td>\n",
       "      <td>0.14</td>\n",
       "      <td>0.00</td>\n",
       "    </tr>\n",
       "    <tr>\n",
       "      <th>8</th>\n",
       "      <td>Location_Kolkata</td>\n",
       "      <td>-0.90</td>\n",
       "      <td>0.00</td>\n",
       "    </tr>\n",
       "  </tbody>\n",
       "</table>\n",
       "</div>"
      ],
      "text/plain": [
       "                       Variables  coefficients  p_value\n",
       "10                 Location_Pune          0.29     0.20\n",
       "1                       Odometer          0.00     0.04\n",
       "9                Location_Mumbai         -0.52     0.04\n",
       "14  OwnerType_Fourth +ACY- Above          4.70     0.03\n",
       "7                Location_Jaipur          0.74     0.03\n",
       "15              OwnerType_Second         -0.53     0.02\n",
       "11             FuelType_Electric          9.02     0.02\n",
       "16               OwnerType_Third          1.66     0.01\n",
       "13           Transmission_Manual         -2.68     0.00\n",
       "12               FuelType_Petrol         -1.31     0.00\n",
       "0                            Age         -0.93     0.00\n",
       "6             Location_Hyderabad          2.01     0.00\n",
       "5            Location_Coimbatore          2.42     0.00\n",
       "4               Location_Chennai          1.13     0.00\n",
       "3             Location_Bangalore          2.04     0.00\n",
       "2                       powerBhp          0.14     0.00\n",
       "8               Location_Kolkata         -0.90     0.00"
      ]
     },
     "execution_count": 149,
     "metadata": {},
     "output_type": "execute_result"
    }
   ],
   "source": [
    "resultsDF = pd.DataFrame()\n",
    "resultsDF['Variables'] = pd.Series(xtrain.columns)\n",
    "resultsDF['coefficients'] = pd.Series(np.round(new_model.coef_,2))\n",
    "resultsDF['p_value'] = pd.Series(np.round(ReturnPValue(new_model,xtrain,ytrain),2))\n",
    "resultsDF.sort_values(by='p_value',ascending=False)"
   ]
  },
  {
   "cell_type": "code",
   "execution_count": 150,
   "metadata": {},
   "outputs": [
    {
     "name": "stdout",
     "output_type": "stream",
     "text": [
      "0.70000423172522\n",
      "0.6898005338656239\n"
     ]
    }
   ],
   "source": [
    "y = clean_df['Price']\n",
    "x = clean_df.drop(['Price','engineCC','FuelType_Diesel','mileage','Location_Kochi','Location_Delhi',\n",
    "                  'FuelType_LPG','Location_Pune'],axis=1)\n",
    "xtrain,xtest,ytrain,ytest = train_test_split(x,y,test_size=0.25,random_state=1234)\n",
    "\n",
    "xtrain.shape,ytrain.shape,xtest.shape,ytest.shape\n",
    "\n",
    "new_model = LinearRegression()\n",
    "\n",
    "new_model.fit(xtrain,ytrain)\n",
    "\n",
    "print(new_model.score(xtrain,ytrain))\n",
    "\n",
    "print(new_model.score(xtest,ytest))"
   ]
  },
  {
   "cell_type": "code",
   "execution_count": 151,
   "metadata": {},
   "outputs": [
    {
     "data": {
      "text/html": [
       "<div>\n",
       "<style scoped>\n",
       "    .dataframe tbody tr th:only-of-type {\n",
       "        vertical-align: middle;\n",
       "    }\n",
       "\n",
       "    .dataframe tbody tr th {\n",
       "        vertical-align: top;\n",
       "    }\n",
       "\n",
       "    .dataframe thead th {\n",
       "        text-align: right;\n",
       "    }\n",
       "</style>\n",
       "<table border=\"1\" class=\"dataframe\">\n",
       "  <thead>\n",
       "    <tr style=\"text-align: right;\">\n",
       "      <th></th>\n",
       "      <th>Variables</th>\n",
       "      <th>coefficients</th>\n",
       "      <th>p_value</th>\n",
       "    </tr>\n",
       "  </thead>\n",
       "  <tbody>\n",
       "    <tr>\n",
       "      <th>7</th>\n",
       "      <td>Location_Jaipur</td>\n",
       "      <td>0.65</td>\n",
       "      <td>0.05</td>\n",
       "    </tr>\n",
       "    <tr>\n",
       "      <th>1</th>\n",
       "      <td>Odometer</td>\n",
       "      <td>0.00</td>\n",
       "      <td>0.04</td>\n",
       "    </tr>\n",
       "    <tr>\n",
       "      <th>13</th>\n",
       "      <td>OwnerType_Fourth +ACY- Above</td>\n",
       "      <td>4.71</td>\n",
       "      <td>0.03</td>\n",
       "    </tr>\n",
       "    <tr>\n",
       "      <th>14</th>\n",
       "      <td>OwnerType_Second</td>\n",
       "      <td>-0.52</td>\n",
       "      <td>0.03</td>\n",
       "    </tr>\n",
       "    <tr>\n",
       "      <th>9</th>\n",
       "      <td>Location_Mumbai</td>\n",
       "      <td>-0.61</td>\n",
       "      <td>0.02</td>\n",
       "    </tr>\n",
       "    <tr>\n",
       "      <th>10</th>\n",
       "      <td>FuelType_Electric</td>\n",
       "      <td>9.02</td>\n",
       "      <td>0.02</td>\n",
       "    </tr>\n",
       "    <tr>\n",
       "      <th>15</th>\n",
       "      <td>OwnerType_Third</td>\n",
       "      <td>1.70</td>\n",
       "      <td>0.01</td>\n",
       "    </tr>\n",
       "    <tr>\n",
       "      <th>0</th>\n",
       "      <td>Age</td>\n",
       "      <td>-0.92</td>\n",
       "      <td>0.00</td>\n",
       "    </tr>\n",
       "    <tr>\n",
       "      <th>2</th>\n",
       "      <td>powerBhp</td>\n",
       "      <td>0.14</td>\n",
       "      <td>0.00</td>\n",
       "    </tr>\n",
       "    <tr>\n",
       "      <th>3</th>\n",
       "      <td>Location_Bangalore</td>\n",
       "      <td>1.95</td>\n",
       "      <td>0.00</td>\n",
       "    </tr>\n",
       "    <tr>\n",
       "      <th>4</th>\n",
       "      <td>Location_Chennai</td>\n",
       "      <td>1.04</td>\n",
       "      <td>0.00</td>\n",
       "    </tr>\n",
       "    <tr>\n",
       "      <th>5</th>\n",
       "      <td>Location_Coimbatore</td>\n",
       "      <td>2.35</td>\n",
       "      <td>0.00</td>\n",
       "    </tr>\n",
       "    <tr>\n",
       "      <th>6</th>\n",
       "      <td>Location_Hyderabad</td>\n",
       "      <td>1.92</td>\n",
       "      <td>0.00</td>\n",
       "    </tr>\n",
       "    <tr>\n",
       "      <th>8</th>\n",
       "      <td>Location_Kolkata</td>\n",
       "      <td>-0.98</td>\n",
       "      <td>0.00</td>\n",
       "    </tr>\n",
       "    <tr>\n",
       "      <th>11</th>\n",
       "      <td>FuelType_Petrol</td>\n",
       "      <td>-1.31</td>\n",
       "      <td>0.00</td>\n",
       "    </tr>\n",
       "    <tr>\n",
       "      <th>12</th>\n",
       "      <td>Transmission_Manual</td>\n",
       "      <td>-2.69</td>\n",
       "      <td>0.00</td>\n",
       "    </tr>\n",
       "  </tbody>\n",
       "</table>\n",
       "</div>"
      ],
      "text/plain": [
       "                       Variables  coefficients  p_value\n",
       "7                Location_Jaipur          0.65     0.05\n",
       "1                       Odometer          0.00     0.04\n",
       "13  OwnerType_Fourth +ACY- Above          4.71     0.03\n",
       "14              OwnerType_Second         -0.52     0.03\n",
       "9                Location_Mumbai         -0.61     0.02\n",
       "10             FuelType_Electric          9.02     0.02\n",
       "15               OwnerType_Third          1.70     0.01\n",
       "0                            Age         -0.92     0.00\n",
       "2                       powerBhp          0.14     0.00\n",
       "3             Location_Bangalore          1.95     0.00\n",
       "4               Location_Chennai          1.04     0.00\n",
       "5            Location_Coimbatore          2.35     0.00\n",
       "6             Location_Hyderabad          1.92     0.00\n",
       "8               Location_Kolkata         -0.98     0.00\n",
       "11               FuelType_Petrol         -1.31     0.00\n",
       "12           Transmission_Manual         -2.69     0.00"
      ]
     },
     "execution_count": 151,
     "metadata": {},
     "output_type": "execute_result"
    }
   ],
   "source": [
    "resultsDF = pd.DataFrame()\n",
    "resultsDF['Variables'] = pd.Series(xtrain.columns)\n",
    "resultsDF['coefficients'] = pd.Series(np.round(new_model.coef_,2))\n",
    "resultsDF['p_value'] = pd.Series(np.round(ReturnPValue(new_model,xtrain,ytrain),2))\n",
    "resultsDF.sort_values(by='p_value',ascending=False)"
   ]
  },
  {
   "cell_type": "code",
   "execution_count": 152,
   "metadata": {},
   "outputs": [
    {
     "name": "stdout",
     "output_type": "stream",
     "text": [
      "0.699771002502553\n",
      "0.6906731401107624\n"
     ]
    }
   ],
   "source": [
    "y = clean_df['Price']\n",
    "x = clean_df.drop(['Price','engineCC','FuelType_Diesel','mileage','Location_Kochi','Location_Delhi',\n",
    "                  'FuelType_LPG','Location_Pune','OwnerType_Fourth +ACY- Above'],axis=1)\n",
    "xtrain,xtest,ytrain,ytest = train_test_split(x,y,test_size=0.25,random_state=1234)\n",
    "\n",
    "xtrain.shape,ytrain.shape,xtest.shape,ytest.shape\n",
    "\n",
    "new_model = LinearRegression()\n",
    "\n",
    "new_model.fit(xtrain,ytrain)\n",
    "\n",
    "print(new_model.score(xtrain,ytrain))\n",
    "\n",
    "print(new_model.score(xtest,ytest))"
   ]
  },
  {
   "cell_type": "code",
   "execution_count": 153,
   "metadata": {},
   "outputs": [
    {
     "data": {
      "text/html": [
       "<div>\n",
       "<style scoped>\n",
       "    .dataframe tbody tr th:only-of-type {\n",
       "        vertical-align: middle;\n",
       "    }\n",
       "\n",
       "    .dataframe tbody tr th {\n",
       "        vertical-align: top;\n",
       "    }\n",
       "\n",
       "    .dataframe thead th {\n",
       "        text-align: right;\n",
       "    }\n",
       "</style>\n",
       "<table border=\"1\" class=\"dataframe\">\n",
       "  <thead>\n",
       "    <tr style=\"text-align: right;\">\n",
       "      <th></th>\n",
       "      <th>Variables</th>\n",
       "      <th>coefficients</th>\n",
       "      <th>p_value</th>\n",
       "    </tr>\n",
       "  </thead>\n",
       "  <tbody>\n",
       "    <tr>\n",
       "      <th>7</th>\n",
       "      <td>Location_Jaipur</td>\n",
       "      <td>0.652</td>\n",
       "      <td>0.044</td>\n",
       "    </tr>\n",
       "    <tr>\n",
       "      <th>1</th>\n",
       "      <td>Odometer</td>\n",
       "      <td>0.000</td>\n",
       "      <td>0.036</td>\n",
       "    </tr>\n",
       "    <tr>\n",
       "      <th>9</th>\n",
       "      <td>Location_Mumbai</td>\n",
       "      <td>-0.594</td>\n",
       "      <td>0.020</td>\n",
       "    </tr>\n",
       "    <tr>\n",
       "      <th>13</th>\n",
       "      <td>OwnerType_Second</td>\n",
       "      <td>-0.540</td>\n",
       "      <td>0.020</td>\n",
       "    </tr>\n",
       "    <tr>\n",
       "      <th>10</th>\n",
       "      <td>FuelType_Electric</td>\n",
       "      <td>8.994</td>\n",
       "      <td>0.019</td>\n",
       "    </tr>\n",
       "    <tr>\n",
       "      <th>14</th>\n",
       "      <td>OwnerType_Third</td>\n",
       "      <td>1.657</td>\n",
       "      <td>0.011</td>\n",
       "    </tr>\n",
       "    <tr>\n",
       "      <th>8</th>\n",
       "      <td>Location_Kolkata</td>\n",
       "      <td>-0.989</td>\n",
       "      <td>0.002</td>\n",
       "    </tr>\n",
       "    <tr>\n",
       "      <th>4</th>\n",
       "      <td>Location_Chennai</td>\n",
       "      <td>1.037</td>\n",
       "      <td>0.001</td>\n",
       "    </tr>\n",
       "    <tr>\n",
       "      <th>0</th>\n",
       "      <td>Age</td>\n",
       "      <td>-0.917</td>\n",
       "      <td>0.000</td>\n",
       "    </tr>\n",
       "    <tr>\n",
       "      <th>2</th>\n",
       "      <td>powerBhp</td>\n",
       "      <td>0.141</td>\n",
       "      <td>0.000</td>\n",
       "    </tr>\n",
       "    <tr>\n",
       "      <th>3</th>\n",
       "      <td>Location_Bangalore</td>\n",
       "      <td>1.970</td>\n",
       "      <td>0.000</td>\n",
       "    </tr>\n",
       "    <tr>\n",
       "      <th>5</th>\n",
       "      <td>Location_Coimbatore</td>\n",
       "      <td>2.353</td>\n",
       "      <td>0.000</td>\n",
       "    </tr>\n",
       "    <tr>\n",
       "      <th>6</th>\n",
       "      <td>Location_Hyderabad</td>\n",
       "      <td>1.908</td>\n",
       "      <td>0.000</td>\n",
       "    </tr>\n",
       "    <tr>\n",
       "      <th>11</th>\n",
       "      <td>FuelType_Petrol</td>\n",
       "      <td>-1.323</td>\n",
       "      <td>0.000</td>\n",
       "    </tr>\n",
       "    <tr>\n",
       "      <th>12</th>\n",
       "      <td>Transmission_Manual</td>\n",
       "      <td>-2.684</td>\n",
       "      <td>0.000</td>\n",
       "    </tr>\n",
       "  </tbody>\n",
       "</table>\n",
       "</div>"
      ],
      "text/plain": [
       "              Variables  coefficients  p_value\n",
       "7       Location_Jaipur         0.652    0.044\n",
       "1              Odometer         0.000    0.036\n",
       "9       Location_Mumbai        -0.594    0.020\n",
       "13     OwnerType_Second        -0.540    0.020\n",
       "10    FuelType_Electric         8.994    0.019\n",
       "14      OwnerType_Third         1.657    0.011\n",
       "8      Location_Kolkata        -0.989    0.002\n",
       "4      Location_Chennai         1.037    0.001\n",
       "0                   Age        -0.917    0.000\n",
       "2              powerBhp         0.141    0.000\n",
       "3    Location_Bangalore         1.970    0.000\n",
       "5   Location_Coimbatore         2.353    0.000\n",
       "6    Location_Hyderabad         1.908    0.000\n",
       "11      FuelType_Petrol        -1.323    0.000\n",
       "12  Transmission_Manual        -2.684    0.000"
      ]
     },
     "execution_count": 153,
     "metadata": {},
     "output_type": "execute_result"
    }
   ],
   "source": [
    "resultsDF = pd.DataFrame()\n",
    "resultsDF['Variables'] = pd.Series(xtrain.columns)\n",
    "resultsDF['coefficients'] = pd.Series(np.round(new_model.coef_,3))\n",
    "resultsDF['p_value'] = pd.Series(np.round(ReturnPValue(new_model,xtrain,ytrain),3))\n",
    "resultsDF.sort_values(by='p_value',ascending=False)"
   ]
  },
  {
   "cell_type": "code",
   "execution_count": 154,
   "metadata": {},
   "outputs": [
    {
     "name": "stdout",
     "output_type": "stream",
     "text": [
      "0.6996154616418608\n",
      "0.6912643086728383\n"
     ]
    }
   ],
   "source": [
    "y = clean_df['Price']\n",
    "x = clean_df.drop(['Price','engineCC','FuelType_Diesel','mileage','Location_Kochi','Location_Delhi',\n",
    "                  'FuelType_LPG','Location_Pune','OwnerType_Fourth +ACY- Above','Odometer'],axis=1)\n",
    "xtrain,xtest,ytrain,ytest = train_test_split(x,y,test_size=0.25,random_state=1234)\n",
    "\n",
    "xtrain.shape,ytrain.shape,xtest.shape,ytest.shape\n",
    "\n",
    "new_model = LinearRegression()\n",
    "\n",
    "new_model.fit(xtrain,ytrain)\n",
    "\n",
    "print(new_model.score(xtrain,ytrain))\n",
    "\n",
    "print(new_model.score(xtest,ytest))"
   ]
  },
  {
   "cell_type": "code",
   "execution_count": 155,
   "metadata": {},
   "outputs": [
    {
     "data": {
      "text/html": [
       "<div>\n",
       "<style scoped>\n",
       "    .dataframe tbody tr th:only-of-type {\n",
       "        vertical-align: middle;\n",
       "    }\n",
       "\n",
       "    .dataframe tbody tr th {\n",
       "        vertical-align: top;\n",
       "    }\n",
       "\n",
       "    .dataframe thead th {\n",
       "        text-align: right;\n",
       "    }\n",
       "</style>\n",
       "<table border=\"1\" class=\"dataframe\">\n",
       "  <thead>\n",
       "    <tr style=\"text-align: right;\">\n",
       "      <th></th>\n",
       "      <th>Variables</th>\n",
       "      <th>coefficients</th>\n",
       "      <th>p_value</th>\n",
       "    </tr>\n",
       "  </thead>\n",
       "  <tbody>\n",
       "    <tr>\n",
       "      <th>6</th>\n",
       "      <td>Location_Jaipur</td>\n",
       "      <td>0.663</td>\n",
       "      <td>0.042</td>\n",
       "    </tr>\n",
       "    <tr>\n",
       "      <th>9</th>\n",
       "      <td>FuelType_Electric</td>\n",
       "      <td>8.972</td>\n",
       "      <td>0.020</td>\n",
       "    </tr>\n",
       "    <tr>\n",
       "      <th>12</th>\n",
       "      <td>OwnerType_Second</td>\n",
       "      <td>-0.540</td>\n",
       "      <td>0.020</td>\n",
       "    </tr>\n",
       "    <tr>\n",
       "      <th>8</th>\n",
       "      <td>Location_Mumbai</td>\n",
       "      <td>-0.610</td>\n",
       "      <td>0.017</td>\n",
       "    </tr>\n",
       "    <tr>\n",
       "      <th>13</th>\n",
       "      <td>OwnerType_Third</td>\n",
       "      <td>1.654</td>\n",
       "      <td>0.011</td>\n",
       "    </tr>\n",
       "    <tr>\n",
       "      <th>3</th>\n",
       "      <td>Location_Chennai</td>\n",
       "      <td>1.073</td>\n",
       "      <td>0.001</td>\n",
       "    </tr>\n",
       "    <tr>\n",
       "      <th>7</th>\n",
       "      <td>Location_Kolkata</td>\n",
       "      <td>-1.010</td>\n",
       "      <td>0.001</td>\n",
       "    </tr>\n",
       "    <tr>\n",
       "      <th>0</th>\n",
       "      <td>Age</td>\n",
       "      <td>-0.911</td>\n",
       "      <td>0.000</td>\n",
       "    </tr>\n",
       "    <tr>\n",
       "      <th>1</th>\n",
       "      <td>powerBhp</td>\n",
       "      <td>0.141</td>\n",
       "      <td>0.000</td>\n",
       "    </tr>\n",
       "    <tr>\n",
       "      <th>2</th>\n",
       "      <td>Location_Bangalore</td>\n",
       "      <td>1.963</td>\n",
       "      <td>0.000</td>\n",
       "    </tr>\n",
       "    <tr>\n",
       "      <th>4</th>\n",
       "      <td>Location_Coimbatore</td>\n",
       "      <td>2.348</td>\n",
       "      <td>0.000</td>\n",
       "    </tr>\n",
       "    <tr>\n",
       "      <th>5</th>\n",
       "      <td>Location_Hyderabad</td>\n",
       "      <td>1.915</td>\n",
       "      <td>0.000</td>\n",
       "    </tr>\n",
       "    <tr>\n",
       "      <th>10</th>\n",
       "      <td>FuelType_Petrol</td>\n",
       "      <td>-1.351</td>\n",
       "      <td>0.000</td>\n",
       "    </tr>\n",
       "    <tr>\n",
       "      <th>11</th>\n",
       "      <td>Transmission_Manual</td>\n",
       "      <td>-2.671</td>\n",
       "      <td>0.000</td>\n",
       "    </tr>\n",
       "  </tbody>\n",
       "</table>\n",
       "</div>"
      ],
      "text/plain": [
       "              Variables  coefficients  p_value\n",
       "6       Location_Jaipur         0.663    0.042\n",
       "9     FuelType_Electric         8.972    0.020\n",
       "12     OwnerType_Second        -0.540    0.020\n",
       "8       Location_Mumbai        -0.610    0.017\n",
       "13      OwnerType_Third         1.654    0.011\n",
       "3      Location_Chennai         1.073    0.001\n",
       "7      Location_Kolkata        -1.010    0.001\n",
       "0                   Age        -0.911    0.000\n",
       "1              powerBhp         0.141    0.000\n",
       "2    Location_Bangalore         1.963    0.000\n",
       "4   Location_Coimbatore         2.348    0.000\n",
       "5    Location_Hyderabad         1.915    0.000\n",
       "10      FuelType_Petrol        -1.351    0.000\n",
       "11  Transmission_Manual        -2.671    0.000"
      ]
     },
     "execution_count": 155,
     "metadata": {},
     "output_type": "execute_result"
    }
   ],
   "source": [
    "resultsDF = pd.DataFrame()\n",
    "resultsDF['Variables'] = pd.Series(xtrain.columns)\n",
    "resultsDF['coefficients'] = pd.Series(np.round(new_model.coef_,3))\n",
    "resultsDF['p_value'] = pd.Series(np.round(ReturnPValue(new_model,xtrain,ytrain),3))\n",
    "resultsDF.sort_values(by='p_value',ascending=False)"
   ]
  },
  {
   "cell_type": "code",
   "execution_count": 156,
   "metadata": {},
   "outputs": [],
   "source": [
    "# Null: beta estimates are = 0\n",
    "# Alt : beta estimates are != 0"
   ]
  },
  {
   "cell_type": "code",
   "execution_count": 157,
   "metadata": {},
   "outputs": [
    {
     "data": {
      "text/html": [
       "<div>\n",
       "<style scoped>\n",
       "    .dataframe tbody tr th:only-of-type {\n",
       "        vertical-align: middle;\n",
       "    }\n",
       "\n",
       "    .dataframe tbody tr th {\n",
       "        vertical-align: top;\n",
       "    }\n",
       "\n",
       "    .dataframe thead th {\n",
       "        text-align: right;\n",
       "    }\n",
       "</style>\n",
       "<table border=\"1\" class=\"dataframe\">\n",
       "  <thead>\n",
       "    <tr style=\"text-align: right;\">\n",
       "      <th></th>\n",
       "      <th>Variables</th>\n",
       "      <th>coefficients</th>\n",
       "      <th>p_value</th>\n",
       "    </tr>\n",
       "  </thead>\n",
       "  <tbody>\n",
       "    <tr>\n",
       "      <th>9</th>\n",
       "      <td>FuelType_Electric</td>\n",
       "      <td>8.972</td>\n",
       "      <td>0.020</td>\n",
       "    </tr>\n",
       "    <tr>\n",
       "      <th>4</th>\n",
       "      <td>Location_Coimbatore</td>\n",
       "      <td>2.348</td>\n",
       "      <td>0.000</td>\n",
       "    </tr>\n",
       "    <tr>\n",
       "      <th>2</th>\n",
       "      <td>Location_Bangalore</td>\n",
       "      <td>1.963</td>\n",
       "      <td>0.000</td>\n",
       "    </tr>\n",
       "    <tr>\n",
       "      <th>5</th>\n",
       "      <td>Location_Hyderabad</td>\n",
       "      <td>1.915</td>\n",
       "      <td>0.000</td>\n",
       "    </tr>\n",
       "    <tr>\n",
       "      <th>13</th>\n",
       "      <td>OwnerType_Third</td>\n",
       "      <td>1.654</td>\n",
       "      <td>0.011</td>\n",
       "    </tr>\n",
       "    <tr>\n",
       "      <th>3</th>\n",
       "      <td>Location_Chennai</td>\n",
       "      <td>1.073</td>\n",
       "      <td>0.001</td>\n",
       "    </tr>\n",
       "    <tr>\n",
       "      <th>6</th>\n",
       "      <td>Location_Jaipur</td>\n",
       "      <td>0.663</td>\n",
       "      <td>0.042</td>\n",
       "    </tr>\n",
       "    <tr>\n",
       "      <th>1</th>\n",
       "      <td>powerBhp</td>\n",
       "      <td>0.141</td>\n",
       "      <td>0.000</td>\n",
       "    </tr>\n",
       "    <tr>\n",
       "      <th>12</th>\n",
       "      <td>OwnerType_Second</td>\n",
       "      <td>-0.540</td>\n",
       "      <td>0.020</td>\n",
       "    </tr>\n",
       "    <tr>\n",
       "      <th>8</th>\n",
       "      <td>Location_Mumbai</td>\n",
       "      <td>-0.610</td>\n",
       "      <td>0.017</td>\n",
       "    </tr>\n",
       "    <tr>\n",
       "      <th>0</th>\n",
       "      <td>Age</td>\n",
       "      <td>-0.911</td>\n",
       "      <td>0.000</td>\n",
       "    </tr>\n",
       "    <tr>\n",
       "      <th>7</th>\n",
       "      <td>Location_Kolkata</td>\n",
       "      <td>-1.010</td>\n",
       "      <td>0.001</td>\n",
       "    </tr>\n",
       "    <tr>\n",
       "      <th>10</th>\n",
       "      <td>FuelType_Petrol</td>\n",
       "      <td>-1.351</td>\n",
       "      <td>0.000</td>\n",
       "    </tr>\n",
       "    <tr>\n",
       "      <th>11</th>\n",
       "      <td>Transmission_Manual</td>\n",
       "      <td>-2.671</td>\n",
       "      <td>0.000</td>\n",
       "    </tr>\n",
       "  </tbody>\n",
       "</table>\n",
       "</div>"
      ],
      "text/plain": [
       "              Variables  coefficients  p_value\n",
       "9     FuelType_Electric         8.972    0.020\n",
       "4   Location_Coimbatore         2.348    0.000\n",
       "2    Location_Bangalore         1.963    0.000\n",
       "5    Location_Hyderabad         1.915    0.000\n",
       "13      OwnerType_Third         1.654    0.011\n",
       "3      Location_Chennai         1.073    0.001\n",
       "6       Location_Jaipur         0.663    0.042\n",
       "1              powerBhp         0.141    0.000\n",
       "12     OwnerType_Second        -0.540    0.020\n",
       "8       Location_Mumbai        -0.610    0.017\n",
       "0                   Age        -0.911    0.000\n",
       "7      Location_Kolkata        -1.010    0.001\n",
       "10      FuelType_Petrol        -1.351    0.000\n",
       "11  Transmission_Manual        -2.671    0.000"
      ]
     },
     "execution_count": 157,
     "metadata": {},
     "output_type": "execute_result"
    }
   ],
   "source": [
    "resultsDF.sort_values(by='coefficients',ascending=False)"
   ]
  },
  {
   "cell_type": "code",
   "execution_count": 158,
   "metadata": {},
   "outputs": [],
   "source": [
    "# The Above table has the best result so far, we can explore additional modeling options and see how much \n",
    "# improvement we are getting"
   ]
  },
  {
   "cell_type": "code",
   "execution_count": 159,
   "metadata": {},
   "outputs": [
    {
     "name": "stdout",
     "output_type": "stream",
     "text": [
      "0.7\n",
      "0.69\n"
     ]
    }
   ],
   "source": [
    "print(np.round(new_model.score(xtrain,ytrain),2))\n",
    "\n",
    "print(np.round(new_model.score(xtest,ytest),2))"
   ]
  },
  {
   "cell_type": "code",
   "execution_count": 160,
   "metadata": {},
   "outputs": [],
   "source": [
    "# Since the difference between training score and test score is within +/- 2%, the model is acceptable\n",
    "# there is no sign of overfitting here\n",
    "# all the assumptions are also met\n",
    "# the correlation between actual and predicted on the test is close to 82%\n",
    "# hence this is the final model"
   ]
  }
 ],
 "metadata": {
  "kernelspec": {
   "display_name": "Python 3",
   "language": "python",
   "name": "python3"
  },
  "language_info": {
   "codemirror_mode": {
    "name": "ipython",
    "version": 3
   },
   "file_extension": ".py",
   "mimetype": "text/x-python",
   "name": "python",
   "nbconvert_exporter": "python",
   "pygments_lexer": "ipython3",
   "version": "3.8.8"
  }
 },
 "nbformat": 4,
 "nbformat_minor": 2
}
